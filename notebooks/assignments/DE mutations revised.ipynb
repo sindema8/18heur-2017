{
 "cells": [
  {
   "cell_type": "markdown",
   "metadata": {},
   "source": [
    "# Mutations for differential evolution revised"
   ]
  },
  {
   "cell_type": "markdown",
   "metadata": {},
   "source": [
    "In this paper, core operation for Differential Evolution is researched, mutation. For DE, different types of mutation can easily change a chance to susccess for any function, as it strongly defines behavior of heuristics. With non-random changes to algorithm via mutation, it can be adapted to single-modal functions with stress to exploitation of current best solution or to multi-modal functions, encouraging exploration over exploitation through more random-wise mutations.\n",
    "\n",
    "Several widely-used mutations are presented and its advantages and disadvantages are described with example of finding solution to one of De Jong testing functions - single-modal Rosenbrock 2D \"banana\" function. It is expected, that mutations using best candidates will be more successful than the one with random search, as the heuristic can not stuck in local minimum, for the Rosenbrock function has only one, which happens to be global minimum as well."
   ]
  },
  {
   "cell_type": "code",
   "execution_count": 9,
   "metadata": {
    "collapsed": false
   },
   "outputs": [
    {
     "name": "stdout",
     "output_type": "stream",
     "text": [
      "The autoreload extension is already loaded. To reload it, use:\n",
      "  %reload_ext autoreload\n"
     ]
    }
   ],
   "source": [
    "import sys\n",
    "import os\n",
    "pwd = %pwd\n",
    "sys.path.append(os.path.join(pwd, '../../src'))\n",
    "\n",
    "# Ensure modules are reloaded on any change (very useful when developing code on the fly)\n",
    "get_ipython().magic('load_ext autoreload')\n",
    "get_ipython().magic('autoreload 2')"
   ]
  },
  {
   "cell_type": "code",
   "execution_count": 10,
   "metadata": {
    "collapsed": true
   },
   "outputs": [],
   "source": [
    "# Import external libraries\n",
    "import numpy as np\n",
    "import pandas as pd\n",
    "from tqdm import tqdm_notebook"
   ]
  },
  {
   "cell_type": "markdown",
   "metadata": {},
   "source": [
    "### Evaluation\n",
    "\n",
    "Heuristics results will be evaluated with standard criteria:\n",
    "\n",
    "* Reliability (REL) - statistical probability of successful run\n",
    "* Mean Number of Objective Function Evaluations (MNE)\n",
    "* Feokristov criterion (FEO) - MNE/REL"
   ]
  },
  {
   "cell_type": "code",
   "execution_count": 11,
   "metadata": {
    "collapsed": true
   },
   "outputs": [],
   "source": [
    "# Define criteria for heuristics evaluation\n",
    "def rel(x):\n",
    "    return len([n for n in x if n < np.inf])/len(x)\n",
    "def mne(x):\n",
    "    return np.mean([n for n in x if n < np.inf])\n",
    "def feo(x):\n",
    "    return mne(x)/rel(x)"
   ]
  },
  {
   "cell_type": "code",
   "execution_count": 12,
   "metadata": {
    "collapsed": false
   },
   "outputs": [],
   "source": [
    "# Import objective function and heuristics dependencies\n",
    "from objfun import Rosenbrock, Schwefel\n",
    "from heur import DifferentialEvolution\n",
    "from de_mutations import deRand, deBest, deRand2, deBest2, deCurrentToBest1, deRandToBest1"
   ]
  },
  {
   "cell_type": "code",
   "execution_count": 13,
   "metadata": {
    "collapsed": true
   },
   "outputs": [],
   "source": [
    "NUM_RUNS = 100\n",
    "maxeval = 1000"
   ]
  },
  {
   "cell_type": "markdown",
   "metadata": {},
   "source": [
    "### Rosenbrock function\n",
    "\n",
    "For testing purposes - different tuning of parameters for given mutations, Rosenbrock function will be used. As the parameters tuning is question of each function it self, there is no certainity, that the same set of parameteres for given mutation will be optimal for different function (i.e. No Free Lunch theorem).\n",
    "\n",
    "Definition of function described here (http://www.geatbx.com/docu/fcnindex-01.html#P129_5426) will be used."
   ]
  },
  {
   "cell_type": "code",
   "execution_count": 14,
   "metadata": {
    "collapsed": true
   },
   "outputs": [],
   "source": [
    "rosenbrock2 = Rosenbrock(n=2, eps=0.1)\n",
    "fstar = rosenbrock2.evaluate(np.ones(2))"
   ]
  },
  {
   "cell_type": "markdown",
   "metadata": {},
   "source": [
    "### DE parameters"
   ]
  },
  {
   "cell_type": "markdown",
   "metadata": {},
   "source": [
    "For Differential evolution three parameteres need to be supplied, all of the are very important setting for all the mutations revised in this notebook.\n",
    "\n",
    "* N: population size, to properly test all the mutations, has to be $> 5$ (some mutations need bigger amount of individuals),\n",
    "* CR: crossover probability,\n",
    "* F: differential weight, has to be in $[0,2]$."
   ]
  },
  {
   "cell_type": "markdown",
   "metadata": {},
   "source": [
    "### Mutations in short\n",
    "\n",
    "Implemented mutations are the ones originally presented by publicators of DE Price and Storn. This subset of known mutations contains both explorative (Rand1,Rand2) as exhaustive (Best1,Best2) approaches and in addition some others, trying to combine both. There is always trade-off between exploration and exhaustion, which has to be handled accordingly and mutations has to be tailored to the needs of objective function (i.e. if the function is multimodal, different mutation has to be used - in favor of exploration - than in case of unimodal.) Following brief list contains all the implemented mutations and their definition.\n",
    "\n",
    "Numbers $r_1, \\ldots, r_5$ are random numbers from range $1, \\ldots, N$. In all cases, $x_{current} \\ne x_{r_1} \\ne \\ldots \\ne x_{r_5} \\ne x_{best}$\n",
    "\n",
    "* **Rand1** - simplest of random mutations, $x_{new} = x_{r_1} + F (x_{r_2} - x_{r_3})$.\n",
    "\n",
    "* **Rand2** - similar to deRand, uses more individuals, hence the need for higher value of $N$, $x_{new} = x_{r_1} + F (x_{r_2} - x_{r_3}) + F (x_{r_4} - x_{r_5})$.\n",
    "\n",
    "* **Best1** - computationally harder, especially for bigger populations, because of the search for the best individual in population, denoted $x_{best}$, $x_{new} = x_{best} + F (x_{r_1} - x_{r_2})$.\n",
    "\n",
    "* **Best2** - similar to deBest, uses more individuals, $x_{new} = x_{best} + F (x_{r_1} - x_{r_2})+ F (x_{r_3} - x_{r_4})$.\n",
    "\n",
    "* **Current to Best** - $x_{new} = x_{current} + F (x_{best} - x_{current})+ F (x_{r_1} - x_{r_2})$.\n",
    "\n",
    "* **Rand to Best** - $x_{new} = x_{r_1} + F (x_{best} - x_{r_1})+ F (x_{r_2} - x_{r_3})$."
   ]
  },
  {
   "cell_type": "markdown",
   "metadata": {},
   "source": [
    "### Experiment setup"
   ]
  },
  {
   "cell_type": "code",
   "execution_count": 15,
   "metadata": {
    "collapsed": true
   },
   "outputs": [],
   "source": [
    "def experiment_de(of, maxeval, num_runs, N, CR, F, mutation):\n",
    "    results = []\n",
    "    for i in tqdm_notebook(range(num_runs)):\n",
    "        result = DifferentialEvolution(of, maxeval=maxeval, N=N, CR=CR, F=F, mutation=mutation['algorithm']).search()\n",
    "        result['run'] = i\n",
    "        result['heur'] = 'DE_{}_{}_{}_{}'.format(N, CR, F, mutation['name'])\n",
    "        results.append(result)\n",
    "    return pd.DataFrame(results, columns=['heur', 'run','best_x', 'best_y', 'neval'])"
   ]
  },
  {
   "cell_type": "markdown",
   "metadata": {},
   "source": [
    "### Initial set of parameters\n",
    "Peek at the results with some initial set of parameters.\n",
    "\n",
    "* Increase in population size gives better chance to find good solution, but is only useful for mutations with search for the best individual, which are deBest, deBest2, deCurrentToBest1 and deRandToBest1.\n",
    "\n",
    "* Increase in F puts more emphasis on the mutation itself and increase in CR raises a chance of mutation."
   ]
  },
  {
   "cell_type": "code",
   "execution_count": 16,
   "metadata": {
    "collapsed": false
   },
   "outputs": [],
   "source": [
    "def initMutations(F, N, CR):\n",
    "    mutations = [\n",
    "    {'algorithm': deRand(F=F, N=N, CR=CR), 'name': 'deRand1'},\n",
    "    {'algorithm': deBest(F=F, N=N, CR=CR), 'name': 'deBest1'},\n",
    "    {'algorithm': deRand2(F=F, N=N, CR=CR), 'name': 'deRand2'},\n",
    "    {'algorithm': deBest2(F=F, N=N, CR=CR), 'name': 'deBest2'},\n",
    "    {'algorithm': deCurrentToBest1(F=F, N=N, CR=CR), 'name': 'deCurrentToBest1'},\n",
    "    {'algorithm': deRandToBest1(F=F, N=N, CR=CR), 'name': 'deRandToBest1'},\n",
    "    ]\n",
    "    return mutations"
   ]
  },
  {
   "cell_type": "code",
   "execution_count": 17,
   "metadata": {
    "collapsed": false
   },
   "outputs": [],
   "source": [
    "F=1\n",
    "N=6\n",
    "CR=0.5"
   ]
  },
  {
   "cell_type": "code",
   "execution_count": 18,
   "metadata": {
    "collapsed": true
   },
   "outputs": [],
   "source": [
    "mutations = initMutations(F, N, CR)"
   ]
  },
  {
   "cell_type": "code",
   "execution_count": 19,
   "metadata": {
    "collapsed": false
   },
   "outputs": [
    {
     "name": "stdout",
     "output_type": "stream",
     "text": [
      "\n",
      "\n",
      "\n",
      "\n",
      "\n",
      "\n"
     ]
    }
   ],
   "source": [
    "de_results = pd.DataFrame()\n",
    "for mutation in mutations:\n",
    "    de_res = experiment_de(of=rosenbrock2, maxeval=maxeval, num_runs=NUM_RUNS, N=N, CR=CR, F=F, mutation=mutation)\n",
    "    de_results = pd.concat([de_results, de_res], axis=0)"
   ]
  },
  {
   "cell_type": "code",
   "execution_count": 20,
   "metadata": {
    "collapsed": false
   },
   "outputs": [
    {
     "data": {
      "text/html": [
       "<div>\n",
       "<table border=\"1\" class=\"dataframe\">\n",
       "  <thead>\n",
       "    <tr style=\"text-align: right;\">\n",
       "      <th></th>\n",
       "      <th>heur</th>\n",
       "      <th>rel</th>\n",
       "      <th>mne</th>\n",
       "      <th>feo</th>\n",
       "    </tr>\n",
       "  </thead>\n",
       "  <tbody>\n",
       "    <tr>\n",
       "      <th>0</th>\n",
       "      <td>DE_6_0.5_1_deBest1</td>\n",
       "      <td>0.25</td>\n",
       "      <td>136.960000</td>\n",
       "      <td>547.840000</td>\n",
       "    </tr>\n",
       "    <tr>\n",
       "      <th>1</th>\n",
       "      <td>DE_6_0.5_1_deBest2</td>\n",
       "      <td>0.06</td>\n",
       "      <td>25.166667</td>\n",
       "      <td>419.444444</td>\n",
       "    </tr>\n",
       "    <tr>\n",
       "      <th>2</th>\n",
       "      <td>DE_6_0.5_1_deCurrentToBest1</td>\n",
       "      <td>0.26</td>\n",
       "      <td>145.807692</td>\n",
       "      <td>560.798817</td>\n",
       "    </tr>\n",
       "    <tr>\n",
       "      <th>3</th>\n",
       "      <td>DE_6_0.5_1_deRand1</td>\n",
       "      <td>0.35</td>\n",
       "      <td>158.485714</td>\n",
       "      <td>452.816327</td>\n",
       "    </tr>\n",
       "    <tr>\n",
       "      <th>4</th>\n",
       "      <td>DE_6_0.5_1_deRand2</td>\n",
       "      <td>0.54</td>\n",
       "      <td>387.833333</td>\n",
       "      <td>718.209877</td>\n",
       "    </tr>\n",
       "    <tr>\n",
       "      <th>5</th>\n",
       "      <td>DE_6_0.5_1_deRandToBest1</td>\n",
       "      <td>0.36</td>\n",
       "      <td>166.805556</td>\n",
       "      <td>463.348765</td>\n",
       "    </tr>\n",
       "  </tbody>\n",
       "</table>\n",
       "</div>"
      ],
      "text/plain": [
       "                          heur   rel         mne         feo\n",
       "0           DE_6_0.5_1_deBest1  0.25  136.960000  547.840000\n",
       "1           DE_6_0.5_1_deBest2  0.06   25.166667  419.444444\n",
       "2  DE_6_0.5_1_deCurrentToBest1  0.26  145.807692  560.798817\n",
       "3           DE_6_0.5_1_deRand1  0.35  158.485714  452.816327\n",
       "4           DE_6_0.5_1_deRand2  0.54  387.833333  718.209877\n",
       "5     DE_6_0.5_1_deRandToBest1  0.36  166.805556  463.348765"
      ]
     },
     "execution_count": 20,
     "metadata": {},
     "output_type": "execute_result"
    }
   ],
   "source": [
    "\n",
    "de_results_pivot = de_results.pivot_table(\n",
    "    index=['heur'],\n",
    "    values=['neval'],\n",
    "    aggfunc=(rel, mne, feo)\n",
    ")['neval']\n",
    "de_results_pivot = de_results_pivot.reset_index()\n",
    "\n",
    "de_results_pivot"
   ]
  },
  {
   "cell_type": "markdown",
   "metadata": {
    "collapsed": true
   },
   "source": [
    "From the first test, it can be seen, that rand1 mutation was best. It can be said, the mutations with selection of best individual were worse (best1 and best2). The reason could be small population, with the increase in population, these mutations could yield better results."
   ]
  },
  {
   "cell_type": "code",
   "execution_count": 70,
   "metadata": {
    "collapsed": true
   },
   "outputs": [],
   "source": [
    "F=1\n",
    "N=12\n",
    "CR=0.5"
   ]
  },
  {
   "cell_type": "code",
   "execution_count": 22,
   "metadata": {
    "collapsed": true
   },
   "outputs": [],
   "source": [
    "mutations = initMutations(F, N, CR)"
   ]
  },
  {
   "cell_type": "code",
   "execution_count": 23,
   "metadata": {
    "collapsed": false
   },
   "outputs": [
    {
     "name": "stdout",
     "output_type": "stream",
     "text": [
      "\n",
      "\n",
      "\n",
      "\n",
      "\n",
      "\n"
     ]
    }
   ],
   "source": [
    "de_results = pd.DataFrame()\n",
    "for mutation in mutations:\n",
    "    de_res = experiment_de(of=rosenbrock2, maxeval=maxeval, num_runs=NUM_RUNS, N=N, CR=CR, F=F, mutation=mutation)\n",
    "    de_results = pd.concat([de_results, de_res], axis=0)"
   ]
  },
  {
   "cell_type": "code",
   "execution_count": 24,
   "metadata": {
    "collapsed": false
   },
   "outputs": [
    {
     "data": {
      "text/html": [
       "<div>\n",
       "<table border=\"1\" class=\"dataframe\">\n",
       "  <thead>\n",
       "    <tr style=\"text-align: right;\">\n",
       "      <th></th>\n",
       "      <th>heur</th>\n",
       "      <th>rel</th>\n",
       "      <th>mne</th>\n",
       "      <th>feo</th>\n",
       "    </tr>\n",
       "  </thead>\n",
       "  <tbody>\n",
       "    <tr>\n",
       "      <th>0</th>\n",
       "      <td>DE_12_0.5_1_deBest1</td>\n",
       "      <td>0.89</td>\n",
       "      <td>358.730337</td>\n",
       "      <td>403.067794</td>\n",
       "    </tr>\n",
       "    <tr>\n",
       "      <th>1</th>\n",
       "      <td>DE_12_0.5_1_deBest2</td>\n",
       "      <td>0.73</td>\n",
       "      <td>421.767123</td>\n",
       "      <td>577.763183</td>\n",
       "    </tr>\n",
       "    <tr>\n",
       "      <th>2</th>\n",
       "      <td>DE_12_0.5_1_deCurrentToBest1</td>\n",
       "      <td>0.89</td>\n",
       "      <td>343.943820</td>\n",
       "      <td>386.453731</td>\n",
       "    </tr>\n",
       "    <tr>\n",
       "      <th>3</th>\n",
       "      <td>DE_12_0.5_1_deRand1</td>\n",
       "      <td>0.94</td>\n",
       "      <td>397.372340</td>\n",
       "      <td>422.736532</td>\n",
       "    </tr>\n",
       "    <tr>\n",
       "      <th>4</th>\n",
       "      <td>DE_12_0.5_1_deRand2</td>\n",
       "      <td>0.73</td>\n",
       "      <td>392.986301</td>\n",
       "      <td>538.337399</td>\n",
       "    </tr>\n",
       "    <tr>\n",
       "      <th>5</th>\n",
       "      <td>DE_12_0.5_1_deRandToBest1</td>\n",
       "      <td>0.87</td>\n",
       "      <td>437.643678</td>\n",
       "      <td>503.038711</td>\n",
       "    </tr>\n",
       "  </tbody>\n",
       "</table>\n",
       "</div>"
      ],
      "text/plain": [
       "                           heur   rel         mne         feo\n",
       "0           DE_12_0.5_1_deBest1  0.89  358.730337  403.067794\n",
       "1           DE_12_0.5_1_deBest2  0.73  421.767123  577.763183\n",
       "2  DE_12_0.5_1_deCurrentToBest1  0.89  343.943820  386.453731\n",
       "3           DE_12_0.5_1_deRand1  0.94  397.372340  422.736532\n",
       "4           DE_12_0.5_1_deRand2  0.73  392.986301  538.337399\n",
       "5     DE_12_0.5_1_deRandToBest1  0.87  437.643678  503.038711"
      ]
     },
     "execution_count": 24,
     "metadata": {},
     "output_type": "execute_result"
    }
   ],
   "source": [
    "\n",
    "de_results_pivot = de_results.pivot_table(\n",
    "    index=['heur'],\n",
    "    values=['neval'],\n",
    "    aggfunc=(rel, mne, feo)\n",
    ")['neval']\n",
    "de_results_pivot = de_results_pivot.reset_index()\n",
    "\n",
    "de_results_pivot"
   ]
  },
  {
   "cell_type": "markdown",
   "metadata": {},
   "source": [
    "The reliability of all the experiments rose with the growth in population, most significantly for best1 and best2. According to Feocristov criterion, best1 was the best for this run, due to small number of evaluation in opposition to rand1, which has high reliability, but also needs more evaluations."
   ]
  },
  {
   "cell_type": "markdown",
   "metadata": {},
   "source": [
    "Lets see, how increase of desired precision of outcome affect these results."
   ]
  },
  {
   "cell_type": "code",
   "execution_count": 25,
   "metadata": {
    "collapsed": true
   },
   "outputs": [],
   "source": [
    "rosenbrock2 = Rosenbrock(n=2, eps=0.001)"
   ]
  },
  {
   "cell_type": "code",
   "execution_count": 26,
   "metadata": {
    "collapsed": false,
    "scrolled": true
   },
   "outputs": [
    {
     "name": "stdout",
     "output_type": "stream",
     "text": [
      "\n",
      "\n",
      "\n",
      "\n",
      "\n",
      "\n"
     ]
    }
   ],
   "source": [
    "de_results = pd.DataFrame()\n",
    "for mutation in mutations:\n",
    "    de_res = experiment_de(of=rosenbrock2, maxeval=maxeval, num_runs=NUM_RUNS, N=N, CR=CR, F=F, mutation=mutation)\n",
    "    de_results = pd.concat([de_results, de_res], axis=0)"
   ]
  },
  {
   "cell_type": "code",
   "execution_count": 27,
   "metadata": {
    "collapsed": false
   },
   "outputs": [
    {
     "data": {
      "text/html": [
       "<div>\n",
       "<table border=\"1\" class=\"dataframe\">\n",
       "  <thead>\n",
       "    <tr style=\"text-align: right;\">\n",
       "      <th></th>\n",
       "      <th>heur</th>\n",
       "      <th>rel</th>\n",
       "      <th>mne</th>\n",
       "      <th>feo</th>\n",
       "    </tr>\n",
       "  </thead>\n",
       "  <tbody>\n",
       "    <tr>\n",
       "      <th>0</th>\n",
       "      <td>DE_12_0.5_1_deBest1</td>\n",
       "      <td>0.21</td>\n",
       "      <td>706.000000</td>\n",
       "      <td>3361.904762</td>\n",
       "    </tr>\n",
       "    <tr>\n",
       "      <th>1</th>\n",
       "      <td>DE_12_0.5_1_deBest2</td>\n",
       "      <td>0.05</td>\n",
       "      <td>748.200000</td>\n",
       "      <td>14964.000000</td>\n",
       "    </tr>\n",
       "    <tr>\n",
       "      <th>2</th>\n",
       "      <td>DE_12_0.5_1_deCurrentToBest1</td>\n",
       "      <td>0.16</td>\n",
       "      <td>735.062500</td>\n",
       "      <td>4594.140625</td>\n",
       "    </tr>\n",
       "    <tr>\n",
       "      <th>3</th>\n",
       "      <td>DE_12_0.5_1_deRand1</td>\n",
       "      <td>0.31</td>\n",
       "      <td>744.645161</td>\n",
       "      <td>2402.081165</td>\n",
       "    </tr>\n",
       "    <tr>\n",
       "      <th>4</th>\n",
       "      <td>DE_12_0.5_1_deRand2</td>\n",
       "      <td>0.07</td>\n",
       "      <td>678.428571</td>\n",
       "      <td>9691.836735</td>\n",
       "    </tr>\n",
       "    <tr>\n",
       "      <th>5</th>\n",
       "      <td>DE_12_0.5_1_deRandToBest1</td>\n",
       "      <td>0.18</td>\n",
       "      <td>773.666667</td>\n",
       "      <td>4298.148148</td>\n",
       "    </tr>\n",
       "  </tbody>\n",
       "</table>\n",
       "</div>"
      ],
      "text/plain": [
       "                           heur   rel         mne           feo\n",
       "0           DE_12_0.5_1_deBest1  0.21  706.000000   3361.904762\n",
       "1           DE_12_0.5_1_deBest2  0.05  748.200000  14964.000000\n",
       "2  DE_12_0.5_1_deCurrentToBest1  0.16  735.062500   4594.140625\n",
       "3           DE_12_0.5_1_deRand1  0.31  744.645161   2402.081165\n",
       "4           DE_12_0.5_1_deRand2  0.07  678.428571   9691.836735\n",
       "5     DE_12_0.5_1_deRandToBest1  0.18  773.666667   4298.148148"
      ]
     },
     "execution_count": 27,
     "metadata": {},
     "output_type": "execute_result"
    }
   ],
   "source": [
    "\n",
    "de_results_pivot = de_results.pivot_table(\n",
    "    index=['heur'],\n",
    "    values=['neval'],\n",
    "    aggfunc=(rel, mne, feo)\n",
    ")['neval']\n",
    "de_results_pivot = de_results_pivot.reset_index()\n",
    "\n",
    "de_results_pivot"
   ]
  },
  {
   "cell_type": "markdown",
   "metadata": {},
   "source": [
    "Most of the experiments did not finish, because maximal number of evaluations was exhausted. It is logical to increase the maximum if more precise solution is to be found."
   ]
  },
  {
   "cell_type": "code",
   "execution_count": 28,
   "metadata": {
    "collapsed": true
   },
   "outputs": [],
   "source": [
    "NUM_RUNS = 100\n",
    "maxeval = 10000"
   ]
  },
  {
   "cell_type": "code",
   "execution_count": 29,
   "metadata": {
    "collapsed": false
   },
   "outputs": [
    {
     "name": "stdout",
     "output_type": "stream",
     "text": [
      "\n",
      "\n",
      "\n",
      "\n",
      "\n",
      "\n"
     ]
    }
   ],
   "source": [
    "de_results = pd.DataFrame()\n",
    "for mutation in mutations:\n",
    "    de_res = experiment_de(of=rosenbrock2, maxeval=maxeval, num_runs=NUM_RUNS, N=N, CR=CR, F=F, mutation=mutation)\n",
    "    de_results = pd.concat([de_results, de_res], axis=0)"
   ]
  },
  {
   "cell_type": "code",
   "execution_count": 30,
   "metadata": {
    "collapsed": false
   },
   "outputs": [
    {
     "data": {
      "text/html": [
       "<div>\n",
       "<table border=\"1\" class=\"dataframe\">\n",
       "  <thead>\n",
       "    <tr style=\"text-align: right;\">\n",
       "      <th></th>\n",
       "      <th>heur</th>\n",
       "      <th>rel</th>\n",
       "      <th>mne</th>\n",
       "      <th>feo</th>\n",
       "    </tr>\n",
       "  </thead>\n",
       "  <tbody>\n",
       "    <tr>\n",
       "      <th>0</th>\n",
       "      <td>DE_12_0.5_1_deBest1</td>\n",
       "      <td>0.44</td>\n",
       "      <td>1137.545455</td>\n",
       "      <td>2585.330579</td>\n",
       "    </tr>\n",
       "    <tr>\n",
       "      <th>1</th>\n",
       "      <td>DE_12_0.5_1_deBest2</td>\n",
       "      <td>0.99</td>\n",
       "      <td>2251.737374</td>\n",
       "      <td>2274.482196</td>\n",
       "    </tr>\n",
       "    <tr>\n",
       "      <th>2</th>\n",
       "      <td>DE_12_0.5_1_deCurrentToBest1</td>\n",
       "      <td>0.46</td>\n",
       "      <td>1190.717391</td>\n",
       "      <td>2588.516068</td>\n",
       "    </tr>\n",
       "    <tr>\n",
       "      <th>3</th>\n",
       "      <td>DE_12_0.5_1_deRand1</td>\n",
       "      <td>0.79</td>\n",
       "      <td>1075.721519</td>\n",
       "      <td>1361.672809</td>\n",
       "    </tr>\n",
       "    <tr>\n",
       "      <th>4</th>\n",
       "      <td>DE_12_0.5_1_deRand2</td>\n",
       "      <td>1.00</td>\n",
       "      <td>2274.130000</td>\n",
       "      <td>2274.130000</td>\n",
       "    </tr>\n",
       "    <tr>\n",
       "      <th>5</th>\n",
       "      <td>DE_12_0.5_1_deRandToBest1</td>\n",
       "      <td>0.62</td>\n",
       "      <td>1361.483871</td>\n",
       "      <td>2195.941727</td>\n",
       "    </tr>\n",
       "  </tbody>\n",
       "</table>\n",
       "</div>"
      ],
      "text/plain": [
       "                           heur   rel          mne          feo\n",
       "0           DE_12_0.5_1_deBest1  0.44  1137.545455  2585.330579\n",
       "1           DE_12_0.5_1_deBest2  0.99  2251.737374  2274.482196\n",
       "2  DE_12_0.5_1_deCurrentToBest1  0.46  1190.717391  2588.516068\n",
       "3           DE_12_0.5_1_deRand1  0.79  1075.721519  1361.672809\n",
       "4           DE_12_0.5_1_deRand2  1.00  2274.130000  2274.130000\n",
       "5     DE_12_0.5_1_deRandToBest1  0.62  1361.483871  2195.941727"
      ]
     },
     "execution_count": 30,
     "metadata": {},
     "output_type": "execute_result"
    }
   ],
   "source": [
    "de_results_pivot = de_results.pivot_table(\n",
    "    index=['heur'],\n",
    "    values=['neval'],\n",
    "    aggfunc=(rel, mne, feo)\n",
    ")['neval']\n",
    "de_results_pivot = de_results_pivot.reset_index()\n",
    "\n",
    "de_results_pivot"
   ]
  },
  {
   "cell_type": "markdown",
   "metadata": {},
   "source": [
    "Best2 and rand2 are the most reliable, but also takes twice as much evaluations and are therefore slower. To Feocristov, rand1 is far best. Lets lower the precision and tweak N, F and CR parameters for the mutations."
   ]
  },
  {
   "cell_type": "code",
   "execution_count": 31,
   "metadata": {
    "collapsed": true
   },
   "outputs": [],
   "source": [
    "maxeval = 1000\n",
    "rosenbrock2 = Rosenbrock(n=2, eps=0.1)"
   ]
  },
  {
   "cell_type": "markdown",
   "metadata": {},
   "source": [
    "### Random-wise mutations"
   ]
  },
  {
   "cell_type": "code",
   "execution_count": 32,
   "metadata": {
    "collapsed": true
   },
   "outputs": [],
   "source": [
    "def initRandMutations(F, N, CR):\n",
    "    mutations = [\n",
    "    {'algorithm': deRand(F=F, N=N, CR=CR), 'name': 'deRand1'},\n",
    "    {'algorithm': deRand2(F=F, N=N, CR=CR), 'name': 'deRand2'},\n",
    "    ]\n",
    "    return mutations"
   ]
  },
  {
   "cell_type": "code",
   "execution_count": 33,
   "metadata": {
    "collapsed": true
   },
   "outputs": [],
   "source": [
    "F=0.3\n",
    "N=20\n",
    "CR=0.9\n",
    "mutations = initRandMutations(F, N, CR)"
   ]
  },
  {
   "cell_type": "code",
   "execution_count": 34,
   "metadata": {
    "collapsed": false
   },
   "outputs": [
    {
     "name": "stdout",
     "output_type": "stream",
     "text": [
      "\n",
      "\n"
     ]
    }
   ],
   "source": [
    "de_results = pd.DataFrame()\n",
    "for mutation in mutations:\n",
    "    de_res = experiment_de(of=rosenbrock2, maxeval=maxeval, num_runs=NUM_RUNS, N=N, CR=CR, F=F, mutation=mutation)\n",
    "    de_results = pd.concat([de_results, de_res], axis=0)"
   ]
  },
  {
   "cell_type": "code",
   "execution_count": 35,
   "metadata": {
    "collapsed": false
   },
   "outputs": [
    {
     "data": {
      "text/html": [
       "<div>\n",
       "<table border=\"1\" class=\"dataframe\">\n",
       "  <thead>\n",
       "    <tr style=\"text-align: right;\">\n",
       "      <th></th>\n",
       "      <th>heur</th>\n",
       "      <th>rel</th>\n",
       "      <th>mne</th>\n",
       "      <th>feo</th>\n",
       "    </tr>\n",
       "  </thead>\n",
       "  <tbody>\n",
       "    <tr>\n",
       "      <th>0</th>\n",
       "      <td>DE_20_0.9_0.3_deRand1</td>\n",
       "      <td>0.82</td>\n",
       "      <td>145.073171</td>\n",
       "      <td>176.918501</td>\n",
       "    </tr>\n",
       "    <tr>\n",
       "      <th>1</th>\n",
       "      <td>DE_20_0.9_0.3_deRand2</td>\n",
       "      <td>0.88</td>\n",
       "      <td>177.897727</td>\n",
       "      <td>202.156508</td>\n",
       "    </tr>\n",
       "  </tbody>\n",
       "</table>\n",
       "</div>"
      ],
      "text/plain": [
       "                    heur   rel         mne         feo\n",
       "0  DE_20_0.9_0.3_deRand1  0.82  145.073171  176.918501\n",
       "1  DE_20_0.9_0.3_deRand2  0.88  177.897727  202.156508"
      ]
     },
     "execution_count": 35,
     "metadata": {},
     "output_type": "execute_result"
    }
   ],
   "source": [
    "de_results_pivot = de_results.pivot_table(\n",
    "    index=['heur'],\n",
    "    values=['neval'],\n",
    "    aggfunc=(rel, mne, feo)\n",
    ")['neval']\n",
    "de_results_pivot = de_results_pivot.reset_index()\n",
    "\n",
    "de_results_pivot"
   ]
  },
  {
   "cell_type": "markdown",
   "metadata": {},
   "source": [
    "After few experiments, this setup seems to be good. With increase of $F$, reliability growths, but number of evaluations growths as well, keeping Feocristov criterion at approximately the same level. It can be seen, that rand2 method is more reliable than rand1, but it takes more evaluations, so there is tradeoff between reliability and time consumption."
   ]
  },
  {
   "cell_type": "markdown",
   "metadata": {},
   "source": [
    "### Best-finding mutations"
   ]
  },
  {
   "cell_type": "code",
   "execution_count": 36,
   "metadata": {
    "collapsed": true
   },
   "outputs": [],
   "source": [
    "def initBestMutations(F, N, CR):\n",
    "    mutations = [\n",
    "    {'algorithm': deBest(F=F, N=N, CR=CR), 'name': 'deBest1'},\n",
    "    {'algorithm': deBest2(F=F, N=N, CR=CR), 'name': 'deBest2'},\n",
    "    {'algorithm': deCurrentToBest1(F=F, N=N, CR=CR), 'name': 'deCurrentToBest1'},\n",
    "    {'algorithm': deRandToBest1(F=F, N=N, CR=CR), 'name': 'deRandToBest1'},\n",
    "    ]\n",
    "    return mutations"
   ]
  },
  {
   "cell_type": "markdown",
   "metadata": {},
   "source": [
    "It is my expectation, that these mutations will profit from broad population and lower value of $CR$, as it is desired to keep the best solution \"on its way\".\n",
    "\n",
    "Lets try the same setup as for the random-wise mutations:"
   ]
  },
  {
   "cell_type": "code",
   "execution_count": 37,
   "metadata": {
    "collapsed": true
   },
   "outputs": [],
   "source": [
    "F=0.3\n",
    "N=20\n",
    "CR=0.9\n",
    "mutations = initBestMutations(F, N, CR)"
   ]
  },
  {
   "cell_type": "code",
   "execution_count": 38,
   "metadata": {
    "collapsed": false
   },
   "outputs": [
    {
     "name": "stdout",
     "output_type": "stream",
     "text": [
      "\n",
      "\n",
      "\n",
      "\n"
     ]
    }
   ],
   "source": [
    "de_results = pd.DataFrame()\n",
    "for mutation in mutations:\n",
    "    de_res = experiment_de(of=rosenbrock2, maxeval=maxeval, num_runs=NUM_RUNS, N=N, CR=CR, F=F, mutation=mutation)\n",
    "    de_results = pd.concat([de_results, de_res], axis=0)"
   ]
  },
  {
   "cell_type": "code",
   "execution_count": 39,
   "metadata": {
    "collapsed": false
   },
   "outputs": [
    {
     "data": {
      "text/html": [
       "<div>\n",
       "<table border=\"1\" class=\"dataframe\">\n",
       "  <thead>\n",
       "    <tr style=\"text-align: right;\">\n",
       "      <th></th>\n",
       "      <th>heur</th>\n",
       "      <th>rel</th>\n",
       "      <th>mne</th>\n",
       "      <th>feo</th>\n",
       "    </tr>\n",
       "  </thead>\n",
       "  <tbody>\n",
       "    <tr>\n",
       "      <th>0</th>\n",
       "      <td>DE_20_0.9_0.3_deBest1</td>\n",
       "      <td>0.81</td>\n",
       "      <td>287.271605</td>\n",
       "      <td>354.656302</td>\n",
       "    </tr>\n",
       "    <tr>\n",
       "      <th>1</th>\n",
       "      <td>DE_20_0.9_0.3_deBest2</td>\n",
       "      <td>1.00</td>\n",
       "      <td>139.870000</td>\n",
       "      <td>139.870000</td>\n",
       "    </tr>\n",
       "    <tr>\n",
       "      <th>2</th>\n",
       "      <td>DE_20_0.9_0.3_deCurrentToBest1</td>\n",
       "      <td>0.50</td>\n",
       "      <td>227.420000</td>\n",
       "      <td>454.840000</td>\n",
       "    </tr>\n",
       "    <tr>\n",
       "      <th>3</th>\n",
       "      <td>DE_20_0.9_0.3_deRandToBest1</td>\n",
       "      <td>0.43</td>\n",
       "      <td>139.302326</td>\n",
       "      <td>323.958897</td>\n",
       "    </tr>\n",
       "  </tbody>\n",
       "</table>\n",
       "</div>"
      ],
      "text/plain": [
       "                             heur   rel         mne         feo\n",
       "0           DE_20_0.9_0.3_deBest1  0.81  287.271605  354.656302\n",
       "1           DE_20_0.9_0.3_deBest2  1.00  139.870000  139.870000\n",
       "2  DE_20_0.9_0.3_deCurrentToBest1  0.50  227.420000  454.840000\n",
       "3     DE_20_0.9_0.3_deRandToBest1  0.43  139.302326  323.958897"
      ]
     },
     "execution_count": 39,
     "metadata": {},
     "output_type": "execute_result"
    }
   ],
   "source": [
    "de_results_pivot = de_results.pivot_table(\n",
    "    index=['heur'],\n",
    "    values=['neval'],\n",
    "    aggfunc=(rel, mne, feo)\n",
    ")['neval']\n",
    "de_results_pivot = de_results_pivot.reset_index()\n",
    "\n",
    "de_results_pivot"
   ]
  },
  {
   "cell_type": "markdown",
   "metadata": {},
   "source": [
    "Best2 is far superior so far, and after other parameters setup, no better result could be achieved with best1 and best2. With growth of population size, reliability grows, but number of evaluations grows more rapidly thus lowering feocristov criterion. Let us now examine currentToBest1 and randToBest1 mutations"
   ]
  },
  {
   "cell_type": "code",
   "execution_count": 40,
   "metadata": {
    "collapsed": true
   },
   "outputs": [],
   "source": [
    "def initLastMutations(F, N, CR):\n",
    "    mutations = [\n",
    "    {'algorithm': deCurrentToBest1(F=F, N=N, CR=CR), 'name': 'deCurrentToBest1'},\n",
    "    {'algorithm': deRandToBest1(F=F, N=N, CR=CR), 'name': 'deRandToBest1'},\n",
    "    ]\n",
    "    return mutations"
   ]
  },
  {
   "cell_type": "code",
   "execution_count": 41,
   "metadata": {
    "collapsed": true
   },
   "outputs": [],
   "source": [
    "F=1.0\n",
    "N=20\n",
    "CR=0.97\n",
    "mutations = initLastMutations(F, N, CR)"
   ]
  },
  {
   "cell_type": "code",
   "execution_count": 42,
   "metadata": {
    "collapsed": false
   },
   "outputs": [
    {
     "name": "stdout",
     "output_type": "stream",
     "text": [
      "\n",
      "\n"
     ]
    }
   ],
   "source": [
    "de_results = pd.DataFrame()\n",
    "for mutation in mutations:\n",
    "    de_res = experiment_de(of=rosenbrock2, maxeval=maxeval, num_runs=NUM_RUNS, N=N, CR=CR, F=F, mutation=mutation)\n",
    "    de_results = pd.concat([de_results, de_res], axis=0)"
   ]
  },
  {
   "cell_type": "code",
   "execution_count": 43,
   "metadata": {
    "collapsed": false
   },
   "outputs": [
    {
     "data": {
      "text/html": [
       "<div>\n",
       "<table border=\"1\" class=\"dataframe\">\n",
       "  <thead>\n",
       "    <tr style=\"text-align: right;\">\n",
       "      <th></th>\n",
       "      <th>heur</th>\n",
       "      <th>rel</th>\n",
       "      <th>mne</th>\n",
       "      <th>feo</th>\n",
       "    </tr>\n",
       "  </thead>\n",
       "  <tbody>\n",
       "    <tr>\n",
       "      <th>0</th>\n",
       "      <td>DE_20_0.97_1.0_deCurrentToBest1</td>\n",
       "      <td>0.98</td>\n",
       "      <td>308.112245</td>\n",
       "      <td>314.400250</td>\n",
       "    </tr>\n",
       "    <tr>\n",
       "      <th>1</th>\n",
       "      <td>DE_20_0.97_1.0_deRandToBest1</td>\n",
       "      <td>0.96</td>\n",
       "      <td>381.229167</td>\n",
       "      <td>397.113715</td>\n",
       "    </tr>\n",
       "  </tbody>\n",
       "</table>\n",
       "</div>"
      ],
      "text/plain": [
       "                              heur   rel         mne         feo\n",
       "0  DE_20_0.97_1.0_deCurrentToBest1  0.98  308.112245  314.400250\n",
       "1     DE_20_0.97_1.0_deRandToBest1  0.96  381.229167  397.113715"
      ]
     },
     "execution_count": 43,
     "metadata": {},
     "output_type": "execute_result"
    }
   ],
   "source": [
    "de_results_pivot = de_results.pivot_table(\n",
    "    index=['heur'],\n",
    "    values=['neval'],\n",
    "    aggfunc=(rel, mne, feo)\n",
    ")['neval']\n",
    "de_results_pivot = de_results_pivot.reset_index()\n",
    "\n",
    "de_results_pivot"
   ]
  },
  {
   "cell_type": "markdown",
   "metadata": {},
   "source": [
    "These experiments are strongly reliable for $CR$ value close to $1$ and $F$ value deviationg around $1$, which is usable property, but number of evaluations is much higher than with best2 or rand1/2. Lowering F value leads to satisfyingly small number of evaluations but with the cost of low reliability and lowering CR leads to great reliability but higher number of evaluations (see below), so this setup is balanced."
   ]
  },
  {
   "cell_type": "code",
   "execution_count": 44,
   "metadata": {
    "collapsed": true
   },
   "outputs": [],
   "source": [
    "F=1\n",
    "N=20\n",
    "CR=0.5\n",
    "mutations = initLastMutations(F, N, CR)"
   ]
  },
  {
   "cell_type": "code",
   "execution_count": 45,
   "metadata": {
    "collapsed": false
   },
   "outputs": [
    {
     "name": "stdout",
     "output_type": "stream",
     "text": [
      "\n",
      "\n"
     ]
    }
   ],
   "source": [
    "de_results = pd.DataFrame()\n",
    "for mutation in mutations:\n",
    "    de_res = experiment_de(of=rosenbrock2, maxeval=maxeval, num_runs=NUM_RUNS, N=N, CR=CR, F=F, mutation=mutation)\n",
    "    de_results = pd.concat([de_results, de_res], axis=0)"
   ]
  },
  {
   "cell_type": "code",
   "execution_count": 46,
   "metadata": {
    "collapsed": false
   },
   "outputs": [
    {
     "data": {
      "text/html": [
       "<div>\n",
       "<table border=\"1\" class=\"dataframe\">\n",
       "  <thead>\n",
       "    <tr style=\"text-align: right;\">\n",
       "      <th></th>\n",
       "      <th>heur</th>\n",
       "      <th>rel</th>\n",
       "      <th>mne</th>\n",
       "      <th>feo</th>\n",
       "    </tr>\n",
       "  </thead>\n",
       "  <tbody>\n",
       "    <tr>\n",
       "      <th>0</th>\n",
       "      <td>DE_20_0.5_1_deCurrentToBest1</td>\n",
       "      <td>0.88</td>\n",
       "      <td>396.886364</td>\n",
       "      <td>451.007231</td>\n",
       "    </tr>\n",
       "    <tr>\n",
       "      <th>1</th>\n",
       "      <td>DE_20_0.5_1_deRandToBest1</td>\n",
       "      <td>0.93</td>\n",
       "      <td>408.139785</td>\n",
       "      <td>438.859984</td>\n",
       "    </tr>\n",
       "  </tbody>\n",
       "</table>\n",
       "</div>"
      ],
      "text/plain": [
       "                           heur   rel         mne         feo\n",
       "0  DE_20_0.5_1_deCurrentToBest1  0.88  396.886364  451.007231\n",
       "1     DE_20_0.5_1_deRandToBest1  0.93  408.139785  438.859984"
      ]
     },
     "execution_count": 46,
     "metadata": {},
     "output_type": "execute_result"
    }
   ],
   "source": [
    "de_results_pivot = de_results.pivot_table(\n",
    "    index=['heur'],\n",
    "    values=['neval'],\n",
    "    aggfunc=(rel, mne, feo)\n",
    ")['neval']\n",
    "de_results_pivot = de_results_pivot.reset_index()\n",
    "\n",
    "de_results_pivot"
   ]
  },
  {
   "cell_type": "markdown",
   "metadata": {},
   "source": [
    "### Best setups\n",
    "This table shows results for the best setups of parameters for the mutations revised."
   ]
  },
  {
   "cell_type": "code",
   "execution_count": 47,
   "metadata": {
    "collapsed": false
   },
   "outputs": [
    {
     "name": "stdout",
     "output_type": "stream",
     "text": [
      "\n",
      "\n"
     ]
    }
   ],
   "source": [
    "de_results_rand = pd.DataFrame()\n",
    "F=0.3\n",
    "N=20\n",
    "CR=0.9\n",
    "mutations = initRandMutations(F, N, CR)\n",
    "for mutation in mutations:\n",
    "    de_res = experiment_de(of=rosenbrock2, maxeval=maxeval, num_runs=NUM_RUNS, N=N, CR=CR, F=F, mutation=mutation)\n",
    "    de_results_rand = pd.concat([de_results_rand, de_res], axis=0)"
   ]
  },
  {
   "cell_type": "code",
   "execution_count": 48,
   "metadata": {
    "collapsed": false
   },
   "outputs": [
    {
     "name": "stdout",
     "output_type": "stream",
     "text": [
      "\n",
      "\n",
      "\n",
      "\n"
     ]
    }
   ],
   "source": [
    "de_results_best= pd.DataFrame()\n",
    "F=0.3\n",
    "N=20\n",
    "CR=0.9\n",
    "mutations = initBestMutations(F, N, CR)\n",
    "for mutation in mutations:\n",
    "    de_res = experiment_de(of=rosenbrock2, maxeval=maxeval, num_runs=NUM_RUNS, N=N, CR=CR, F=F, mutation=mutation)\n",
    "    de_results_best = pd.concat([de_results_best, de_res], axis=0)"
   ]
  },
  {
   "cell_type": "code",
   "execution_count": 49,
   "metadata": {
    "collapsed": false
   },
   "outputs": [
    {
     "name": "stdout",
     "output_type": "stream",
     "text": [
      "\n",
      "\n"
     ]
    }
   ],
   "source": [
    "de_results_last= pd.DataFrame()\n",
    "F=1.0\n",
    "N=20\n",
    "CR=0.97\n",
    "mutations = initLastMutations(F, N, CR)\n",
    "for mutation in mutations:\n",
    "    de_res = experiment_de(of=rosenbrock2, maxeval=maxeval, num_runs=NUM_RUNS, N=N, CR=CR, F=F, mutation=mutation)\n",
    "    de_results_last = pd.concat([de_results_last, de_res], axis=0)"
   ]
  },
  {
   "cell_type": "code",
   "execution_count": 51,
   "metadata": {
    "collapsed": false
   },
   "outputs": [
    {
     "data": {
      "text/html": [
       "<div>\n",
       "<table border=\"1\" class=\"dataframe\">\n",
       "  <thead>\n",
       "    <tr style=\"text-align: right;\">\n",
       "      <th></th>\n",
       "      <th>heur</th>\n",
       "      <th>rel</th>\n",
       "      <th>mne</th>\n",
       "      <th>feo</th>\n",
       "    </tr>\n",
       "  </thead>\n",
       "  <tbody>\n",
       "    <tr>\n",
       "      <th>3</th>\n",
       "      <td>DE_20_0.9_0.3_deBest2</td>\n",
       "      <td>1.00</td>\n",
       "      <td>145.160000</td>\n",
       "      <td>145.160000</td>\n",
       "    </tr>\n",
       "    <tr>\n",
       "      <th>5</th>\n",
       "      <td>DE_20_0.9_0.3_deRand1</td>\n",
       "      <td>0.78</td>\n",
       "      <td>125.615385</td>\n",
       "      <td>161.045365</td>\n",
       "    </tr>\n",
       "    <tr>\n",
       "      <th>6</th>\n",
       "      <td>DE_20_0.9_0.3_deRand2</td>\n",
       "      <td>0.92</td>\n",
       "      <td>188.869565</td>\n",
       "      <td>205.293006</td>\n",
       "    </tr>\n",
       "    <tr>\n",
       "      <th>0</th>\n",
       "      <td>DE_20_0.97_1.0_deCurrentToBest1</td>\n",
       "      <td>0.99</td>\n",
       "      <td>279.515152</td>\n",
       "      <td>282.338537</td>\n",
       "    </tr>\n",
       "    <tr>\n",
       "      <th>7</th>\n",
       "      <td>DE_20_0.9_0.3_deRandToBest1</td>\n",
       "      <td>0.43</td>\n",
       "      <td>135.093023</td>\n",
       "      <td>314.169822</td>\n",
       "    </tr>\n",
       "    <tr>\n",
       "      <th>4</th>\n",
       "      <td>DE_20_0.9_0.3_deCurrentToBest1</td>\n",
       "      <td>0.50</td>\n",
       "      <td>178.820000</td>\n",
       "      <td>357.640000</td>\n",
       "    </tr>\n",
       "    <tr>\n",
       "      <th>2</th>\n",
       "      <td>DE_20_0.9_0.3_deBest1</td>\n",
       "      <td>0.83</td>\n",
       "      <td>298.445783</td>\n",
       "      <td>359.573233</td>\n",
       "    </tr>\n",
       "    <tr>\n",
       "      <th>1</th>\n",
       "      <td>DE_20_0.97_1.0_deRandToBest1</td>\n",
       "      <td>0.97</td>\n",
       "      <td>396.979381</td>\n",
       "      <td>409.257094</td>\n",
       "    </tr>\n",
       "  </tbody>\n",
       "</table>\n",
       "</div>"
      ],
      "text/plain": [
       "                              heur   rel         mne         feo\n",
       "3            DE_20_0.9_0.3_deBest2  1.00  145.160000  145.160000\n",
       "5            DE_20_0.9_0.3_deRand1  0.78  125.615385  161.045365\n",
       "6            DE_20_0.9_0.3_deRand2  0.92  188.869565  205.293006\n",
       "0  DE_20_0.97_1.0_deCurrentToBest1  0.99  279.515152  282.338537\n",
       "7      DE_20_0.9_0.3_deRandToBest1  0.43  135.093023  314.169822\n",
       "4   DE_20_0.9_0.3_deCurrentToBest1  0.50  178.820000  357.640000\n",
       "2            DE_20_0.9_0.3_deBest1  0.83  298.445783  359.573233\n",
       "1     DE_20_0.97_1.0_deRandToBest1  0.97  396.979381  409.257094"
      ]
     },
     "execution_count": 51,
     "metadata": {},
     "output_type": "execute_result"
    }
   ],
   "source": [
    "de_results_final = pd.concat([de_results_rand,de_results_best,de_results_last], axis=0)\n",
    "de_results_pivot_final = de_results_final.pivot_table(\n",
    "    index=['heur'],\n",
    "    values=['neval'],\n",
    "    aggfunc=(rel, mne, feo)\n",
    ")['neval']\n",
    "de_results_pivot_final = de_results_pivot_final.reset_index()\n",
    "\n",
    "de_results_pivot_final.sort_values('feo')"
   ]
  },
  {
   "cell_type": "markdown",
   "metadata": {},
   "source": [
    "### Schwefel function\n",
    "\n",
    "To see, how this parameters setup could be useful for another functions, another objective function can be tested with this set of parameters. Schwefel function, as described here (http://www.geatbx.com/docu/fcnindex-01.html#P150_6749) is good candidate, because of its different nature. This function has a lot of local minimum points and algorithms may tend to stuck in local minimum instead of finding global minimum."
   ]
  },
  {
   "cell_type": "markdown",
   "metadata": {},
   "source": [
    "#### Best setup of Rosenbrock"
   ]
  },
  {
   "cell_type": "code",
   "execution_count": 69,
   "metadata": {
    "collapsed": false
   },
   "outputs": [],
   "source": [
    "schwefel2 = Schwefel(n=2, eps=0.00001)\n",
    "fstar = schwefel2.evaluate(420.9687 * np.ones(2))"
   ]
  },
  {
   "cell_type": "code",
   "execution_count": 68,
   "metadata": {
    "collapsed": false
   },
   "outputs": [
    {
     "name": "stdout",
     "output_type": "stream",
     "text": [
      "\n",
      "\n",
      "\n",
      "\n",
      "\n",
      "\n",
      "\n",
      "\n"
     ]
    },
    {
     "data": {
      "text/html": [
       "<div>\n",
       "<table border=\"1\" class=\"dataframe\">\n",
       "  <thead>\n",
       "    <tr style=\"text-align: right;\">\n",
       "      <th></th>\n",
       "      <th>heur</th>\n",
       "      <th>rel</th>\n",
       "      <th>mne</th>\n",
       "      <th>feo</th>\n",
       "    </tr>\n",
       "  </thead>\n",
       "  <tbody>\n",
       "    <tr>\n",
       "      <th>1</th>\n",
       "      <td>DE_20_0.97_1.0_deRandToBest1</td>\n",
       "      <td>1.00</td>\n",
       "      <td>33.060000</td>\n",
       "      <td>33.060000</td>\n",
       "    </tr>\n",
       "    <tr>\n",
       "      <th>0</th>\n",
       "      <td>DE_20_0.97_1.0_deCurrentToBest1</td>\n",
       "      <td>1.00</td>\n",
       "      <td>33.580000</td>\n",
       "      <td>33.580000</td>\n",
       "    </tr>\n",
       "    <tr>\n",
       "      <th>3</th>\n",
       "      <td>DE_20_0.9_0.3_deBest2</td>\n",
       "      <td>0.99</td>\n",
       "      <td>58.454545</td>\n",
       "      <td>59.044995</td>\n",
       "    </tr>\n",
       "    <tr>\n",
       "      <th>6</th>\n",
       "      <td>DE_20_0.9_0.3_deRand2</td>\n",
       "      <td>1.00</td>\n",
       "      <td>76.640000</td>\n",
       "      <td>76.640000</td>\n",
       "    </tr>\n",
       "    <tr>\n",
       "      <th>5</th>\n",
       "      <td>DE_20_0.9_0.3_deRand1</td>\n",
       "      <td>0.96</td>\n",
       "      <td>113.229167</td>\n",
       "      <td>117.947049</td>\n",
       "    </tr>\n",
       "    <tr>\n",
       "      <th>2</th>\n",
       "      <td>DE_20_0.9_0.3_deBest1</td>\n",
       "      <td>1.00</td>\n",
       "      <td>155.740000</td>\n",
       "      <td>155.740000</td>\n",
       "    </tr>\n",
       "    <tr>\n",
       "      <th>7</th>\n",
       "      <td>DE_20_0.9_0.3_deRandToBest1</td>\n",
       "      <td>0.59</td>\n",
       "      <td>308.745763</td>\n",
       "      <td>523.297903</td>\n",
       "    </tr>\n",
       "    <tr>\n",
       "      <th>4</th>\n",
       "      <td>DE_20_0.9_0.3_deCurrentToBest1</td>\n",
       "      <td>0.83</td>\n",
       "      <td>535.289157</td>\n",
       "      <td>644.926695</td>\n",
       "    </tr>\n",
       "  </tbody>\n",
       "</table>\n",
       "</div>"
      ],
      "text/plain": [
       "                              heur   rel         mne         feo\n",
       "1     DE_20_0.97_1.0_deRandToBest1  1.00   33.060000   33.060000\n",
       "0  DE_20_0.97_1.0_deCurrentToBest1  1.00   33.580000   33.580000\n",
       "3            DE_20_0.9_0.3_deBest2  0.99   58.454545   59.044995\n",
       "6            DE_20_0.9_0.3_deRand2  1.00   76.640000   76.640000\n",
       "5            DE_20_0.9_0.3_deRand1  0.96  113.229167  117.947049\n",
       "2            DE_20_0.9_0.3_deBest1  1.00  155.740000  155.740000\n",
       "7      DE_20_0.9_0.3_deRandToBest1  0.59  308.745763  523.297903\n",
       "4   DE_20_0.9_0.3_deCurrentToBest1  0.83  535.289157  644.926695"
      ]
     },
     "execution_count": 68,
     "metadata": {},
     "output_type": "execute_result"
    }
   ],
   "source": [
    "de_results_rand = pd.DataFrame()\n",
    "F=0.3\n",
    "N=20\n",
    "CR=0.9\n",
    "mutations = initRandMutations(F, N, CR)\n",
    "for mutation in mutations:\n",
    "    de_res = experiment_de(of=schwefel2, maxeval=maxeval, num_runs=NUM_RUNS, N=N, CR=CR, F=F, mutation=mutation)\n",
    "    de_results_rand = pd.concat([de_results_rand, de_res], axis=0)\n",
    "    \n",
    "de_results_best= pd.DataFrame()\n",
    "F=0.3\n",
    "N=20\n",
    "CR=0.9\n",
    "mutations = initBestMutations(F, N, CR)\n",
    "for mutation in mutations:\n",
    "    de_res = experiment_de(of=schwefel2, maxeval=maxeval, num_runs=NUM_RUNS, N=N, CR=CR, F=F, mutation=mutation)\n",
    "    de_results_best = pd.concat([de_results_best, de_res], axis=0)\n",
    "    \n",
    "de_results_last= pd.DataFrame()\n",
    "F=1.0\n",
    "N=20\n",
    "CR=0.97\n",
    "mutations = initLastMutations(F, N, CR)\n",
    "for mutation in mutations:\n",
    "    de_res = experiment_de(of=schwefel2, maxeval=maxeval, num_runs=NUM_RUNS, N=N, CR=CR, F=F, mutation=mutation)\n",
    "    de_results_last = pd.concat([de_results_last, de_res], axis=0)\n",
    "    \n",
    "de_results_final = pd.concat([de_results_rand,de_results_best,de_results_last], axis=0)\n",
    "de_results_pivot_final = de_results_final.pivot_table(\n",
    "    index=['heur'],\n",
    "    values=['neval'],\n",
    "    aggfunc=(rel, mne, feo)\n",
    ")['neval']\n",
    "de_results_pivot_final = de_results_pivot_final.reset_index()\n",
    "\n",
    "de_results_pivot_final.sort_values('feo')"
   ]
  },
  {
   "cell_type": "markdown",
   "metadata": {},
   "source": [
    "For this function, the goal was to find optimum with high precision. Despite this precision and previous assumptions about the complexity of global optimum search, DE work better this time than in the case of Rosenbrock function, even only with parameters tuned to Rosenbrock function. For this function, with a lot of global minima, the power of more complex mutations with finding the best individiual in population is emphasized, because these methods was the best according to Feocristov criterion.\n",
    "\n",
    "On this example, it can be seen, that random mutations were mediocore and I would say, they should be used as the first candidate for all functions, because the results with random mutations, in my experiments, were never criticaly bad (oposed to other mutations with bad parameters setup) and are the fastest."
   ]
  },
  {
   "cell_type": "markdown",
   "metadata": {},
   "source": [
    "## Conclusion\n",
    "The goal of this notebook was not to find the best parameters setup for optimizing Rosenbrock function with Differential Evolution, but to tweak the parameters for each of implemented mutation. Some assumptions about influence of parameters was made based on the knowledge of the heuristics and some of the parameter tuning was made with aposterior information by experimenting with different setups.\n",
    "\n",
    "Rosenbrock function can be characterized more as simple task than hard, because it is unimodal. This unimodality could favor methods using best individual in population when mutating, because there is no risk of stucking in local minimum. It showed up, that best mutation to be used is truly based on finding best individual. It also showed up, that totally random approach is very usefull, because classical random mutation was fast, reliable and with small number of evaluations. If there is need to keep machine time to the lowest, classical random mutation (rand1) should be used, as it was approximately twice as fast as best2, but if time consumption is not so much important, than the mutation is best2 with great reliability and low number of evaluations.\n",
    "\n",
    "Other methods showed to be mediocore for this function, but as seen in final example, randToBest1 with $F = 1$ was a good choice for function with a lot of local minima, as well as currentToBest1 with $F = 1$. On this example, with Shwefel function and these two mutations with different parameter setup, it is pretty obvious the impact of NO FREE LUNCH theorem. The mutation itself was good only with some setup, but with another it failed miserably opposed to random mutation.\n",
    "\n",
    "This notebook does not show the best parameter setup for DE, but demonstrates some ways of using different mutations for DE on problem of optimization of unimodal 2D function with nontrivial solution."
   ]
  },
  {
   "cell_type": "code",
   "execution_count": null,
   "metadata": {
    "collapsed": true
   },
   "outputs": [],
   "source": []
  }
 ],
 "metadata": {
  "kernelspec": {
   "display_name": "Python 3",
   "language": "python",
   "name": "python3"
  },
  "language_info": {
   "codemirror_mode": {
    "name": "ipython",
    "version": 3
   },
   "file_extension": ".py",
   "mimetype": "text/x-python",
   "name": "python",
   "nbconvert_exporter": "python",
   "pygments_lexer": "ipython3",
   "version": "3.6.0"
  },
  "widgets": {
   "state": {
    "007a76278651448cac9fa44fccc35cf9": {
     "views": [
      {
       "cell_index": 47
      }
     ]
    },
    "0305eb40dbcd4be6afbce3fd45218ed7": {
     "views": [
      {
       "cell_index": 66
      }
     ]
    },
    "045f3db73ee14c548449dfe41622a23b": {
     "views": [
      {
       "cell_index": 66
      }
     ]
    },
    "0917bbd87b074ab98c3eff50376c9357": {
     "views": [
      {
       "cell_index": 66
      }
     ]
    },
    "1046b157a6a4495bb539ce583446a2bb": {
     "views": [
      {
       "cell_index": 60
      }
     ]
    },
    "147e136a27dd4944ac75b5ca758e3c52": {
     "views": [
      {
       "cell_index": 66
      }
     ]
    },
    "15441a3852b0440684eaf196c73b1198": {
     "views": [
      {
       "cell_index": 19
      }
     ]
    },
    "18241a7c23c24654bb416aa27244d09a": {
     "views": [
      {
       "cell_index": 24
      }
     ]
    },
    "21038ec804f14562a802973c5e637fd0": {
     "views": [
      {
       "cell_index": 19
      }
     ]
    },
    "2332d3664c8045d2be65c1189c929638": {
     "views": [
      {
       "cell_index": 66
      }
     ]
    },
    "23456be993f8426680cf0ed35d5d6fbd": {
     "views": [
      {
       "cell_index": 47
      }
     ]
    },
    "23887858dd494b33a25dbcdba61216d4": {
     "views": [
      {
       "cell_index": 52
      }
     ]
    },
    "293bafa3be944994a697f92944043c82": {
     "views": [
      {
       "cell_index": 61
      }
     ]
    },
    "295c6de5ec9c43028ac0a71bfec2cb3b": {
     "views": [
      {
       "cell_index": 66
      }
     ]
    },
    "326e10fb5b93400b8abf9f65e281cf09": {
     "views": [
      {
       "cell_index": 66
      }
     ]
    },
    "36aca8b481af467d80d0fa23b377a5fa": {
     "views": [
      {
       "cell_index": 66
      }
     ]
    },
    "3aafea129ee24591a1002168673cd759": {
     "views": [
      {
       "cell_index": 66
      }
     ]
    },
    "3ebbd511885f4a0d868b80936c84ead9": {
     "views": [
      {
       "cell_index": 66
      }
     ]
    },
    "3fb7f4300ff74893a7e2aaf11a090ad2": {
     "views": [
      {
       "cell_index": 66
      }
     ]
    },
    "411b789df7a34b8ab8348a8bd308defc": {
     "views": [
      {
       "cell_index": 47
      }
     ]
    },
    "44521b4b2ca3477595e67e7cf29fa690": {
     "views": [
      {
       "cell_index": 56
      }
     ]
    },
    "4b28776ee0084225ba062ab47a815cbe": {
     "views": [
      {
       "cell_index": 66
      }
     ]
    },
    "4fcb510a83de4e91947b36070c9db122": {
     "views": [
      {
       "cell_index": 66
      }
     ]
    },
    "52532b8d296448cc9031d586f0a7e4ff": {
     "views": [
      {
       "cell_index": 24
      }
     ]
    },
    "537e17ddad214c4e89d6d33dd165e13f": {
     "views": [
      {
       "cell_index": 66
      }
     ]
    },
    "58bb9402eda64d60b138577a06546314": {
     "views": [
      {
       "cell_index": 29
      }
     ]
    },
    "5a9b7444dcdc434eb29dc09421c37755": {
     "views": [
      {
       "cell_index": 66
      }
     ]
    },
    "5afff0d7b9a64faba1e34b80ccfd09e1": {
     "views": [
      {
       "cell_index": 60
      }
     ]
    },
    "5b536320d3304ac4b8de07e9523257de": {
     "views": [
      {
       "cell_index": 33
      }
     ]
    },
    "5b5cf650721b41899a21de27a871e37a": {
     "views": [
      {
       "cell_index": 40
      }
     ]
    },
    "69cee3eee66b4beda37e25c1744d3959": {
     "views": [
      {
       "cell_index": 66
      }
     ]
    },
    "6a1dc6f90d814e8d98e04b2c0009f377": {
     "views": [
      {
       "cell_index": 66
      }
     ]
    },
    "6fd7c741d01845dd8e56b7bdd1c4f59b": {
     "views": [
      {
       "cell_index": 66
      }
     ]
    },
    "7125dda3625542269ae40e02bd80cea1": {
     "views": [
      {
       "cell_index": 33
      }
     ]
    },
    "719ecfb68bb74ea9ade3f257805eef82": {
     "views": [
      {
       "cell_index": 24
      }
     ]
    },
    "73d6b8b69c4c48ae80e5f9a0d52c32a5": {
     "views": [
      {
       "cell_index": 52
      }
     ]
    },
    "780ea687ca724c6f98b4743daa5979f6": {
     "views": [
      {
       "cell_index": 24
      }
     ]
    },
    "79110f3a53f7400cb0b6f75117b0806f": {
     "views": [
      {
       "cell_index": 33
      }
     ]
    },
    "7b58ebb46e5f465481da0382b26a4f36": {
     "views": [
      {
       "cell_index": 24
      }
     ]
    },
    "7c3364523f1348ea96a5c8f085a7ca90": {
     "views": [
      {
       "cell_index": 29
      }
     ]
    },
    "7dfee341639e4adeac85cfd6328c58c1": {
     "views": [
      {
       "cell_index": 66
      }
     ]
    },
    "82ffb73221f94c8ab047aa3945da664d": {
     "views": [
      {
       "cell_index": 19
      }
     ]
    },
    "872bed6ade614250a32c6512f96f5c47": {
     "views": [
      {
       "cell_index": 66
      }
     ]
    },
    "8fdc366dc0f645e58fded964952996c1": {
     "views": [
      {
       "cell_index": 33
      }
     ]
    },
    "90f736e251764055a82a2d5f3ca1a472": {
     "views": [
      {
       "cell_index": 66
      }
     ]
    },
    "932ec43d71c94f4b82809bdbe0ce68a4": {
     "views": [
      {
       "cell_index": 19
      }
     ]
    },
    "9549351f72184658850048a5cd69d71a": {
     "views": [
      {
       "cell_index": 19
      }
     ]
    },
    "95d1e003e9ad4a26b6b3ee4128ce8d6e": {
     "views": [
      {
       "cell_index": 61
      }
     ]
    },
    "978483d1a7464893806d3aa627382fb7": {
     "views": [
      {
       "cell_index": 59
      }
     ]
    },
    "9a336d09b4cb48e89c9facfa4aee91b1": {
     "views": [
      {
       "cell_index": 66
      }
     ]
    },
    "9c067632d84f45e7998bfb2adf897b6e": {
     "views": [
      {
       "cell_index": 66
      }
     ]
    },
    "9e1bc8a3ba424143832e8078477e9aee": {
     "views": [
      {
       "cell_index": 66
      }
     ]
    },
    "a29c05c8c56b429e94ccecdba5b01d45": {
     "views": [
      {
       "cell_index": 66
      }
     ]
    },
    "a37a22c68fa14664aafd992913d60f0a": {
     "views": [
      {
       "cell_index": 66
      }
     ]
    },
    "a8f5d06c450b4b54bcf3581589b8fd83": {
     "views": [
      {
       "cell_index": 66
      }
     ]
    },
    "aa342260940043608ecc4c8d37ca33ca": {
     "views": [
      {
       "cell_index": 40
      }
     ]
    },
    "af2dd9520fa5465c97f109b04c0153c2": {
     "views": [
      {
       "cell_index": 59
      }
     ]
    },
    "b10bf877775240f08d6e9cc452ae3497": {
     "views": [
      {
       "cell_index": 29
      }
     ]
    },
    "b433e5bf6060455091e7fe2557571cc4": {
     "views": [
      {
       "cell_index": 66
      }
     ]
    },
    "ba765ead653a424db95c8aa147ae78e0": {
     "views": [
      {
       "cell_index": 19
      }
     ]
    },
    "bb6eb7972af7419f96eed9e12edd9868": {
     "views": [
      {
       "cell_index": 66
      }
     ]
    },
    "bf971ffcda1547528fe4e9f2c3284594": {
     "views": [
      {
       "cell_index": 29
      }
     ]
    },
    "c651e37a9de34477884edfbcc7484859": {
     "views": [
      {
       "cell_index": 66
      }
     ]
    },
    "cfc0d1ed27184d3abcb0dc42e6ee9f49": {
     "views": [
      {
       "cell_index": 66
      }
     ]
    },
    "d014fcf7d80642e0aa94008ab8b271b5": {
     "views": [
      {
       "cell_index": 60
      }
     ]
    },
    "d08e1a2f92e2444ba87e4e1739920915": {
     "views": [
      {
       "cell_index": 66
      }
     ]
    },
    "d11f6c52949648afac151becd653f1a1": {
     "views": [
      {
       "cell_index": 66
      }
     ]
    },
    "d1692ac0d1a54baca34ff4c01157ba21": {
     "views": [
      {
       "cell_index": 47
      }
     ]
    },
    "d53476bfd64a488689ec75b19a1abf7a": {
     "views": [
      {
       "cell_index": 29
      }
     ]
    },
    "d791123a26f24c26a3eee1fc140a76fc": {
     "views": [
      {
       "cell_index": 33
      }
     ]
    },
    "dd5ec5d73b1349d897504c3b0a1ddf1c": {
     "views": [
      {
       "cell_index": 66
      }
     ]
    },
    "dec47a6d98e341489001de24280639fb": {
     "views": [
      {
       "cell_index": 24
      }
     ]
    },
    "e681f14601d942b081895587a6b51753": {
     "views": [
      {
       "cell_index": 60
      }
     ]
    },
    "ecb2e4e8e05447b1ada9acdc9b65d29b": {
     "views": [
      {
       "cell_index": 66
      }
     ]
    },
    "f831d9a6860e4818b2a8ca80e2742c79": {
     "views": [
      {
       "cell_index": 33
      }
     ]
    },
    "f906d4293a85450ea13cc8cf713aba98": {
     "views": [
      {
       "cell_index": 56
      }
     ]
    },
    "fcb8eb42a11545b2b1d3803f73bd6553": {
     "views": [
      {
       "cell_index": 66
      }
     ]
    },
    "fece2689851d40f786b99aa514caea3b": {
     "views": [
      {
       "cell_index": 29
      }
     ]
    }
   },
   "version": "1.2.0"
  }
 },
 "nbformat": 4,
 "nbformat_minor": 2
}
