{
 "cells": [
  {
   "cell_type": "markdown",
   "metadata": {},
   "source": [
    "# Mutations for differential evolution revised"
   ]
  },
  {
   "cell_type": "markdown",
   "metadata": {},
   "source": [
    "In this paper, core operation for Differential Evolution is researched, mutation. For DE, different types of mutation can easily change a chance to susccess for any function, as it strongly defines behavior of heuristics. With non-random cahnges to algorithm via mutation, it can be adapted to single-modal functions with strees to exploitation of current best solution or to multi-modal functions, encouraging exploration over exploitation through more random-wise mutations.\n",
    "\n",
    "Several widely-used mutations are presented and its advantages and disadvantages are described with example of finding solution to one of De Jong testing functions - single-modal Rosenbrock 2D \"banana\" fuction. It is expected, that mutations using best candidates will be more successful than the one with random search, as the heuristic can not stuck in local minimum, for the Rosenbrock fucntion has only one, which happens to be global minimum as well."
   ]
  },
  {
   "cell_type": "code",
   "execution_count": 1,
   "metadata": {
    "collapsed": false
   },
   "outputs": [],
   "source": [
    "import sys\n",
    "import os\n",
    "pwd = %pwd\n",
    "sys.path.append(os.path.join(pwd, '../../src'))\n",
    "\n",
    "# Ensure modules are reloaded on any change (very useful when developing code on the fly)\n",
    "get_ipython().magic('load_ext autoreload')\n",
    "get_ipython().magic('autoreload 2')"
   ]
  },
  {
   "cell_type": "code",
   "execution_count": 172,
   "metadata": {
    "collapsed": true
   },
   "outputs": [],
   "source": [
    "# Import external libraries\n",
    "import numpy as np\n",
    "import pandas as pd\n",
    "from tqdm import tqdm_notebook"
   ]
  },
  {
   "cell_type": "markdown",
   "metadata": {},
   "source": [
    "### Evaluation\n",
    "\n",
    "Heuristics results will be evaluated with standard criteria:\n",
    "\n",
    "* Reliability (REL) - statistical probability of successful run\n",
    "* Mean Number of Objective Function Evaluations (MNE)\n",
    "* Feoktistov criterion (FEO) - MNE/REL"
   ]
  },
  {
   "cell_type": "code",
   "execution_count": 3,
   "metadata": {
    "collapsed": true
   },
   "outputs": [],
   "source": [
    "# Define criteria for heuristics evaluation\n",
    "def rel(x):\n",
    "    return len([n for n in x if n < np.inf])/len(x)\n",
    "def mne(x):\n",
    "    return np.mean([n for n in x if n < np.inf])\n",
    "def feo(x):\n",
    "    return mne(x)/rel(x)"
   ]
  },
  {
   "cell_type": "code",
   "execution_count": 4,
   "metadata": {
    "collapsed": true
   },
   "outputs": [],
   "source": [
    "# Import objective function and heuristics dependencies\n",
    "from objfun import Rosenbrock\n",
    "from heur import DifferentialEvolution\n",
    "from de_mutations import deRand, deBest, deRand2, deBest2, deCurrentToBest1, deRandToBest1"
   ]
  },
  {
   "cell_type": "code",
   "execution_count": 5,
   "metadata": {
    "collapsed": true
   },
   "outputs": [],
   "source": [
    "NUM_RUNS = 100\n",
    "maxeval = 1000"
   ]
  },
  {
   "cell_type": "markdown",
   "metadata": {},
   "source": [
    "### Rosenbrock funciton\n",
    "\n",
    "For testing purposes - different tuning of parameters for given mutations, Rosenbrock function will be used. As the parameters tuning is question of each function it self, there is no certainity, that the same set of paramteres for given mutation will be os use for different function (i.e. No Free Lunch theorem).\n",
    "\n",
    "Definition of function described here (http://www.geatbx.com/docu/fcnindex-01.html#P129_5426) will be used."
   ]
  },
  {
   "cell_type": "code",
   "execution_count": 6,
   "metadata": {
    "collapsed": true
   },
   "outputs": [],
   "source": [
    "rosenbrock2 = Rosenbrock(n=2, eps=0.1)\n",
    "fstar = rosenbrock2.evaluate(np.ones(2))"
   ]
  },
  {
   "cell_type": "markdown",
   "metadata": {},
   "source": [
    "### DE parameters"
   ]
  },
  {
   "cell_type": "markdown",
   "metadata": {},
   "source": [
    "For Differential evolution three parameteres need to be supplied, all of the are very important setting for all the mutations revised in this notebook.\n",
    "\n",
    "* N: population size, to properly test all the mutations, has to be $> 5$ (some mutations need bigger amont of individuals),\n",
    "* CR: crossover probability,\n",
    "* F: differential weight, has to be in $[0,2]$."
   ]
  },
  {
   "cell_type": "markdown",
   "metadata": {},
   "source": [
    "### Mutations in short\n",
    "\n",
    "Implemented mutaions are the ones originally presented by publicators of DE Price and Storn. This subset of known mutations contains both explorative (Rand1,Rand2) as exhaustive (Best1,Best2) approaches and in addition some others, trying to combine both. There is always trade-off between exploration and exhaustion, which has to be handled accordingly and mutations has to be tailored to the needs of objective function (i.e. if the function is multimodal, different mutation has to be used - in favor of exploration - than in case of unimodal.) Following brief list contains all the implemented mutations and their definition.\n",
    "\n",
    "Numbers $r_1, \\ldots, r_5$ are random numbers from range $1, \\ldots, N$. In all cases, $x_{current} \\ne x_{r_1} \\ne \\ldots \\ne x_{r_5} \\ne x_{best}$\n",
    "\n",
    "* **Rand1** - simplest of random mutaions, $x_{new} = x_{r_1} + F (x_{r_2} - x_{r_3})$.\n",
    "\n",
    "* **Rand2** - similar to deRand, uses more individuals, hence the need for higher value of $N$, $x_{new} = x_{r_1} + F (x_{r_2} - x_{r_3}) + F (x_{r_4} - x_{r_5})$.\n",
    "\n",
    "* **Best1** - computationally harder, espetially for bigger populations, because of the search for the best individual in population, denoted $x_{best}$, $x_{new} = x_{best} + F (x_{r_1} - x_{r_2})$.\n",
    "\n",
    "* **Best2** - similar to deBest, uses more individials, $x_{new} = x_{best} + F (x_{r_1} - x_{r_2})+ F (x_{r_3} - x_{r_4})$.\n",
    "\n",
    "* **Current to Best** - $x_{new} = x_{current} + F (x_{best} - x_{current})+ F (x_{r_1} - x_{r_2})$.\n",
    "\n",
    "* **Rand to Best** - $x_{new} = x_{r_1} + F (x_{best} - x_{r_1})+ F (x_{r_2} - x_{r_3})$."
   ]
  },
  {
   "cell_type": "markdown",
   "metadata": {},
   "source": [
    "### Experiment setup"
   ]
  },
  {
   "cell_type": "code",
   "execution_count": 7,
   "metadata": {
    "collapsed": true
   },
   "outputs": [],
   "source": [
    "def experiment_de(of, maxeval, num_runs, N, CR, F, mutation):\n",
    "    results = []\n",
    "    for i in tqdm_notebook(range(num_runs)):\n",
    "        result = DifferentialEvolution(of, maxeval=maxeval, N=N, CR=CR, F=F, mutation=mutation['algorithm']).search()\n",
    "        result['run'] = i\n",
    "        result['heur'] = 'DE_{}_{}_{}_{}'.format(N, CR, F, mutation['name'])\n",
    "        results.append(result)\n",
    "    return pd.DataFrame(results, columns=['heur', 'run','best_x', 'best_y', 'neval'])"
   ]
  },
  {
   "cell_type": "markdown",
   "metadata": {},
   "source": [
    "### Initial set of parameters\n",
    "Peek at the results with some initial set of parameters.\n",
    "\n",
    "* Increase in population size gives better chance to find good solution, but is only useful for mutations with search for the best individual, which are deBest, deBest2, deCurrentToBest1 and deRandToBest1.\n",
    "\n",
    "* Increase in F puts more emphasis on the mutation itself and increase in CR raises a chance of mutation."
   ]
  },
  {
   "cell_type": "code",
   "execution_count": 13,
   "metadata": {
    "collapsed": false
   },
   "outputs": [],
   "source": [
    "def initMutations(F, N, CR):\n",
    "    mutations = [\n",
    "    {'algorithm': deRand(F=F, N=N, CR=CR), 'name': 'deRand1'},\n",
    "    {'algorithm': deBest(F=F, N=N, CR=CR), 'name': 'deBest1'},\n",
    "    {'algorithm': deRand2(F=F, N=N, CR=CR), 'name': 'deRand2'},\n",
    "    {'algorithm': deBest2(F=F, N=N, CR=CR), 'name': 'deBest2'},\n",
    "    {'algorithm': deCurrentToBest1(F=F, N=N, CR=CR), 'name': 'deCurrentToBest1'},\n",
    "    {'algorithm': deRandToBest1(F=F, N=N, CR=CR), 'name': 'deRandToBest1'},\n",
    "    ]\n",
    "    return mutations"
   ]
  },
  {
   "cell_type": "code",
   "execution_count": 20,
   "metadata": {
    "collapsed": false
   },
   "outputs": [],
   "source": [
    "F=1\n",
    "N=6\n",
    "CR=0.5"
   ]
  },
  {
   "cell_type": "code",
   "execution_count": 21,
   "metadata": {
    "collapsed": true
   },
   "outputs": [],
   "source": [
    "mutations = initMutations(F, N, CR)"
   ]
  },
  {
   "cell_type": "code",
   "execution_count": 22,
   "metadata": {
    "collapsed": false
   },
   "outputs": [
    {
     "name": "stdout",
     "output_type": "stream",
     "text": [
      "\n",
      "\n",
      "\n",
      "\n",
      "\n",
      "\n"
     ]
    }
   ],
   "source": [
    "de_results = pd.DataFrame()\n",
    "for mutation in mutations:\n",
    "    de_res = experiment_de(of=rosenbrock2, maxeval=maxeval, num_runs=NUM_RUNS, N=N, CR=CR, F=F, mutation=mutation)\n",
    "    de_results = pd.concat([de_results, de_res], axis=0)"
   ]
  },
  {
   "cell_type": "code",
   "execution_count": 23,
   "metadata": {
    "collapsed": false
   },
   "outputs": [
    {
     "data": {
      "text/html": [
       "<div>\n",
       "<table border=\"1\" class=\"dataframe\">\n",
       "  <thead>\n",
       "    <tr style=\"text-align: right;\">\n",
       "      <th></th>\n",
       "      <th>heur</th>\n",
       "      <th>rel</th>\n",
       "      <th>mne</th>\n",
       "      <th>feo</th>\n",
       "    </tr>\n",
       "  </thead>\n",
       "  <tbody>\n",
       "    <tr>\n",
       "      <th>0</th>\n",
       "      <td>DE_6_0.5_1_deBest1</td>\n",
       "      <td>0.27</td>\n",
       "      <td>104.148148</td>\n",
       "      <td>385.733882</td>\n",
       "    </tr>\n",
       "    <tr>\n",
       "      <th>1</th>\n",
       "      <td>DE_6_0.5_1_deBest2</td>\n",
       "      <td>0.03</td>\n",
       "      <td>102.333333</td>\n",
       "      <td>3411.111111</td>\n",
       "    </tr>\n",
       "    <tr>\n",
       "      <th>2</th>\n",
       "      <td>DE_6_0.5_1_deCurrentToBest1</td>\n",
       "      <td>0.32</td>\n",
       "      <td>163.000000</td>\n",
       "      <td>509.375000</td>\n",
       "    </tr>\n",
       "    <tr>\n",
       "      <th>3</th>\n",
       "      <td>DE_6_0.5_1_deRand1</td>\n",
       "      <td>0.43</td>\n",
       "      <td>144.860465</td>\n",
       "      <td>336.884803</td>\n",
       "    </tr>\n",
       "    <tr>\n",
       "      <th>4</th>\n",
       "      <td>DE_6_0.5_1_deRand2</td>\n",
       "      <td>0.55</td>\n",
       "      <td>339.018182</td>\n",
       "      <td>616.396694</td>\n",
       "    </tr>\n",
       "    <tr>\n",
       "      <th>5</th>\n",
       "      <td>DE_6_0.5_1_deRandToBest1</td>\n",
       "      <td>0.38</td>\n",
       "      <td>159.473684</td>\n",
       "      <td>419.667590</td>\n",
       "    </tr>\n",
       "  </tbody>\n",
       "</table>\n",
       "</div>"
      ],
      "text/plain": [
       "                          heur   rel         mne          feo\n",
       "0           DE_6_0.5_1_deBest1  0.27  104.148148   385.733882\n",
       "1           DE_6_0.5_1_deBest2  0.03  102.333333  3411.111111\n",
       "2  DE_6_0.5_1_deCurrentToBest1  0.32  163.000000   509.375000\n",
       "3           DE_6_0.5_1_deRand1  0.43  144.860465   336.884803\n",
       "4           DE_6_0.5_1_deRand2  0.55  339.018182   616.396694\n",
       "5     DE_6_0.5_1_deRandToBest1  0.38  159.473684   419.667590"
      ]
     },
     "execution_count": 23,
     "metadata": {},
     "output_type": "execute_result"
    }
   ],
   "source": [
    "\n",
    "de_results_pivot = de_results.pivot_table(\n",
    "    index=['heur'],\n",
    "    values=['neval'],\n",
    "    aggfunc=(rel, mne, feo)\n",
    ")['neval']\n",
    "de_results_pivot = de_results_pivot.reset_index()\n",
    "\n",
    "de_results_pivot"
   ]
  },
  {
   "cell_type": "markdown",
   "metadata": {
    "collapsed": true
   },
   "source": [
    "From the first test, it can be seen, that rand1 mutation was best. It can be said, the mutations with selection of best individual was worse (best1 and best2). The reason could be small population, with the increase in population, these mutations could yield better results."
   ]
  },
  {
   "cell_type": "code",
   "execution_count": 31,
   "metadata": {
    "collapsed": true
   },
   "outputs": [],
   "source": [
    "F=1\n",
    "N=12\n",
    "CR=0.5"
   ]
  },
  {
   "cell_type": "code",
   "execution_count": 32,
   "metadata": {
    "collapsed": true
   },
   "outputs": [],
   "source": [
    "mutations = initMutations(F, N, CR)"
   ]
  },
  {
   "cell_type": "code",
   "execution_count": 33,
   "metadata": {
    "collapsed": false
   },
   "outputs": [
    {
     "name": "stdout",
     "output_type": "stream",
     "text": [
      "\n",
      "\n",
      "\n",
      "\n",
      "\n",
      "\n"
     ]
    }
   ],
   "source": [
    "de_results = pd.DataFrame()\n",
    "for mutation in mutations:\n",
    "    de_res = experiment_de(of=rosenbrock2, maxeval=maxeval, num_runs=NUM_RUNS, N=N, CR=CR, F=F, mutation=mutation)\n",
    "    de_results = pd.concat([de_results, de_res], axis=0)"
   ]
  },
  {
   "cell_type": "code",
   "execution_count": 34,
   "metadata": {
    "collapsed": false
   },
   "outputs": [
    {
     "data": {
      "text/html": [
       "<div>\n",
       "<table border=\"1\" class=\"dataframe\">\n",
       "  <thead>\n",
       "    <tr style=\"text-align: right;\">\n",
       "      <th></th>\n",
       "      <th>heur</th>\n",
       "      <th>rel</th>\n",
       "      <th>mne</th>\n",
       "      <th>feo</th>\n",
       "    </tr>\n",
       "  </thead>\n",
       "  <tbody>\n",
       "    <tr>\n",
       "      <th>0</th>\n",
       "      <td>DE_12_0.5_1_deBest1</td>\n",
       "      <td>0.85</td>\n",
       "      <td>296.341176</td>\n",
       "      <td>348.636678</td>\n",
       "    </tr>\n",
       "    <tr>\n",
       "      <th>1</th>\n",
       "      <td>DE_12_0.5_1_deBest2</td>\n",
       "      <td>0.71</td>\n",
       "      <td>489.690141</td>\n",
       "      <td>689.704424</td>\n",
       "    </tr>\n",
       "    <tr>\n",
       "      <th>2</th>\n",
       "      <td>DE_12_0.5_1_deCurrentToBest1</td>\n",
       "      <td>0.91</td>\n",
       "      <td>381.318681</td>\n",
       "      <td>419.031518</td>\n",
       "    </tr>\n",
       "    <tr>\n",
       "      <th>3</th>\n",
       "      <td>DE_12_0.5_1_deRand1</td>\n",
       "      <td>0.98</td>\n",
       "      <td>348.734694</td>\n",
       "      <td>355.851728</td>\n",
       "    </tr>\n",
       "    <tr>\n",
       "      <th>4</th>\n",
       "      <td>DE_12_0.5_1_deRand2</td>\n",
       "      <td>0.78</td>\n",
       "      <td>437.205128</td>\n",
       "      <td>560.519395</td>\n",
       "    </tr>\n",
       "    <tr>\n",
       "      <th>5</th>\n",
       "      <td>DE_12_0.5_1_deRandToBest1</td>\n",
       "      <td>0.90</td>\n",
       "      <td>404.122222</td>\n",
       "      <td>449.024691</td>\n",
       "    </tr>\n",
       "  </tbody>\n",
       "</table>\n",
       "</div>"
      ],
      "text/plain": [
       "                           heur   rel         mne         feo\n",
       "0           DE_12_0.5_1_deBest1  0.85  296.341176  348.636678\n",
       "1           DE_12_0.5_1_deBest2  0.71  489.690141  689.704424\n",
       "2  DE_12_0.5_1_deCurrentToBest1  0.91  381.318681  419.031518\n",
       "3           DE_12_0.5_1_deRand1  0.98  348.734694  355.851728\n",
       "4           DE_12_0.5_1_deRand2  0.78  437.205128  560.519395\n",
       "5     DE_12_0.5_1_deRandToBest1  0.90  404.122222  449.024691"
      ]
     },
     "execution_count": 34,
     "metadata": {},
     "output_type": "execute_result"
    }
   ],
   "source": [
    "\n",
    "de_results_pivot = de_results.pivot_table(\n",
    "    index=['heur'],\n",
    "    values=['neval'],\n",
    "    aggfunc=(rel, mne, feo)\n",
    ")['neval']\n",
    "de_results_pivot = de_results_pivot.reset_index()\n",
    "\n",
    "de_results_pivot"
   ]
  },
  {
   "cell_type": "markdown",
   "metadata": {},
   "source": [
    "The reliability of all the experiments rose with growth in population, most significantly for best1 and best2. According to Feocristov criterium, best1 was the best for this run, due to small number of evaluation in opposition to rand1, which has high reliability, but also needs more evaluations."
   ]
  },
  {
   "cell_type": "markdown",
   "metadata": {},
   "source": [
    "Lets see, how increase of desired precision of outcome affect these results."
   ]
  },
  {
   "cell_type": "code",
   "execution_count": 39,
   "metadata": {
    "collapsed": true
   },
   "outputs": [],
   "source": [
    "rosenbrock2 = Rosenbrock(n=2, eps=0.001)"
   ]
  },
  {
   "cell_type": "code",
   "execution_count": 40,
   "metadata": {
    "collapsed": false,
    "scrolled": true
   },
   "outputs": [
    {
     "name": "stdout",
     "output_type": "stream",
     "text": [
      "\n",
      "\n",
      "\n",
      "\n",
      "\n",
      "\n"
     ]
    }
   ],
   "source": [
    "de_results = pd.DataFrame()\n",
    "for mutation in mutations:\n",
    "    de_res = experiment_de(of=rosenbrock2, maxeval=maxeval, num_runs=NUM_RUNS, N=N, CR=CR, F=F, mutation=mutation)\n",
    "    de_results = pd.concat([de_results, de_res], axis=0)"
   ]
  },
  {
   "cell_type": "code",
   "execution_count": 41,
   "metadata": {
    "collapsed": false
   },
   "outputs": [
    {
     "data": {
      "text/html": [
       "<div>\n",
       "<table border=\"1\" class=\"dataframe\">\n",
       "  <thead>\n",
       "    <tr style=\"text-align: right;\">\n",
       "      <th></th>\n",
       "      <th>heur</th>\n",
       "      <th>rel</th>\n",
       "      <th>mne</th>\n",
       "      <th>feo</th>\n",
       "    </tr>\n",
       "  </thead>\n",
       "  <tbody>\n",
       "    <tr>\n",
       "      <th>0</th>\n",
       "      <td>DE_12_0.5_1_deBest1</td>\n",
       "      <td>0.26</td>\n",
       "      <td>757.692308</td>\n",
       "      <td>2914.201183</td>\n",
       "    </tr>\n",
       "    <tr>\n",
       "      <th>1</th>\n",
       "      <td>DE_12_0.5_1_deBest2</td>\n",
       "      <td>0.01</td>\n",
       "      <td>286.000000</td>\n",
       "      <td>28600.000000</td>\n",
       "    </tr>\n",
       "    <tr>\n",
       "      <th>2</th>\n",
       "      <td>DE_12_0.5_1_deCurrentToBest1</td>\n",
       "      <td>0.13</td>\n",
       "      <td>713.692308</td>\n",
       "      <td>5489.940828</td>\n",
       "    </tr>\n",
       "    <tr>\n",
       "      <th>3</th>\n",
       "      <td>DE_12_0.5_1_deRand1</td>\n",
       "      <td>0.39</td>\n",
       "      <td>792.102564</td>\n",
       "      <td>2031.032216</td>\n",
       "    </tr>\n",
       "    <tr>\n",
       "      <th>4</th>\n",
       "      <td>DE_12_0.5_1_deRand2</td>\n",
       "      <td>0.02</td>\n",
       "      <td>313.500000</td>\n",
       "      <td>15675.000000</td>\n",
       "    </tr>\n",
       "    <tr>\n",
       "      <th>5</th>\n",
       "      <td>DE_12_0.5_1_deRandToBest1</td>\n",
       "      <td>0.09</td>\n",
       "      <td>865.555556</td>\n",
       "      <td>9617.283951</td>\n",
       "    </tr>\n",
       "  </tbody>\n",
       "</table>\n",
       "</div>"
      ],
      "text/plain": [
       "                           heur   rel         mne           feo\n",
       "0           DE_12_0.5_1_deBest1  0.26  757.692308   2914.201183\n",
       "1           DE_12_0.5_1_deBest2  0.01  286.000000  28600.000000\n",
       "2  DE_12_0.5_1_deCurrentToBest1  0.13  713.692308   5489.940828\n",
       "3           DE_12_0.5_1_deRand1  0.39  792.102564   2031.032216\n",
       "4           DE_12_0.5_1_deRand2  0.02  313.500000  15675.000000\n",
       "5     DE_12_0.5_1_deRandToBest1  0.09  865.555556   9617.283951"
      ]
     },
     "execution_count": 41,
     "metadata": {},
     "output_type": "execute_result"
    }
   ],
   "source": [
    "\n",
    "de_results_pivot = de_results.pivot_table(\n",
    "    index=['heur'],\n",
    "    values=['neval'],\n",
    "    aggfunc=(rel, mne, feo)\n",
    ")['neval']\n",
    "de_results_pivot = de_results_pivot.reset_index()\n",
    "\n",
    "de_results_pivot"
   ]
  },
  {
   "cell_type": "markdown",
   "metadata": {},
   "source": [
    "Most of the experiments did not finish, because maximal number of evaluations was exhausted. It is logical to increase the maximum if more precise solution is to be found."
   ]
  },
  {
   "cell_type": "code",
   "execution_count": 173,
   "metadata": {
    "collapsed": true
   },
   "outputs": [],
   "source": [
    "NUM_RUNS = 100\n",
    "maxeval = 10000"
   ]
  },
  {
   "cell_type": "code",
   "execution_count": 174,
   "metadata": {
    "collapsed": false
   },
   "outputs": [
    {
     "name": "stdout",
     "output_type": "stream",
     "text": [
      "\n",
      "\n"
     ]
    }
   ],
   "source": [
    "de_results = pd.DataFrame()\n",
    "for mutation in mutations:\n",
    "    de_res = experiment_de(of=rosenbrock2, maxeval=maxeval, num_runs=NUM_RUNS, N=N, CR=CR, F=F, mutation=mutation)\n",
    "    de_results = pd.concat([de_results, de_res], axis=0)"
   ]
  },
  {
   "cell_type": "code",
   "execution_count": 46,
   "metadata": {
    "collapsed": false
   },
   "outputs": [
    {
     "data": {
      "text/html": [
       "<div>\n",
       "<table border=\"1\" class=\"dataframe\">\n",
       "  <thead>\n",
       "    <tr style=\"text-align: right;\">\n",
       "      <th></th>\n",
       "      <th>heur</th>\n",
       "      <th>rel</th>\n",
       "      <th>mne</th>\n",
       "      <th>feo</th>\n",
       "    </tr>\n",
       "  </thead>\n",
       "  <tbody>\n",
       "    <tr>\n",
       "      <th>0</th>\n",
       "      <td>DE_12_0.5_1_deBest1</td>\n",
       "      <td>0.44</td>\n",
       "      <td>1153.477273</td>\n",
       "      <td>2621.539256</td>\n",
       "    </tr>\n",
       "    <tr>\n",
       "      <th>1</th>\n",
       "      <td>DE_12_0.5_1_deBest2</td>\n",
       "      <td>1.00</td>\n",
       "      <td>2205.060000</td>\n",
       "      <td>2205.060000</td>\n",
       "    </tr>\n",
       "    <tr>\n",
       "      <th>2</th>\n",
       "      <td>DE_12_0.5_1_deCurrentToBest1</td>\n",
       "      <td>0.44</td>\n",
       "      <td>1152.931818</td>\n",
       "      <td>2620.299587</td>\n",
       "    </tr>\n",
       "    <tr>\n",
       "      <th>3</th>\n",
       "      <td>DE_12_0.5_1_deRand1</td>\n",
       "      <td>0.82</td>\n",
       "      <td>1112.695122</td>\n",
       "      <td>1356.945271</td>\n",
       "    </tr>\n",
       "    <tr>\n",
       "      <th>4</th>\n",
       "      <td>DE_12_0.5_1_deRand2</td>\n",
       "      <td>1.00</td>\n",
       "      <td>2380.890000</td>\n",
       "      <td>2380.890000</td>\n",
       "    </tr>\n",
       "    <tr>\n",
       "      <th>5</th>\n",
       "      <td>DE_12_0.5_1_deRandToBest1</td>\n",
       "      <td>0.55</td>\n",
       "      <td>1414.072727</td>\n",
       "      <td>2571.041322</td>\n",
       "    </tr>\n",
       "  </tbody>\n",
       "</table>\n",
       "</div>"
      ],
      "text/plain": [
       "                           heur   rel          mne          feo\n",
       "0           DE_12_0.5_1_deBest1  0.44  1153.477273  2621.539256\n",
       "1           DE_12_0.5_1_deBest2  1.00  2205.060000  2205.060000\n",
       "2  DE_12_0.5_1_deCurrentToBest1  0.44  1152.931818  2620.299587\n",
       "3           DE_12_0.5_1_deRand1  0.82  1112.695122  1356.945271\n",
       "4           DE_12_0.5_1_deRand2  1.00  2380.890000  2380.890000\n",
       "5     DE_12_0.5_1_deRandToBest1  0.55  1414.072727  2571.041322"
      ]
     },
     "execution_count": 46,
     "metadata": {},
     "output_type": "execute_result"
    }
   ],
   "source": [
    "de_results_pivot = de_results.pivot_table(\n",
    "    index=['heur'],\n",
    "    values=['neval'],\n",
    "    aggfunc=(rel, mne, feo)\n",
    ")['neval']\n",
    "de_results_pivot = de_results_pivot.reset_index()\n",
    "\n",
    "de_results_pivot"
   ]
  },
  {
   "cell_type": "markdown",
   "metadata": {},
   "source": [
    "Best2 and rand2 are the most reliable, but also takes twice as much evaluations and are therefore slower. To Feocristov, rand1 is far best. Lets lower the precision and tweak N, F and CR parameters for the mutations."
   ]
  },
  {
   "cell_type": "code",
   "execution_count": 62,
   "metadata": {
    "collapsed": true
   },
   "outputs": [],
   "source": [
    "maxeval = 1000\n",
    "rosenbrock2 = Rosenbrock(n=2, eps=0.1)"
   ]
  },
  {
   "cell_type": "markdown",
   "metadata": {},
   "source": [
    "### Random-wise mutations"
   ]
  },
  {
   "cell_type": "code",
   "execution_count": 63,
   "metadata": {
    "collapsed": true
   },
   "outputs": [],
   "source": [
    "def initRandMutations(F, N, CR):\n",
    "    mutations = [\n",
    "    {'algorithm': deRand(F=F, N=N, CR=CR), 'name': 'deRand1'},\n",
    "    {'algorithm': deRand2(F=F, N=N, CR=CR), 'name': 'deRand2'},\n",
    "    ]\n",
    "    return mutations"
   ]
  },
  {
   "cell_type": "code",
   "execution_count": 90,
   "metadata": {
    "collapsed": true
   },
   "outputs": [],
   "source": [
    "F=0.3\n",
    "N=20\n",
    "CR=0.9\n",
    "mutations = initRandMutations(F, N, CR)"
   ]
  },
  {
   "cell_type": "code",
   "execution_count": 91,
   "metadata": {
    "collapsed": false
   },
   "outputs": [
    {
     "name": "stdout",
     "output_type": "stream",
     "text": [
      "\n",
      "\n"
     ]
    }
   ],
   "source": [
    "de_results = pd.DataFrame()\n",
    "for mutation in mutations:\n",
    "    de_res = experiment_de(of=rosenbrock2, maxeval=maxeval, num_runs=NUM_RUNS, N=N, CR=CR, F=F, mutation=mutation)\n",
    "    de_results = pd.concat([de_results, de_res], axis=0)"
   ]
  },
  {
   "cell_type": "code",
   "execution_count": 92,
   "metadata": {
    "collapsed": false
   },
   "outputs": [
    {
     "data": {
      "text/html": [
       "<div>\n",
       "<table border=\"1\" class=\"dataframe\">\n",
       "  <thead>\n",
       "    <tr style=\"text-align: right;\">\n",
       "      <th></th>\n",
       "      <th>heur</th>\n",
       "      <th>rel</th>\n",
       "      <th>mne</th>\n",
       "      <th>feo</th>\n",
       "    </tr>\n",
       "  </thead>\n",
       "  <tbody>\n",
       "    <tr>\n",
       "      <th>0</th>\n",
       "      <td>DE_20_0.9_0.3_deRand1</td>\n",
       "      <td>0.81</td>\n",
       "      <td>141.469136</td>\n",
       "      <td>174.653254</td>\n",
       "    </tr>\n",
       "    <tr>\n",
       "      <th>1</th>\n",
       "      <td>DE_20_0.9_0.3_deRand2</td>\n",
       "      <td>0.92</td>\n",
       "      <td>172.500000</td>\n",
       "      <td>187.500000</td>\n",
       "    </tr>\n",
       "  </tbody>\n",
       "</table>\n",
       "</div>"
      ],
      "text/plain": [
       "                    heur   rel         mne         feo\n",
       "0  DE_20_0.9_0.3_deRand1  0.81  141.469136  174.653254\n",
       "1  DE_20_0.9_0.3_deRand2  0.92  172.500000  187.500000"
      ]
     },
     "execution_count": 92,
     "metadata": {},
     "output_type": "execute_result"
    }
   ],
   "source": [
    "de_results_pivot = de_results.pivot_table(\n",
    "    index=['heur'],\n",
    "    values=['neval'],\n",
    "    aggfunc=(rel, mne, feo)\n",
    ")['neval']\n",
    "de_results_pivot = de_results_pivot.reset_index()\n",
    "\n",
    "de_results_pivot"
   ]
  },
  {
   "cell_type": "markdown",
   "metadata": {},
   "source": [
    "After few experiments, this setup seems to be good. With increase of $F$, reliability growths, but number of evaluations growths as well, keeping Feocristov criterium at approximately the same level. It can be seen, that rand2 method is more reliable than rand1, but it takes more evaluations, so there is tradeoff between reliability and time consumption."
   ]
  },
  {
   "cell_type": "markdown",
   "metadata": {},
   "source": [
    "### Best-finding mutations"
   ]
  },
  {
   "cell_type": "code",
   "execution_count": 93,
   "metadata": {
    "collapsed": true
   },
   "outputs": [],
   "source": [
    "def initBestMutations(F, N, CR):\n",
    "    mutations = [\n",
    "    {'algorithm': deBest(F=F, N=N, CR=CR), 'name': 'deBest1'},\n",
    "    {'algorithm': deBest2(F=F, N=N, CR=CR), 'name': 'deBest2'},\n",
    "    {'algorithm': deCurrentToBest1(F=F, N=N, CR=CR), 'name': 'deCurrentToBest1'},\n",
    "    {'algorithm': deRandToBest1(F=F, N=N, CR=CR), 'name': 'deRandToBest1'},\n",
    "    ]\n",
    "    return mutations"
   ]
  },
  {
   "cell_type": "markdown",
   "metadata": {},
   "source": [
    "It is my expectation, that these mutations will profit from broad population and lower value of $CR$, as it is desired to keep the best solution \"on its way\".\n",
    "\n",
    "Lets try the same setup as for the random-wise mutations:"
   ]
  },
  {
   "cell_type": "code",
   "execution_count": 97,
   "metadata": {
    "collapsed": true
   },
   "outputs": [],
   "source": [
    "F=0.3\n",
    "N=20\n",
    "CR=0.9\n",
    "mutations = initBestMutations(F, N, CR)"
   ]
  },
  {
   "cell_type": "code",
   "execution_count": 95,
   "metadata": {
    "collapsed": false
   },
   "outputs": [
    {
     "name": "stdout",
     "output_type": "stream",
     "text": [
      "\n",
      "\n",
      "\n",
      "\n"
     ]
    }
   ],
   "source": [
    "de_results = pd.DataFrame()\n",
    "for mutation in mutations:\n",
    "    de_res = experiment_de(of=rosenbrock2, maxeval=maxeval, num_runs=NUM_RUNS, N=N, CR=CR, F=F, mutation=mutation)\n",
    "    de_results = pd.concat([de_results, de_res], axis=0)"
   ]
  },
  {
   "cell_type": "code",
   "execution_count": 96,
   "metadata": {
    "collapsed": false
   },
   "outputs": [
    {
     "data": {
      "text/html": [
       "<div>\n",
       "<table border=\"1\" class=\"dataframe\">\n",
       "  <thead>\n",
       "    <tr style=\"text-align: right;\">\n",
       "      <th></th>\n",
       "      <th>heur</th>\n",
       "      <th>rel</th>\n",
       "      <th>mne</th>\n",
       "      <th>feo</th>\n",
       "    </tr>\n",
       "  </thead>\n",
       "  <tbody>\n",
       "    <tr>\n",
       "      <th>0</th>\n",
       "      <td>DE_20_0.9_0.3_deBest1</td>\n",
       "      <td>0.86</td>\n",
       "      <td>296.325581</td>\n",
       "      <td>344.564630</td>\n",
       "    </tr>\n",
       "    <tr>\n",
       "      <th>1</th>\n",
       "      <td>DE_20_0.9_0.3_deBest2</td>\n",
       "      <td>1.00</td>\n",
       "      <td>121.400000</td>\n",
       "      <td>121.400000</td>\n",
       "    </tr>\n",
       "    <tr>\n",
       "      <th>2</th>\n",
       "      <td>DE_20_0.9_0.3_deCurrentToBest1</td>\n",
       "      <td>0.47</td>\n",
       "      <td>194.276596</td>\n",
       "      <td>413.354459</td>\n",
       "    </tr>\n",
       "    <tr>\n",
       "      <th>3</th>\n",
       "      <td>DE_20_0.9_0.3_deRandToBest1</td>\n",
       "      <td>0.60</td>\n",
       "      <td>115.000000</td>\n",
       "      <td>191.666667</td>\n",
       "    </tr>\n",
       "  </tbody>\n",
       "</table>\n",
       "</div>"
      ],
      "text/plain": [
       "                             heur   rel         mne         feo\n",
       "0           DE_20_0.9_0.3_deBest1  0.86  296.325581  344.564630\n",
       "1           DE_20_0.9_0.3_deBest2  1.00  121.400000  121.400000\n",
       "2  DE_20_0.9_0.3_deCurrentToBest1  0.47  194.276596  413.354459\n",
       "3     DE_20_0.9_0.3_deRandToBest1  0.60  115.000000  191.666667"
      ]
     },
     "execution_count": 96,
     "metadata": {},
     "output_type": "execute_result"
    }
   ],
   "source": [
    "de_results_pivot = de_results.pivot_table(\n",
    "    index=['heur'],\n",
    "    values=['neval'],\n",
    "    aggfunc=(rel, mne, feo)\n",
    ")['neval']\n",
    "de_results_pivot = de_results_pivot.reset_index()\n",
    "\n",
    "de_results_pivot"
   ]
  },
  {
   "cell_type": "markdown",
   "metadata": {},
   "source": [
    "Best2 is far superior so far, and after other parameters setup, no better result could be achieved with best1 and best2. With growth of population size, reliability grows, but number of evaluations grows more rapidli thus lowering feocristov criterium. Let us now examine currentToBest1 and randToBest1 mutations"
   ]
  },
  {
   "cell_type": "code",
   "execution_count": 116,
   "metadata": {
    "collapsed": true
   },
   "outputs": [],
   "source": [
    "def initLastMutations(F, N, CR):\n",
    "    mutations = [\n",
    "    {'algorithm': deCurrentToBest1(F=F, N=N, CR=CR), 'name': 'deCurrentToBest1'},\n",
    "    {'algorithm': deRandToBest1(F=F, N=N, CR=CR), 'name': 'deRandToBest1'},\n",
    "    ]\n",
    "    return mutations"
   ]
  },
  {
   "cell_type": "code",
   "execution_count": 146,
   "metadata": {
    "collapsed": true
   },
   "outputs": [],
   "source": [
    "F=1.0\n",
    "N=20\n",
    "CR=0.97\n",
    "mutations = initLastMutations(F, N, CR)"
   ]
  },
  {
   "cell_type": "code",
   "execution_count": 147,
   "metadata": {
    "collapsed": false
   },
   "outputs": [
    {
     "name": "stdout",
     "output_type": "stream",
     "text": [
      "\n",
      "\n"
     ]
    }
   ],
   "source": [
    "de_results = pd.DataFrame()\n",
    "for mutation in mutations:\n",
    "    de_res = experiment_de(of=rosenbrock2, maxeval=maxeval, num_runs=NUM_RUNS, N=N, CR=CR, F=F, mutation=mutation)\n",
    "    de_results = pd.concat([de_results, de_res], axis=0)"
   ]
  },
  {
   "cell_type": "code",
   "execution_count": 148,
   "metadata": {
    "collapsed": false
   },
   "outputs": [
    {
     "data": {
      "text/html": [
       "<div>\n",
       "<table border=\"1\" class=\"dataframe\">\n",
       "  <thead>\n",
       "    <tr style=\"text-align: right;\">\n",
       "      <th></th>\n",
       "      <th>heur</th>\n",
       "      <th>rel</th>\n",
       "      <th>mne</th>\n",
       "      <th>feo</th>\n",
       "    </tr>\n",
       "  </thead>\n",
       "  <tbody>\n",
       "    <tr>\n",
       "      <th>0</th>\n",
       "      <td>DE_20_0.97_1.0_deCurrentToBest1</td>\n",
       "      <td>0.99</td>\n",
       "      <td>284.373737</td>\n",
       "      <td>287.246199</td>\n",
       "    </tr>\n",
       "    <tr>\n",
       "      <th>1</th>\n",
       "      <td>DE_20_0.97_1.0_deRandToBest1</td>\n",
       "      <td>0.97</td>\n",
       "      <td>363.103093</td>\n",
       "      <td>374.333085</td>\n",
       "    </tr>\n",
       "  </tbody>\n",
       "</table>\n",
       "</div>"
      ],
      "text/plain": [
       "                              heur   rel         mne         feo\n",
       "0  DE_20_0.97_1.0_deCurrentToBest1  0.99  284.373737  287.246199\n",
       "1     DE_20_0.97_1.0_deRandToBest1  0.97  363.103093  374.333085"
      ]
     },
     "execution_count": 148,
     "metadata": {},
     "output_type": "execute_result"
    }
   ],
   "source": [
    "de_results_pivot = de_results.pivot_table(\n",
    "    index=['heur'],\n",
    "    values=['neval'],\n",
    "    aggfunc=(rel, mne, feo)\n",
    ")['neval']\n",
    "de_results_pivot = de_results_pivot.reset_index()\n",
    "\n",
    "de_results_pivot"
   ]
  },
  {
   "cell_type": "markdown",
   "metadata": {},
   "source": [
    "These experiments are strongly reliable for $CR$ value close to $1$ and $F$ value deviationg around $1$, which is usable property, but number of evaluations is much higher than with best2 or rand1/2. Lowering F value leads to satisfyingly small number of evaluations but with the cost of low reliability and lowering CR leads to great reliability but higher number of evaluations (see below), so this setup is balanced."
   ]
  },
  {
   "cell_type": "code",
   "execution_count": 158,
   "metadata": {
    "collapsed": true
   },
   "outputs": [],
   "source": [
    "F=1\n",
    "N=20\n",
    "CR=0.5\n",
    "mutations = initLastMutations(F, N, CR)"
   ]
  },
  {
   "cell_type": "code",
   "execution_count": 159,
   "metadata": {
    "collapsed": false
   },
   "outputs": [
    {
     "name": "stdout",
     "output_type": "stream",
     "text": [
      "\n",
      "\n"
     ]
    }
   ],
   "source": [
    "de_results = pd.DataFrame()\n",
    "for mutation in mutations:\n",
    "    de_res = experiment_de(of=rosenbrock2, maxeval=maxeval, num_runs=NUM_RUNS, N=N, CR=CR, F=F, mutation=mutation)\n",
    "    de_results = pd.concat([de_results, de_res], axis=0)"
   ]
  },
  {
   "cell_type": "code",
   "execution_count": 160,
   "metadata": {
    "collapsed": false
   },
   "outputs": [
    {
     "data": {
      "text/html": [
       "<div>\n",
       "<table border=\"1\" class=\"dataframe\">\n",
       "  <thead>\n",
       "    <tr style=\"text-align: right;\">\n",
       "      <th></th>\n",
       "      <th>heur</th>\n",
       "      <th>rel</th>\n",
       "      <th>mne</th>\n",
       "      <th>feo</th>\n",
       "    </tr>\n",
       "  </thead>\n",
       "  <tbody>\n",
       "    <tr>\n",
       "      <th>0</th>\n",
       "      <td>DE_20_0.5_1_deCurrentToBest1</td>\n",
       "      <td>0.99</td>\n",
       "      <td>503.747475</td>\n",
       "      <td>508.835833</td>\n",
       "    </tr>\n",
       "    <tr>\n",
       "      <th>1</th>\n",
       "      <td>DE_20_0.5_1_deRandToBest1</td>\n",
       "      <td>0.99</td>\n",
       "      <td>498.070707</td>\n",
       "      <td>503.101724</td>\n",
       "    </tr>\n",
       "  </tbody>\n",
       "</table>\n",
       "</div>"
      ],
      "text/plain": [
       "                           heur   rel         mne         feo\n",
       "0  DE_20_0.5_1_deCurrentToBest1  0.99  503.747475  508.835833\n",
       "1     DE_20_0.5_1_deRandToBest1  0.99  498.070707  503.101724"
      ]
     },
     "execution_count": 160,
     "metadata": {},
     "output_type": "execute_result"
    }
   ],
   "source": [
    "de_results_pivot = de_results.pivot_table(\n",
    "    index=['heur'],\n",
    "    values=['neval'],\n",
    "    aggfunc=(rel, mne, feo)\n",
    ")['neval']\n",
    "de_results_pivot = de_results_pivot.reset_index()\n",
    "\n",
    "de_results_pivot"
   ]
  },
  {
   "cell_type": "markdown",
   "metadata": {},
   "source": [
    "### Best setups\n",
    "This table shows results for the best setups of parameters for the mutations revised"
   ]
  },
  {
   "cell_type": "code",
   "execution_count": 162,
   "metadata": {
    "collapsed": false
   },
   "outputs": [
    {
     "name": "stdout",
     "output_type": "stream",
     "text": [
      "\n",
      "\n"
     ]
    }
   ],
   "source": [
    "de_results_rand = pd.DataFrame()\n",
    "F=0.3\n",
    "N=20\n",
    "CR=0.9\n",
    "mutations = initRandMutations(F, N, CR)\n",
    "for mutation in mutations:\n",
    "    de_res = experiment_de(of=rosenbrock2, maxeval=maxeval, num_runs=NUM_RUNS, N=N, CR=CR, F=F, mutation=mutation)\n",
    "    de_results_rand = pd.concat([de_results_rand, de_res], axis=0)"
   ]
  },
  {
   "cell_type": "code",
   "execution_count": 163,
   "metadata": {
    "collapsed": false
   },
   "outputs": [
    {
     "name": "stdout",
     "output_type": "stream",
     "text": [
      "\n",
      "\n",
      "\n",
      "\n"
     ]
    }
   ],
   "source": [
    "de_results_best= pd.DataFrame()\n",
    "F=0.3\n",
    "N=20\n",
    "CR=0.9\n",
    "mutations = initBestMutations(F, N, CR)\n",
    "for mutation in mutations:\n",
    "    de_res = experiment_de(of=rosenbrock2, maxeval=maxeval, num_runs=NUM_RUNS, N=N, CR=CR, F=F, mutation=mutation)\n",
    "    de_results_best = pd.concat([de_results_best, de_res], axis=0)"
   ]
  },
  {
   "cell_type": "code",
   "execution_count": 164,
   "metadata": {
    "collapsed": false
   },
   "outputs": [
    {
     "name": "stdout",
     "output_type": "stream",
     "text": [
      "\n",
      "\n"
     ]
    }
   ],
   "source": [
    "de_results_last= pd.DataFrame()\n",
    "F=1.0\n",
    "N=20\n",
    "CR=0.97\n",
    "mutations = initLastMutations(F, N, CR)\n",
    "for mutation in mutations:\n",
    "    de_res = experiment_de(of=rosenbrock2, maxeval=maxeval, num_runs=NUM_RUNS, N=N, CR=CR, F=F, mutation=mutation)\n",
    "    de_results_last = pd.concat([de_results_last, de_res], axis=0)"
   ]
  },
  {
   "cell_type": "code",
   "execution_count": 171,
   "metadata": {
    "collapsed": false
   },
   "outputs": [
    {
     "data": {
      "text/html": [
       "<div>\n",
       "<table border=\"1\" class=\"dataframe\">\n",
       "  <thead>\n",
       "    <tr style=\"text-align: right;\">\n",
       "      <th></th>\n",
       "      <th>heur</th>\n",
       "      <th>rel</th>\n",
       "      <th>mne</th>\n",
       "      <th>feo</th>\n",
       "    </tr>\n",
       "  </thead>\n",
       "  <tbody>\n",
       "    <tr>\n",
       "      <th>3</th>\n",
       "      <td>DE_20_0.9_0.3_deBest2</td>\n",
       "      <td>1.00</td>\n",
       "      <td>156.490000</td>\n",
       "      <td>156.490000</td>\n",
       "    </tr>\n",
       "    <tr>\n",
       "      <th>5</th>\n",
       "      <td>DE_20_0.9_0.3_deRand1</td>\n",
       "      <td>0.86</td>\n",
       "      <td>143.046512</td>\n",
       "      <td>166.333153</td>\n",
       "    </tr>\n",
       "    <tr>\n",
       "      <th>7</th>\n",
       "      <td>DE_20_0.9_0.3_deRandToBest1</td>\n",
       "      <td>0.47</td>\n",
       "      <td>94.000000</td>\n",
       "      <td>200.000000</td>\n",
       "    </tr>\n",
       "    <tr>\n",
       "      <th>6</th>\n",
       "      <td>DE_20_0.9_0.3_deRand2</td>\n",
       "      <td>0.86</td>\n",
       "      <td>204.732558</td>\n",
       "      <td>238.061114</td>\n",
       "    </tr>\n",
       "    <tr>\n",
       "      <th>2</th>\n",
       "      <td>DE_20_0.9_0.3_deBest1</td>\n",
       "      <td>0.88</td>\n",
       "      <td>313.613636</td>\n",
       "      <td>356.379132</td>\n",
       "    </tr>\n",
       "    <tr>\n",
       "      <th>1</th>\n",
       "      <td>DE_20_0.97_1.0_deRandToBest1</td>\n",
       "      <td>0.99</td>\n",
       "      <td>365.949495</td>\n",
       "      <td>369.645954</td>\n",
       "    </tr>\n",
       "    <tr>\n",
       "      <th>0</th>\n",
       "      <td>DE_20_0.97_1.0_deCurrentToBest1</td>\n",
       "      <td>0.96</td>\n",
       "      <td>382.750000</td>\n",
       "      <td>398.697917</td>\n",
       "    </tr>\n",
       "    <tr>\n",
       "      <th>4</th>\n",
       "      <td>DE_20_0.9_0.3_deCurrentToBest1</td>\n",
       "      <td>0.59</td>\n",
       "      <td>284.440678</td>\n",
       "      <td>482.102844</td>\n",
       "    </tr>\n",
       "  </tbody>\n",
       "</table>\n",
       "</div>"
      ],
      "text/plain": [
       "                              heur   rel         mne         feo\n",
       "3            DE_20_0.9_0.3_deBest2  1.00  156.490000  156.490000\n",
       "5            DE_20_0.9_0.3_deRand1  0.86  143.046512  166.333153\n",
       "7      DE_20_0.9_0.3_deRandToBest1  0.47   94.000000  200.000000\n",
       "6            DE_20_0.9_0.3_deRand2  0.86  204.732558  238.061114\n",
       "2            DE_20_0.9_0.3_deBest1  0.88  313.613636  356.379132\n",
       "1     DE_20_0.97_1.0_deRandToBest1  0.99  365.949495  369.645954\n",
       "0  DE_20_0.97_1.0_deCurrentToBest1  0.96  382.750000  398.697917\n",
       "4   DE_20_0.9_0.3_deCurrentToBest1  0.59  284.440678  482.102844"
      ]
     },
     "execution_count": 171,
     "metadata": {},
     "output_type": "execute_result"
    }
   ],
   "source": [
    "de_results_pivot_final = pd.concat([de_results_rand,de_results_best,de_results_last], axis=0)\n",
    "de_results_pivot_final = de_results_final.pivot_table(\n",
    "    index=['heur'],\n",
    "    values=['neval'],\n",
    "    aggfunc=(rel, mne, feo)\n",
    ")['neval']\n",
    "de_results_pivot_final = de_results_pivot_final.reset_index()\n",
    "\n",
    "de_results_pivot_final.sort_values('feo')"
   ]
  },
  {
   "cell_type": "markdown",
   "metadata": {},
   "source": [
    "## Conclusion\n",
    "The goal of this notebook was not to find the best parameters setup for optimizing Rosenbrock function with Differential Evolution, but to tweak the parameters for each of implemented mutaion. Some assumptions about influence of parameters was made base od the knowledge of the heuristics and some of the parameter tunig was made with aposterior information by experimenting with different setups.\n",
    "\n",
    "Rosenbrock function can be characterized more as simple task than hard, because it is unimodal. This unimodality could favor methods using best individual in population when mutating, beacause there is no risk of stucking in local minimum. It showed up, that best mutation to be used is truly based on finding best individual. It also showed up, that totally random approach is very usefull, beacause classical random mutation was fast, reliable and with small number of evaluations. If there is need to keep machine time to the lowest, classical random mutation (rand1) should be used, as it was approximately twice as fast as best2, but if time consumption is not so much important, than the mutation is best2 with great reliability and low number of evaluations.\n",
    "\n",
    "Other methods showed to be mediocore for this function, but I can imagine for example randToBest1 with $F = 1$ might be choice for harder tasks with big need for reliability, if there is use for time-consuming finding of best solution.\n",
    "\n",
    "In order of NO FREE LUNCH theorem, this notebook does not show the best parameter setup for DE, but demonstrates some ways of using different mutations for DE on problem of optimization of unimodal 2D function with nontrivial solution."
   ]
  },
  {
   "cell_type": "code",
   "execution_count": null,
   "metadata": {
    "collapsed": true
   },
   "outputs": [],
   "source": []
  }
 ],
 "metadata": {
  "kernelspec": {
   "display_name": "Python 3",
   "language": "python",
   "name": "python3"
  },
  "language_info": {
   "codemirror_mode": {
    "name": "ipython",
    "version": 3
   },
   "file_extension": ".py",
   "mimetype": "text/x-python",
   "name": "python",
   "nbconvert_exporter": "python",
   "pygments_lexer": "ipython3",
   "version": "3.6.0"
  },
  "widgets": {
   "state": {
    "000f9ecf892548858b0900ea29a87012": {
     "views": [
      {
       "cell_index": 51
      }
     ]
    },
    "00a123fcab3f4ae18cbbd7759cfcba25": {
     "views": [
      {
       "cell_index": 40
      }
     ]
    },
    "020fdae963434d58ae9e7ac2dcd9c344": {
     "views": [
      {
       "cell_index": 19
      }
     ]
    },
    "021012b0147a4c67864b8991a9803bf6": {
     "views": [
      {
       "cell_index": 24
      }
     ]
    },
    "053058d52e6c47709a77dba979a24779": {
     "views": [
      {
       "cell_index": 52
      }
     ]
    },
    "0727940a85de4d40ad88bf456dc1a041": {
     "views": [
      {
       "cell_index": 19
      }
     ]
    },
    "0df6b8e5946a4947b51ec633584a14c3": {
     "views": [
      {
       "cell_index": 60
      }
     ]
    },
    "12620821ebc34b2b9447a2fc396a83ba": {
     "views": [
      {
       "cell_index": 24
      }
     ]
    },
    "17d8110063f0430fb4d18d2e825ea0a8": {
     "views": [
      {
       "cell_index": 17
      }
     ]
    },
    "1d49eba5023742148f288a442dae76e3": {
     "views": [
      {
       "cell_index": 29
      }
     ]
    },
    "1da59789e1ae4c519c6bbd44165fc9e7": {
     "views": [
      {
       "cell_index": 29
      }
     ]
    },
    "1e8eb874f8e7427ba98c5f2190ab4ede": {
     "views": [
      {
       "cell_index": 40
      }
     ]
    },
    "1f2b3051a1da4d14b71afd70ce8e53bf": {
     "views": [
      {
       "cell_index": 29
      }
     ]
    },
    "1fb888499c7547c29d6e6cdc26c66fd5": {
     "views": [
      {
       "cell_index": 40
      }
     ]
    },
    "26930d29c8044698a11f1146e4d91635": {
     "views": [
      {
       "cell_index": 56
      }
     ]
    },
    "274b25e2f0c04eaa8095179750675aca": {
     "views": [
      {
       "cell_index": 19
      }
     ]
    },
    "2a204882e945464f8a50f33bf57e2efa": {
     "views": [
      {
       "cell_index": 40
      }
     ]
    },
    "31de60290a004030804b8e2cd85c3a15": {
     "views": [
      {
       "cell_index": 40
      }
     ]
    },
    "3297c785a76546e6a7ff191a86bacab6": {
     "views": [
      {
       "cell_index": 52
      }
     ]
    },
    "38716f84e83e414286c6d0b16099697e": {
     "views": [
      {
       "cell_index": 51
      }
     ]
    },
    "38b577268d5c46519eabf4a7d875b701": {
     "views": [
      {
       "cell_index": 24
      }
     ]
    },
    "3c475e0a2fcf42328ac73ae4894f11d0": {
     "views": [
      {
       "cell_index": 32
      }
     ]
    },
    "3cc63808d5574f9d894dc48eb31eaa7c": {
     "views": [
      {
       "cell_index": 24
      }
     ]
    },
    "40e9f7dc27f94909b90dd0c9e93fe822": {
     "views": [
      {
       "cell_index": 24
      }
     ]
    },
    "42232f1c508341ef87b0ecdbcfb09c2c": {
     "views": [
      {
       "cell_index": 60
      }
     ]
    },
    "42324d3a59d046daa510475ed56bd957": {
     "views": [
      {
       "cell_index": 51
      }
     ]
    },
    "43bcc4328b7c41abb8c345d3d958efe7": {
     "views": [
      {
       "cell_index": 51
      }
     ]
    },
    "4adeb0c5f2be43bd937366f7ed5e9298": {
     "views": [
      {
       "cell_index": 40
      }
     ]
    },
    "4bd62879dfaa437bb0c97371f52f7a8b": {
     "views": [
      {
       "cell_index": 52
      }
     ]
    },
    "4d17fe39aa2348c390269b02dcc21ac1": {
     "views": [
      {
       "cell_index": 19
      }
     ]
    },
    "4d3ffb31b2124e189525031e60d1cefe": {
     "views": [
      {
       "cell_index": 32
      }
     ]
    },
    "4edcb8b11aaa46c6920a0d6b4d38d8d6": {
     "views": [
      {
       "cell_index": 40
      }
     ]
    },
    "4f3a99ee05e04fcaaafdd505f21243c3": {
     "views": [
      {
       "cell_index": 24
      }
     ]
    },
    "51a0e79c85474f1f833dcb654f4163b3": {
     "views": [
      {
       "cell_index": 52
      }
     ]
    },
    "55718271f5d24cedb12b039b91a5afbf": {
     "views": [
      {
       "cell_index": 52
      }
     ]
    },
    "56cf0d4798e845889feea9c52b4a8645": {
     "views": [
      {
       "cell_index": 61
      }
     ]
    },
    "6251ee07ff414f6dba4540c00312ab6c": {
     "views": [
      {
       "cell_index": 19
      }
     ]
    },
    "63dd9d1ce3934121b9a4469ed9aeac48": {
     "views": [
      {
       "cell_index": 29
      }
     ]
    },
    "6d5ab9a6d54848759c3a9e9842bed14f": {
     "views": [
      {
       "cell_index": 51
      }
     ]
    },
    "6e5723c68a494c6289a10e79ea466f5f": {
     "views": [
      {
       "cell_index": 59
      }
     ]
    },
    "6ee6301eef8d4ca6aed81a2b8c89b26e": {
     "views": [
      {
       "cell_index": 33
      }
     ]
    },
    "750cb9fbf54045f08251931ead29c298": {
     "views": [
      {
       "cell_index": 19
      }
     ]
    },
    "7887e9d7f6014ac39d4b1024e43aab29": {
     "views": [
      {
       "cell_index": 29
      }
     ]
    },
    "78d56980b52142209bde131582c5eae4": {
     "views": [
      {
       "cell_index": 33
      }
     ]
    },
    "7a9dbbb85056450ebb263204b759dc1d": {
     "views": [
      {
       "cell_index": 51
      }
     ]
    },
    "7c58b877438b494789b0fcfb0dc00947": {
     "views": [
      {
       "cell_index": 24
      }
     ]
    },
    "8046d3d186f8449a908af375f900400a": {
     "views": [
      {
       "cell_index": 19
      }
     ]
    },
    "831c760f23204fe48dcda6200f8345b3": {
     "views": [
      {
       "cell_index": 24
      }
     ]
    },
    "84c3f9c7673b480ba669a7acf585fc2e": {
     "views": [
      {
       "cell_index": 19
      }
     ]
    },
    "89ba6d5d48de4aa69bb39f048896748a": {
     "views": [
      {
       "cell_index": 51
      }
     ]
    },
    "8a796f2390884b849fd18daef29016e3": {
     "views": [
      {
       "cell_index": 24
      }
     ]
    },
    "8b0af2166f004dc487997c8646dc2ea3": {
     "views": [
      {
       "cell_index": 61
      }
     ]
    },
    "8b125fec7a554486af809b9be7975b56": {
     "views": [
      {
       "cell_index": 51
      }
     ]
    },
    "914073465e3342b5ae6a1a442a23a646": {
     "views": [
      {
       "cell_index": 40
      }
     ]
    },
    "92bf3e9bfed84605a888ade1ffa82e6d": {
     "views": [
      {
       "cell_index": 40
      }
     ]
    },
    "92cb14f243024a9eb455379a00b1594d": {
     "views": [
      {
       "cell_index": 19
      }
     ]
    },
    "97e1b4d781714e498ef34bf97251edb0": {
     "views": [
      {
       "cell_index": 19
      }
     ]
    },
    "9ecd491dc2894bfbae8c2e763aba4433": {
     "views": [
      {
       "cell_index": 52
      }
     ]
    },
    "9f978db58ee84d8fa257c005a2d40f53": {
     "views": [
      {
       "cell_index": 40
      }
     ]
    },
    "a1e602662a5f46509c1d32e568f6ac87": {
     "views": [
      {
       "cell_index": 40
      }
     ]
    },
    "a636878ebef642a0a15db04fa84d417f": {
     "views": [
      {
       "cell_index": 51
      }
     ]
    },
    "a696bfbeb8ae46c58ed5141f4bacfccd": {
     "views": [
      {
       "cell_index": 61
      }
     ]
    },
    "a995f6fd8b0b448ea42333f384b11203": {
     "views": [
      {
       "cell_index": 40
      }
     ]
    },
    "ad554345e732423ebcc8cb0228051b9d": {
     "views": [
      {
       "cell_index": 17
      }
     ]
    },
    "aea3aec172bc4220b035bd70c35b8779": {
     "views": [
      {
       "cell_index": 59
      }
     ]
    },
    "af705d7195dc42c2ac1704a46dd3de13": {
     "views": [
      {
       "cell_index": 29
      }
     ]
    },
    "b163891f039441fdba8feebcde215c1d": {
     "views": [
      {
       "cell_index": 32
      }
     ]
    },
    "b1929105e8e541d6a1445f81c7f104d8": {
     "views": [
      {
       "cell_index": 24
      }
     ]
    },
    "b94e439dc5334691956ffcf09d12e7d5": {
     "views": [
      {
       "cell_index": 52
      }
     ]
    },
    "bbf96b27f55544459fd90736ec937722": {
     "views": [
      {
       "cell_index": 47
      }
     ]
    },
    "c92e0cdad6e54be7be56cccf21fa2c9c": {
     "views": [
      {
       "cell_index": 52
      }
     ]
    },
    "ca96c62283594bda84c399a7acec5601": {
     "views": [
      {
       "cell_index": 19
      }
     ]
    },
    "ce317b57cc164e87b561a4c4fef713fd": {
     "views": [
      {
       "cell_index": 40
      }
     ]
    },
    "d0020c8a5bd0403abc3e9711c79ccc8b": {
     "views": [
      {
       "cell_index": 52
      }
     ]
    },
    "d229becd552a406e920ed0f656253f54": {
     "views": [
      {
       "cell_index": 40
      }
     ]
    },
    "d3809e3bd5394ea8a958272364684a62": {
     "views": [
      {
       "cell_index": 61
      }
     ]
    },
    "d476798fd48440ab88e9b6539bca113c": {
     "views": [
      {
       "cell_index": 47
      }
     ]
    },
    "d7a8657f26ca4a53b89db5c1fd3674fd": {
     "views": [
      {
       "cell_index": 24
      }
     ]
    },
    "d9be591d2b2e40e38e817f651668a07a": {
     "views": [
      {
       "cell_index": 59
      }
     ]
    },
    "ddc2c245c4ec443b9af15111aff82351": {
     "views": [
      {
       "cell_index": 40
      }
     ]
    },
    "ddd73412328f49adad44462ff8332320": {
     "views": [
      {
       "cell_index": 61
      }
     ]
    },
    "df67f6ae68f1487ca7a5dac4fc15ef4d": {
     "views": [
      {
       "cell_index": 17
      }
     ]
    },
    "df6853042c0744e7a1dbc0c6bda7ef81": {
     "views": [
      {
       "cell_index": 32
      }
     ]
    },
    "e13112a4ab7a4571b3bc3c74f09c5d9f": {
     "views": [
      {
       "cell_index": 47
      }
     ]
    },
    "e3738dff069749e28be14d570f304cb2": {
     "views": [
      {
       "cell_index": 56
      }
     ]
    },
    "e3f9d890ae4c45c99e3d772bf6cbdadf": {
     "views": [
      {
       "cell_index": 47
      }
     ]
    },
    "e5bafc91c5fc46d88f1d5fc064b5d050": {
     "views": [
      {
       "cell_index": 24
      }
     ]
    },
    "e91e9278164e41ecaa352d8e09e75753": {
     "views": [
      {
       "cell_index": 52
      }
     ]
    },
    "eccd31aa42a74eaca129ea78c31d6b43": {
     "views": [
      {
       "cell_index": 52
      }
     ]
    },
    "ed661026d3a94e2f866b94cddeaa85b4": {
     "views": [
      {
       "cell_index": 51
      }
     ]
    },
    "ee4ebfef693d441eb76991bd9103d70c": {
     "views": [
      {
       "cell_index": 56
      }
     ]
    },
    "eec35af309ba49d1970deb74a51577bd": {
     "views": [
      {
       "cell_index": 59
      }
     ]
    },
    "f037deb7832a47d4bb939eeed17786fe": {
     "views": [
      {
       "cell_index": 51
      }
     ]
    },
    "f2055344443544bd97230e69bf85ac98": {
     "views": [
      {
       "cell_index": 19
      }
     ]
    },
    "f3f4c6d3b02b4e139220002e3c777358": {
     "views": [
      {
       "cell_index": 52
      }
     ]
    },
    "f7c852c338554ca1b633b21cbd8c6f81": {
     "views": [
      {
       "cell_index": 56
      }
     ]
    },
    "fb418bd475e9440f87d0c34411bd15da": {
     "views": [
      {
       "cell_index": 60
      }
     ]
    },
    "fc49e8fe198440caa1a28455eca05636": {
     "views": [
      {
       "cell_index": 51
      }
     ]
    },
    "fcea0b1ec57b4e60a8f6f1d5a4e91c23": {
     "views": [
      {
       "cell_index": 56
      }
     ]
    }
   },
   "version": "1.2.0"
  }
 },
 "nbformat": 4,
 "nbformat_minor": 2
}
