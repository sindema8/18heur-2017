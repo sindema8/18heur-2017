{
 "cells": [
  {
   "cell_type": "markdown",
   "metadata": {},
   "source": [
    "# Travelling Salesman Problem (TSP) via Fast Simulated Annealing (FSA)\n",
    "## Using different instances of mutations"
   ]
  },
  {
   "cell_type": "code",
   "execution_count": 1,
   "metadata": {
    "collapsed": false
   },
   "outputs": [],
   "source": [
    "# Import path to source directory (bit of a hack in Jupyter)\n",
    "import sys\n",
    "import os\n",
    "pwd = %pwd\n",
    "sys.path.append(os.path.join(pwd, '../src'))\n",
    "\n",
    "# Ensure modules are reloaded on any change (very useful when developing code on the fly)\n",
    "get_ipython().magic('load_ext autoreload')\n",
    "get_ipython().magic('autoreload 2')"
   ]
  },
  {
   "cell_type": "code",
   "execution_count": 2,
   "metadata": {
    "collapsed": false
   },
   "outputs": [],
   "source": [
    "# Import extrenal librarires\n",
    "import numpy as np\n",
    "import pandas as pd\n",
    "from tqdm import tqdm_notebook\n",
    "\n",
    "# Import our code\n",
    "from heur import FastSimulatedAnnealing\n",
    "from heur_mutations import Correction, MirrorCorrection, ExtensionCorrection, CauchyMutation, GaussMutation\n",
    "from objfun import TSPGrid"
   ]
  },
  {
   "cell_type": "markdown",
   "metadata": {},
   "source": [
    "## Initialize ``TSPGrid(3, 3)``"
   ]
  },
  {
   "cell_type": "code",
   "execution_count": 3,
   "metadata": {
    "collapsed": true
   },
   "outputs": [],
   "source": [
    "tsp = TSPGrid(3, 3)"
   ]
  },
  {
   "cell_type": "markdown",
   "metadata": {},
   "source": [
    "## TSP optimization using FSA and different instances of mutations"
   ]
  },
  {
   "cell_type": "code",
   "execution_count": 4,
   "metadata": {
    "collapsed": false
   },
   "outputs": [],
   "source": [
    "# initialize different corrections\n",
    "sticky = Correction(tsp)\n",
    "extend = ExtensionCorrection(tsp)\n",
    "mirror = MirrorCorrection(tsp)\n",
    "\n",
    "# prepare battery of mutations to be tested (with some metadata)\n",
    "mutations = [\n",
    "    {'mutation': CauchyMutation(r=1.0, correction=sticky), 'name': 'Cauchy-1-Sticky', 'param': 1.0, 'correction': 'sticky'},\n",
    "    {'mutation': CauchyMutation(r=1.0, correction=extend), 'name': 'Cauchy-1-Extend', 'param': 1.0, 'correction': 'extend'},\n",
    "    {'mutation': CauchyMutation(r=1.0, correction=mirror), 'name': 'Cauchy-1-Mirror', 'param': 1.0, 'correction': 'mirror'},\n",
    "    # Test Gaussian mutations as well!\n",
    "]"
   ]
  },
  {
   "cell_type": "code",
   "execution_count": 5,
   "metadata": {
    "collapsed": true
   },
   "outputs": [],
   "source": [
    "# traditional testing procedure setup\n",
    "def experiment_fsa(of, maxeval, num_runs, T0, n0, alpha, mutation):\n",
    "    results = []\n",
    "    for i in tqdm_notebook(range(num_runs), 'Testing mutation {}'.format(mutation['name'])):\n",
    "        result = FastSimulatedAnnealing(of, maxeval=maxeval, T0=T0, n0=n0, alpha=alpha, mutation=mutation['mutation']).search()\n",
    "        result['run'] = i\n",
    "        result['heur'] = 'FSA_{}_{}_{}_{}'.format(T0, n0, alpha, mutation['name'])\n",
    "        result['mut_param'] = mutation['param']\n",
    "        result['mut_corr'] = mutation['correction']\n",
    "        results.append(result)\n",
    "    return pd.DataFrame(results, columns=['heur', 'run', 'muta_param', 'mut_corr', 'best_x', 'best_y', 'neval'])"
   ]
  },
  {
   "cell_type": "code",
   "execution_count": 6,
   "metadata": {
    "collapsed": true
   },
   "outputs": [],
   "source": [
    "NUM_RUNS = 1000\n",
    "maxeval = 1000"
   ]
  },
  {
   "cell_type": "code",
   "execution_count": 7,
   "metadata": {
    "collapsed": false
   },
   "outputs": [
    {
     "name": "stdout",
     "output_type": "stream",
     "text": [
      "\n",
      "\n",
      "\n"
     ]
    }
   ],
   "source": [
    "results = pd.DataFrame()\n",
    "for mutation in mutations:\n",
    "    res = experiment_fsa(of=tsp, maxeval=maxeval, num_runs=NUM_RUNS, T0=1.0, n0=5, alpha=2, mutation=mutation)\n",
    "    results = pd.concat([results, res], axis=0)"
   ]
  },
  {
   "cell_type": "code",
   "execution_count": 9,
   "metadata": {
    "collapsed": true
   },
   "outputs": [],
   "source": [
    "# from: 20170306_Steepest_descent_vs_Random_descent.ipynb#Overall-statistics\n",
    "def rel(x):\n",
    "    return len([n for n in x if n < np.inf])/len(x)\n",
    "def mne(x):\n",
    "    return np.mean([n for n in x if n < np.inf])\n",
    "def feo(x):\n",
    "    return mne(x)/rel(x)"
   ]
  },
  {
   "cell_type": "code",
   "execution_count": 10,
   "metadata": {
    "collapsed": false
   },
   "outputs": [
    {
     "data": {
      "text/html": [
       "<div>\n",
       "<table border=\"1\" class=\"dataframe\">\n",
       "  <thead>\n",
       "    <tr style=\"text-align: right;\">\n",
       "      <th></th>\n",
       "      <th>heur</th>\n",
       "      <th>rel</th>\n",
       "      <th>mne</th>\n",
       "      <th>feo</th>\n",
       "    </tr>\n",
       "  </thead>\n",
       "  <tbody>\n",
       "    <tr>\n",
       "      <th>0</th>\n",
       "      <td>FSA_1.0_5_2_Cauchy-1-Extend</td>\n",
       "      <td>0.610</td>\n",
       "      <td>458.959016</td>\n",
       "      <td>752.391830</td>\n",
       "    </tr>\n",
       "    <tr>\n",
       "      <th>1</th>\n",
       "      <td>FSA_1.0_5_2_Cauchy-1-Mirror</td>\n",
       "      <td>0.676</td>\n",
       "      <td>463.664201</td>\n",
       "      <td>685.893789</td>\n",
       "    </tr>\n",
       "    <tr>\n",
       "      <th>2</th>\n",
       "      <td>FSA_1.0_5_2_Cauchy-1-Sticky</td>\n",
       "      <td>0.836</td>\n",
       "      <td>271.005981</td>\n",
       "      <td>324.169834</td>\n",
       "    </tr>\n",
       "  </tbody>\n",
       "</table>\n",
       "</div>"
      ],
      "text/plain": [
       "                          heur    rel         mne         feo\n",
       "0  FSA_1.0_5_2_Cauchy-1-Extend  0.610  458.959016  752.391830\n",
       "1  FSA_1.0_5_2_Cauchy-1-Mirror  0.676  463.664201  685.893789\n",
       "2  FSA_1.0_5_2_Cauchy-1-Sticky  0.836  271.005981  324.169834"
      ]
     },
     "execution_count": 10,
     "metadata": {},
     "output_type": "execute_result"
    }
   ],
   "source": [
    "results_pivot = results.pivot_table(\n",
    "    index=['heur'],\n",
    "    values=['neval'],\n",
    "    aggfunc=(rel, mne, feo)\n",
    ")['neval']\n",
    "results_pivot = results_pivot.reset_index()\n",
    "results_pivot"
   ]
  },
  {
   "cell_type": "markdown",
   "metadata": {},
   "source": [
    "## Assignment\n",
    "\n",
    "* Analyze roots of this situation\n",
    "* Some hints:\n",
    "  * Analyze effects of different settings of `r`\n",
    "  * Make use of detailed heuristic logs\n",
    "  * Compare results with Gaussian mutation instances"
   ]
  }
 ],
 "metadata": {
  "kernelspec": {
   "display_name": "Python 3",
   "language": "python",
   "name": "python3"
  },
  "language_info": {
   "codemirror_mode": {
    "name": "ipython",
    "version": 3
   },
   "file_extension": ".py",
   "mimetype": "text/x-python",
   "name": "python",
   "nbconvert_exporter": "python",
   "pygments_lexer": "ipython3",
   "version": "3.5.2"
  }
 },
 "nbformat": 4,
 "nbformat_minor": 0
}
