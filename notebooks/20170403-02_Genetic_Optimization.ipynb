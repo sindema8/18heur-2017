{
 "cells": [
  {
   "cell_type": "markdown",
   "metadata": {},
   "source": [
    "# Genetic Optimization (GO)\n",
    "\n",
    "## Quick introduction\n",
    "\n",
    "<img src=\"img/go_overview.png\">"
   ]
  },
  {
   "cell_type": "code",
   "execution_count": 1,
   "metadata": {
    "collapsed": false
   },
   "outputs": [],
   "source": [
    "# Import path to source directory (bit of a hack in Jupyter)\n",
    "import sys\n",
    "import os\n",
    "pwd = %pwd\n",
    "sys.path.append(os.path.join(pwd, '../src'))\n",
    "\n",
    "# Ensure modules are reloaded on any change (very useful when developing code on the fly)\n",
    "get_ipython().magic('load_ext autoreload')\n",
    "get_ipython().magic('autoreload 2')"
   ]
  },
  {
   "cell_type": "code",
   "execution_count": 2,
   "metadata": {
    "collapsed": false
   },
   "outputs": [],
   "source": [
    "# Import external librarires\n",
    "import numpy as np\n",
    "import pandas as pd\n",
    "from tqdm import tqdm_notebook\n",
    "\n",
    "import matplotlib\n",
    "%matplotlib inline\n",
    "import matplotlib.pyplot as plt\n",
    "import seaborn as sns\n",
    "sns.set()\n",
    "\n",
    "# Import our code\n",
    "from heur import FastSimulatedAnnealing, GeneticOptimization\n",
    "from heur_mutations import Correction, CauchyMutation\n",
    "from objfun import TSPGrid"
   ]
  },
  {
   "cell_type": "markdown",
   "metadata": {},
   "source": [
    "**Let's use the well-known ``TSPGrid(3, 3)`` for demonstration purposes**"
   ]
  },
  {
   "cell_type": "code",
   "execution_count": 3,
   "metadata": {
    "collapsed": true
   },
   "outputs": [],
   "source": [
    "tsp = TSPGrid(3, 3)"
   ]
  },
  {
   "cell_type": "markdown",
   "metadata": {},
   "source": [
    "## GO building blocks demo"
   ]
  },
  {
   "cell_type": "markdown",
   "metadata": {},
   "source": [
    "### 1. Selection\n",
    "\n",
    "* **Rank based, using exponential distribution**\n",
    "* Let $U$ be random variable from uniform distribution and $\\lambda \\in \\mathbb{R}$ ($1/\\lambda$ will be the *selection temperature*)\n",
    "* We can **select** $R$-th solution from sorted population as follows:\n",
    "\n",
    "$$ R = \\lceil \\frac{-\\ln(U)}{\\lambda} \\rceil $$"
   ]
  },
  {
   "cell_type": "code",
   "execution_count": 4,
   "metadata": {
    "collapsed": true
   },
   "outputs": [],
   "source": [
    "# Let's generate 1000 random numbers\n",
    "u = np.random.uniform(low=0.0, high=1.0, size=1000)"
   ]
  },
  {
   "cell_type": "code",
   "execution_count": 5,
   "metadata": {
    "collapsed": true
   },
   "outputs": [],
   "source": [
    "# And the selection function\n",
    "def demo_select(T):\n",
    "    return np.ceil(-T*np.log(u))"
   ]
  },
  {
   "cell_type": "markdown",
   "metadata": {},
   "source": [
    "#### Low temperature -> first (the best one) solution is selected always:"
   ]
  },
  {
   "cell_type": "code",
   "execution_count": 6,
   "metadata": {
    "collapsed": false
   },
   "outputs": [
    {
     "data": {
      "image/png": "[encoded data removed]",
      "text/plain": [
       "<matplotlib.figure.Figure at 0x1bf31fc9278>"
      ]
     },
     "metadata": {},
     "output_type": "display_data"
    }
   ],
   "source": [
    "k = demo_select(0.1)\n",
    "ax = sns.distplot(k, kde=False)"
   ]
  },
  {
   "cell_type": "markdown",
   "metadata": {},
   "source": [
    "#### Medium temperature"
   ]
  },
  {
   "cell_type": "code",
   "execution_count": 7,
   "metadata": {
    "collapsed": false
   },
   "outputs": [
    {
     "data": {
      "image/png": "[encoded data removed]",
      "text/plain": [
       "<matplotlib.figure.Figure at 0x1bf32415278>"
      ]
     },
     "metadata": {},
     "output_type": "display_data"
    }
   ],
   "source": [
    "k = demo_select(1)\n",
    "ax = sns.distplot(k, kde=False)"
   ]
  },
  {
   "cell_type": "markdown",
   "metadata": {},
   "source": [
    "#### Higher temperature"
   ]
  },
  {
   "cell_type": "code",
   "execution_count": 8,
   "metadata": {
    "collapsed": false
   },
   "outputs": [
    {
     "data": {
      "image/png": "[encoded data removed]",
      "text/plain": [
       "<matplotlib.figure.Figure at 0x1bf32508160>"
      ]
     },
     "metadata": {},
     "output_type": "display_data"
    }
   ],
   "source": [
    "k = demo_select(10)\n",
    "ax = sns.distplot(k, kde=False)"
   ]
  },
  {
   "cell_type": "markdown",
   "metadata": {},
   "source": [
    "### 2. Crossover\n",
    "\n",
    "* Many possibilities, let's start with **uniform multi point crossover**:\n",
    "\n",
    "<img src=\"https://upload.wikimedia.org/wikipedia/commons/thumb/5/56/OnePointCrossover.svg/231px-OnePointCrossover.svg.png\">"
   ]
  },
  {
   "cell_type": "code",
   "execution_count": 9,
   "metadata": {
    "collapsed": true
   },
   "outputs": [],
   "source": [
    "def crossover(x, y, m):\n",
    "    m=m+1  # m ... number of crossover points\n",
    "    n=np.size(x)\n",
    "    z=x*0\n",
    "    k=0\n",
    "    p=np.ceil(n/m).astype(int)\n",
    "    for i in np.arange(1, m+1):\n",
    "        ix_from = k\n",
    "        ix_to = np.minimum(k+p, n)\n",
    "        z[ix_from:ix_to] = x[ix_from:ix_to] if np.mod(i, 2) == 1 else y[ix_from:ix_to]\n",
    "        k += p\n",
    "    return z"
   ]
  },
  {
   "cell_type": "code",
   "execution_count": 10,
   "metadata": {
    "collapsed": false
   },
   "outputs": [
    {
     "name": "stdout",
     "output_type": "stream",
     "text": [
      "[1 1 1 0 0 0]\n"
     ]
    }
   ],
   "source": [
    "c = crossover(\n",
    "    np.array([1, 1, 1, 1, 1, 1], dtype=int), \n",
    "    np.array([0, 0, 0, 0, 0, 0], dtype=int), \n",
    "    1)\n",
    "print(c)"
   ]
  },
  {
   "cell_type": "code",
   "execution_count": 11,
   "metadata": {
    "collapsed": false
   },
   "outputs": [
    {
     "name": "stdout",
     "output_type": "stream",
     "text": [
      "[1 1 0 0 1 1]\n"
     ]
    }
   ],
   "source": [
    "c = crossover(\n",
    "    np.array([1, 1, 1, 1, 1, 1], dtype=int), \n",
    "    np.array([0, 0, 0, 0, 0, 0], dtype=int), \n",
    "    2)\n",
    "print(c)"
   ]
  },
  {
   "cell_type": "code",
   "execution_count": 12,
   "metadata": {
    "collapsed": false
   },
   "outputs": [
    {
     "name": "stdout",
     "output_type": "stream",
     "text": [
      "[1 0 1 0 1 0]\n"
     ]
    }
   ],
   "source": [
    "c = crossover(\n",
    "    np.array([1, 1, 1, 1, 1, 1], dtype=int), \n",
    "    np.array([0, 0, 0, 0, 0, 0], dtype=int), \n",
    "    5)\n",
    "print(c)"
   ]
  },
  {
   "cell_type": "markdown",
   "metadata": {},
   "source": [
    "### 3. Mutation\n",
    "\n",
    "* We can re-use Cauchy or Gaussian one (this time)."
   ]
  },
  {
   "cell_type": "markdown",
   "metadata": {},
   "source": [
    "## Run GO and test different population sizes"
   ]
  },
  {
   "cell_type": "code",
   "execution_count": 13,
   "metadata": {
    "collapsed": true
   },
   "outputs": [],
   "source": [
    "NUM_RUNS = 1000\n",
    "maxeval = 1000"
   ]
  },
  {
   "cell_type": "code",
   "execution_count": 14,
   "metadata": {
    "collapsed": false
   },
   "outputs": [],
   "source": [
    "# traditional testing procedure setup\n",
    "def experiment_go(of, maxeval, num_runs, N, M, Tsel1, Tsel2, mutation, co_n):\n",
    "    results = []\n",
    "    heur_name = 'GO_{}'.format(N)\n",
    "    for i in tqdm_notebook(range(num_runs), 'Testing {}'.format(heur_name)):\n",
    "        result = GeneticOptimization(of, maxeval, N=N, M=M, Tsel1=Tsel1, Tsel2=Tsel2, mutation=mutation, co_n=co_n).search()\n",
    "        result['run'] = i\n",
    "        result['heur'] = heur_name\n",
    "        result['N'] = N\n",
    "        results.append(result)\n",
    "    return pd.DataFrame(results, columns=['heur', 'run', 'N', 'best_x', 'best_y', 'neval'])"
   ]
  },
  {
   "cell_type": "code",
   "execution_count": 15,
   "metadata": {
    "collapsed": false
   },
   "outputs": [
    {
     "name": "stdout",
     "output_type": "stream",
     "text": [
      "\n",
      "\n",
      "\n",
      "\n",
      "\n",
      "\n",
      "\n",
      "\n"
     ]
    }
   ],
   "source": [
    "results = pd.DataFrame()\n",
    "mutation = CauchyMutation(r=1.0, correction=Correction(tsp))\n",
    "for N in [1, 2, 3, 5, 10, 20, 30, 100]:\n",
    "    res = experiment_go(of=tsp, maxeval=maxeval, num_runs=NUM_RUNS, N=N, M=N*3, Tsel1=0.1, Tsel2=1, mutation=mutation, co_n=1)\n",
    "    results = pd.concat([results, res], axis=0)"
   ]
  },
  {
   "cell_type": "code",
   "execution_count": 16,
   "metadata": {
    "collapsed": true
   },
   "outputs": [],
   "source": [
    "# from: 20170306_Steepest_descent_vs_Random_descent.ipynb#Overall-statistics\n",
    "def rel(x):\n",
    "    return len([n for n in x if n < np.inf])/len(x)\n",
    "def mne(x):\n",
    "    return np.mean([n for n in x if n < np.inf])\n",
    "def feo(x):\n",
    "    return mne(x)/rel(x)"
   ]
  },
  {
   "cell_type": "code",
   "execution_count": 17,
   "metadata": {
    "collapsed": false
   },
   "outputs": [
    {
     "data": {
      "text/html": [
       "<div>\n",
       "<table border=\"1\" class=\"dataframe\">\n",
       "  <thead>\n",
       "    <tr style=\"text-align: right;\">\n",
       "      <th></th>\n",
       "      <th>heur</th>\n",
       "      <th>N</th>\n",
       "      <th>rel</th>\n",
       "      <th>mne</th>\n",
       "      <th>feo</th>\n",
       "    </tr>\n",
       "  </thead>\n",
       "  <tbody>\n",
       "    <tr>\n",
       "      <th>0</th>\n",
       "      <td>GO_1</td>\n",
       "      <td>1</td>\n",
       "      <td>0.677</td>\n",
       "      <td>388.796160</td>\n",
       "      <td>574.292702</td>\n",
       "    </tr>\n",
       "    <tr>\n",
       "      <th>3</th>\n",
       "      <td>GO_2</td>\n",
       "      <td>2</td>\n",
       "      <td>0.902</td>\n",
       "      <td>340.539911</td>\n",
       "      <td>377.538704</td>\n",
       "    </tr>\n",
       "    <tr>\n",
       "      <th>5</th>\n",
       "      <td>GO_3</td>\n",
       "      <td>3</td>\n",
       "      <td>0.955</td>\n",
       "      <td>310.647120</td>\n",
       "      <td>325.284943</td>\n",
       "    </tr>\n",
       "    <tr>\n",
       "      <th>7</th>\n",
       "      <td>GO_5</td>\n",
       "      <td>5</td>\n",
       "      <td>0.955</td>\n",
       "      <td>293.741361</td>\n",
       "      <td>307.582577</td>\n",
       "    </tr>\n",
       "    <tr>\n",
       "      <th>1</th>\n",
       "      <td>GO_10</td>\n",
       "      <td>10</td>\n",
       "      <td>0.965</td>\n",
       "      <td>307.041451</td>\n",
       "      <td>318.177669</td>\n",
       "    </tr>\n",
       "    <tr>\n",
       "      <th>4</th>\n",
       "      <td>GO_20</td>\n",
       "      <td>20</td>\n",
       "      <td>0.928</td>\n",
       "      <td>320.406250</td>\n",
       "      <td>345.265356</td>\n",
       "    </tr>\n",
       "    <tr>\n",
       "      <th>6</th>\n",
       "      <td>GO_30</td>\n",
       "      <td>30</td>\n",
       "      <td>0.891</td>\n",
       "      <td>324.868687</td>\n",
       "      <td>364.611321</td>\n",
       "    </tr>\n",
       "    <tr>\n",
       "      <th>2</th>\n",
       "      <td>GO_100</td>\n",
       "      <td>100</td>\n",
       "      <td>0.809</td>\n",
       "      <td>383.266996</td>\n",
       "      <td>473.754013</td>\n",
       "    </tr>\n",
       "  </tbody>\n",
       "</table>\n",
       "</div>"
      ],
      "text/plain": [
       "     heur    N    rel         mne         feo\n",
       "0    GO_1    1  0.677  388.796160  574.292702\n",
       "3    GO_2    2  0.902  340.539911  377.538704\n",
       "5    GO_3    3  0.955  310.647120  325.284943\n",
       "7    GO_5    5  0.955  293.741361  307.582577\n",
       "1   GO_10   10  0.965  307.041451  318.177669\n",
       "4   GO_20   20  0.928  320.406250  345.265356\n",
       "6   GO_30   30  0.891  324.868687  364.611321\n",
       "2  GO_100  100  0.809  383.266996  473.754013"
      ]
     },
     "execution_count": 17,
     "metadata": {},
     "output_type": "execute_result"
    }
   ],
   "source": [
    "results_pivot = results.pivot_table(\n",
    "    index=['heur', 'N'],\n",
    "    values=['neval'],\n",
    "    aggfunc=(rel, mne, feo)\n",
    ")['neval']\n",
    "results_pivot = results_pivot.reset_index()\n",
    "results_pivot.sort_values(by='N')"
   ]
  },
  {
   "cell_type": "markdown",
   "metadata": {},
   "source": [
    "## Assignment\n",
    "\n",
    "* Thoroughly analyze effects of other parameters on GO performance\n",
    "* Make use of the detailed log to verify your assumptions"
   ]
  }
 ],
 "metadata": {
  "kernelspec": {
   "display_name": "Python 3",
   "language": "python",
   "name": "python3"
  },
  "language_info": {
   "codemirror_mode": {
    "name": "ipython",
    "version": 3
   },
   "file_extension": ".py",
   "mimetype": "text/x-python",
   "name": "python",
   "nbconvert_exporter": "python",
   "pygments_lexer": "ipython3",
   "version": "3.5.2"
  }
 },
 "nbformat": 4,
 "nbformat_minor": 0
}
