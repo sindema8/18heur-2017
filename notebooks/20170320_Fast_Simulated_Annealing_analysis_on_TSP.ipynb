{
 "cells": [
  {
   "cell_type": "markdown",
   "metadata": {},
   "source": [
    "# Travelling Salesman Problem (TSP) via Fast Simulated Annealing (FSA)\n",
    "\n",
    "## Quick refresher\n",
    "\n",
    "* $T_0 \\in \\mathbb{R}$ initial temperature\n",
    "* $ n_0 \\in \\mathbb{N} $ and $ \\alpha \\in \\mathbb{R} $  - cooling strategy parameters\n",
    "* $k$-th step:\n",
    "  * Evaluate current temperature:\n",
    "    * $ T = \\frac{T_0}{1+(k/n_0)^\\alpha} $ for $ \\alpha > 0 $,\n",
    "    * $ T = T_0 \\cdot \\exp(-(k/n_0)^{-\\alpha}) $ otherwise.\n",
    "  * **Mutate** the solution ``x`` -> ``y``\n",
    "  * $s = \\frac{f_x-f_y}{T}$\n",
    "  * replace ``x`` if $u < 1/2 + \\arctan(s)/\\pi$ where $u$ is random (uniform) number\n",
    "  \n",
    "Cauchy **mutation operator**:\n",
    "\n",
    "* mutation perimeter (width) controlled by parameter $r \\in \\mathbb{R}$\n",
    "* $ \\boldsymbol{\\mathsf{x}}_\\mathrm{new} = \\boldsymbol{\\mathsf{x}} + r \\cdot \\tan{\\left(\\pi \\left(\\boldsymbol{\\mathsf{r}} - \\dfrac{1}{2}\\right)\\right)} $ where $\\boldsymbol{\\mathsf{r}}$ is random uniform vector\n"
   ]
  },
  {
   "cell_type": "code",
   "execution_count": 1,
   "metadata": {
    "collapsed": false
   },
   "outputs": [],
   "source": [
    "# Import path to source directory (bit of a hack in Jupyter)\n",
    "import sys\n",
    "import os\n",
    "pwd = %pwd\n",
    "sys.path.append(os.path.join(pwd, '../src'))\n",
    "\n",
    "# Ensure modules are reloaded on any change (very useful when developing code on the fly)\n",
    "get_ipython().magic('load_ext autoreload')\n",
    "get_ipython().magic('autoreload 2')"
   ]
  },
  {
   "cell_type": "code",
   "execution_count": 2,
   "metadata": {
    "collapsed": false
   },
   "outputs": [],
   "source": [
    "# Import extrenal librarires\n",
    "import numpy as np\n",
    "import pandas as pd\n",
    "from tqdm import tqdm_notebook\n",
    "\n",
    "import matplotlib\n",
    "%matplotlib inline\n",
    "import matplotlib.pyplot as plt\n",
    "import seaborn as sns\n",
    "sns.set()\n",
    "\n",
    "# Import our code\n",
    "from heur import ShootAndGo, FastSimulatedAnnealing\n",
    "from objfun import TSPGrid"
   ]
  },
  {
   "cell_type": "markdown",
   "metadata": {},
   "source": [
    "## Initialize ``TSPGrid(3, 3)``"
   ]
  },
  {
   "cell_type": "code",
   "execution_count": 3,
   "metadata": {
    "collapsed": true
   },
   "outputs": [],
   "source": [
    "# initialization\n",
    "tsp = TSPGrid(3, 3)"
   ]
  },
  {
   "cell_type": "markdown",
   "metadata": {},
   "source": [
    "## Referential performance: Random Shooting ($\\mathrm{SG}_{0}$) and Steepest Descent ($\\mathrm{SG}_{\\infty}$)"
   ]
  },
  {
   "cell_type": "code",
   "execution_count": 5,
   "metadata": {
    "collapsed": true
   },
   "outputs": [],
   "source": [
    "NUM_RUNS = 1000\n",
    "maxeval = 1000"
   ]
  },
  {
   "cell_type": "code",
   "execution_count": 6,
   "metadata": {
    "collapsed": true
   },
   "outputs": [],
   "source": [
    "def experiment_sg(of, maxeval, num_runs, hmax):\n",
    "    results = []\n",
    "    for i in tqdm_notebook(range(num_runs), 'Testing hmax={}'.format(hmax)):\n",
    "        result = ShootAndGo(of, maxeval=maxeval, hmax=hmax).search() # dict with results of one run\n",
    "        result['run'] = i\n",
    "        result['heur'] = 'SG_{}'.format(hmax) # name of the heuristic\n",
    "        result['hmax'] = hmax\n",
    "        results.append(result)\n",
    "    \n",
    "    return pd.DataFrame(results, columns=['heur', 'run', 'hmax', 'best_x', 'best_y', 'neval'])"
   ]
  },
  {
   "cell_type": "code",
   "execution_count": 7,
   "metadata": {
    "collapsed": false
   },
   "outputs": [
    {
     "name": "stdout",
     "output_type": "stream",
     "text": [
      "\n",
      "\n"
     ]
    }
   ],
   "source": [
    "table_ref = pd.DataFrame()\n",
    "\n",
    "for hmax in [0, np.inf]:\n",
    "    res = experiment_sg(of=tsp, maxeval=maxeval, num_runs=NUM_RUNS, hmax=hmax)\n",
    "    table_ref = pd.concat([table_ref, res], axis=0)"
   ]
  },
  {
   "cell_type": "code",
   "execution_count": 8,
   "metadata": {
    "collapsed": false
   },
   "outputs": [
    {
     "data": {
      "text/html": [
       "<div>\n",
       "<table border=\"1\" class=\"dataframe\">\n",
       "  <thead>\n",
       "    <tr style=\"text-align: right;\">\n",
       "      <th></th>\n",
       "      <th>heur</th>\n",
       "      <th>run</th>\n",
       "      <th>hmax</th>\n",
       "      <th>best_x</th>\n",
       "      <th>best_y</th>\n",
       "      <th>neval</th>\n",
       "    </tr>\n",
       "  </thead>\n",
       "  <tbody>\n",
       "    <tr>\n",
       "      <th>0</th>\n",
       "      <td>SG_0</td>\n",
       "      <td>0</td>\n",
       "      <td>0.0</td>\n",
       "      <td>[5, 5, 5, 4, 1, 0, 1, 0]</td>\n",
       "      <td>10.000000</td>\n",
       "      <td>inf</td>\n",
       "    </tr>\n",
       "    <tr>\n",
       "      <th>1</th>\n",
       "      <td>SG_0</td>\n",
       "      <td>1</td>\n",
       "      <td>0.0</td>\n",
       "      <td>[2, 4, 3, 4, 3, 2, 1, 0]</td>\n",
       "      <td>10.650282</td>\n",
       "      <td>inf</td>\n",
       "    </tr>\n",
       "    <tr>\n",
       "      <th>2</th>\n",
       "      <td>SG_0</td>\n",
       "      <td>2</td>\n",
       "      <td>0.0</td>\n",
       "      <td>[0, 0, 2, 4, 3, 2, 0, 0]</td>\n",
       "      <td>9.414214</td>\n",
       "      <td>435.000000</td>\n",
       "    </tr>\n",
       "    <tr>\n",
       "      <th>3</th>\n",
       "      <td>SG_0</td>\n",
       "      <td>3</td>\n",
       "      <td>0.0</td>\n",
       "      <td>[2, 0, 1, 0, 0, 2, 1, 0]</td>\n",
       "      <td>10.828427</td>\n",
       "      <td>inf</td>\n",
       "    </tr>\n",
       "    <tr>\n",
       "      <th>4</th>\n",
       "      <td>SG_0</td>\n",
       "      <td>4</td>\n",
       "      <td>0.0</td>\n",
       "      <td>[0, 0, 2, 4, 2, 2, 1, 0]</td>\n",
       "      <td>10.000000</td>\n",
       "      <td>inf</td>\n",
       "    </tr>\n",
       "  </tbody>\n",
       "</table>\n",
       "</div>"
      ],
      "text/plain": [
       "   heur  run  hmax                    best_x     best_y       neval\n",
       "0  SG_0    0   0.0  [5, 5, 5, 4, 1, 0, 1, 0]  10.000000         inf\n",
       "1  SG_0    1   0.0  [2, 4, 3, 4, 3, 2, 1, 0]  10.650282         inf\n",
       "2  SG_0    2   0.0  [0, 0, 2, 4, 3, 2, 0, 0]   9.414214  435.000000\n",
       "3  SG_0    3   0.0  [2, 0, 1, 0, 0, 2, 1, 0]  10.828427         inf\n",
       "4  SG_0    4   0.0  [0, 0, 2, 4, 2, 2, 1, 0]  10.000000         inf"
      ]
     },
     "execution_count": 8,
     "metadata": {},
     "output_type": "execute_result"
    }
   ],
   "source": [
    "table_ref.head()"
   ]
  },
  {
   "cell_type": "code",
   "execution_count": 9,
   "metadata": {
    "collapsed": true
   },
   "outputs": [],
   "source": [
    "# from: 20170306_Steepest_descent_vs_Random_descent.ipynb#Overall-statistics\n",
    "\n",
    "def rel(x):\n",
    "    return len([n for n in x if n < np.inf])/len(x)\n",
    "\n",
    "def mne(x):\n",
    "    return np.mean([n for n in x if n < np.inf])\n",
    "\n",
    "def feo(x):\n",
    "    return mne(x)/rel(x)"
   ]
  },
  {
   "cell_type": "code",
   "execution_count": 10,
   "metadata": {
    "collapsed": false
   },
   "outputs": [],
   "source": [
    "stats_ref = table_ref.pivot_table(\n",
    "    index=['heur'],\n",
    "    values=['neval'],\n",
    "    aggfunc=(rel, mne, feo)\n",
    ")['neval']\n",
    "stats_ref = stats_ref.reset_index()"
   ]
  },
  {
   "cell_type": "code",
   "execution_count": 11,
   "metadata": {
    "collapsed": false
   },
   "outputs": [
    {
     "data": {
      "text/html": [
       "<div>\n",
       "<table border=\"1\" class=\"dataframe\">\n",
       "  <thead>\n",
       "    <tr style=\"text-align: right;\">\n",
       "      <th></th>\n",
       "      <th>heur</th>\n",
       "      <th>rel</th>\n",
       "      <th>mne</th>\n",
       "      <th>feo</th>\n",
       "    </tr>\n",
       "  </thead>\n",
       "  <tbody>\n",
       "    <tr>\n",
       "      <th>0</th>\n",
       "      <td>SG_0</td>\n",
       "      <td>0.339</td>\n",
       "      <td>475.348083</td>\n",
       "      <td>1402.206733</td>\n",
       "    </tr>\n",
       "    <tr>\n",
       "      <th>1</th>\n",
       "      <td>SG_inf</td>\n",
       "      <td>0.897</td>\n",
       "      <td>340.853958</td>\n",
       "      <td>379.993264</td>\n",
       "    </tr>\n",
       "  </tbody>\n",
       "</table>\n",
       "</div>"
      ],
      "text/plain": [
       "     heur    rel         mne          feo\n",
       "0    SG_0  0.339  475.348083  1402.206733\n",
       "1  SG_inf  0.897  340.853958   379.993264"
      ]
     },
     "execution_count": 11,
     "metadata": {},
     "output_type": "execute_result"
    }
   ],
   "source": [
    "stats_ref"
   ]
  },
  {
   "cell_type": "markdown",
   "metadata": {},
   "source": [
    "## TSP optimization using TSP\n",
    "\n",
    "Let's evaluate performance of different temperatures, first."
   ]
  },
  {
   "cell_type": "code",
   "execution_count": 12,
   "metadata": {
    "collapsed": true
   },
   "outputs": [],
   "source": [
    "def experiment_fsa(of, maxeval, num_runs, T0, n0, alpha, r):\n",
    "    results = []\n",
    "    for i in tqdm_notebook(range(num_runs), 'Testing T0={}, n0={}, alpha={}, r={}'.format(T0, n0, alpha, r)):\n",
    "        result = FastSimulatedAnnealing(of, maxeval=maxeval, T0=T0, n0=n0, alpha=alpha, r=0.5).search()\n",
    "        result['run'] = i\n",
    "        result['heur'] = 'FSA_{}_{}_{}_{}'.format(T0, n0, alpha, r) # name of the heuristic\n",
    "        result['T0'] = T0\n",
    "        result['n0'] = n0\n",
    "        result['alpha'] = alpha\n",
    "        result['r'] = r\n",
    "        results.append(result)\n",
    "    \n",
    "    return pd.DataFrame(results, columns=['heur', 'run', 'T0', 'n0', 'alpha', 'r', 'best_x', 'best_y', 'neval'])"
   ]
  },
  {
   "cell_type": "code",
   "execution_count": 16,
   "metadata": {
    "collapsed": false
   },
   "outputs": [
    {
     "name": "stdout",
     "output_type": "stream",
     "text": [
      "\n",
      "\n",
      "\n",
      "\n"
     ]
    }
   ],
   "source": [
    "table_fsa = pd.DataFrame()\n",
    "\n",
    "for T0 in [1e-10, 1e-2, 1, np.inf]:\n",
    "    res = experiment_fsa(of=tsp, maxeval=maxeval, num_runs=NUM_RUNS, T0=T0, n0=1, alpha=2, r=0.5)\n",
    "    table_fsa = pd.concat([table_fsa, res], axis=0)"
   ]
  },
  {
   "cell_type": "code",
   "execution_count": 18,
   "metadata": {
    "collapsed": false
   },
   "outputs": [
    {
     "data": {
      "text/html": [
       "<div>\n",
       "<table border=\"1\" class=\"dataframe\">\n",
       "  <thead>\n",
       "    <tr style=\"text-align: right;\">\n",
       "      <th></th>\n",
       "      <th>heur</th>\n",
       "      <th>T0</th>\n",
       "      <th>rel</th>\n",
       "      <th>mne</th>\n",
       "      <th>feo</th>\n",
       "    </tr>\n",
       "  </thead>\n",
       "  <tbody>\n",
       "    <tr>\n",
       "      <th>2</th>\n",
       "      <td>FSA_1e-10_1_2_0.5</td>\n",
       "      <td>1.000000e-10</td>\n",
       "      <td>0.748</td>\n",
       "      <td>258.493316</td>\n",
       "      <td>345.579299</td>\n",
       "    </tr>\n",
       "    <tr>\n",
       "      <th>0</th>\n",
       "      <td>FSA_0.01_1_2_0.5</td>\n",
       "      <td>1.000000e-02</td>\n",
       "      <td>0.732</td>\n",
       "      <td>234.562842</td>\n",
       "      <td>320.441040</td>\n",
       "    </tr>\n",
       "    <tr>\n",
       "      <th>1</th>\n",
       "      <td>FSA_1_1_2_0.5</td>\n",
       "      <td>1.000000e+00</td>\n",
       "      <td>0.758</td>\n",
       "      <td>239.361478</td>\n",
       "      <td>315.780313</td>\n",
       "    </tr>\n",
       "    <tr>\n",
       "      <th>3</th>\n",
       "      <td>FSA_inf_1_2_0.5</td>\n",
       "      <td>inf</td>\n",
       "      <td>0.432</td>\n",
       "      <td>448.983796</td>\n",
       "      <td>1039.314343</td>\n",
       "    </tr>\n",
       "  </tbody>\n",
       "</table>\n",
       "</div>"
      ],
      "text/plain": [
       "                heur            T0    rel         mne          feo\n",
       "2  FSA_1e-10_1_2_0.5  1.000000e-10  0.748  258.493316   345.579299\n",
       "0   FSA_0.01_1_2_0.5  1.000000e-02  0.732  234.562842   320.441040\n",
       "1      FSA_1_1_2_0.5  1.000000e+00  0.758  239.361478   315.780313\n",
       "3    FSA_inf_1_2_0.5           inf  0.432  448.983796  1039.314343"
      ]
     },
     "execution_count": 18,
     "metadata": {},
     "output_type": "execute_result"
    }
   ],
   "source": [
    "stats_fsa = table_fsa.pivot_table(\n",
    "    index=['heur', 'T0'],\n",
    "    values=['neval'],\n",
    "    aggfunc=(rel, mne, feo)\n",
    ")['neval']\n",
    "stats_fsa = stats_fsa.reset_index()\n",
    "stats_fsa.sort_values(by=['T0'])"
   ]
  },
  {
   "cell_type": "markdown",
   "metadata": {},
   "source": [
    "# Analysis\n",
    "\n",
    "**Can we improve the best configuration ($T_0=1$)?**\n",
    "\n",
    "Let's carefully analyze the data..."
   ]
  },
  {
   "cell_type": "code",
   "execution_count": 42,
   "metadata": {
    "collapsed": false
   },
   "outputs": [],
   "source": [
    "heur = FastSimulatedAnnealing(tsp, maxeval=1000, T0=1, n0=1, alpha=2, r=0.5)\n",
    "result = heur.search()"
   ]
  },
  {
   "cell_type": "code",
   "execution_count": 43,
   "metadata": {
    "collapsed": false
   },
   "outputs": [
    {
     "name": "stdout",
     "output_type": "stream",
     "text": [
      "neval = 640\n",
      "best_x = [0 0 2 4 3 2 0 0]\n",
      "best_y = 9.414213562373096\n"
     ]
    }
   ],
   "source": [
    "print('neval = {}'.format(result['neval']))\n",
    "print('best_x = {}'.format(result['best_x']))\n",
    "print('best_y = {}'.format(result['best_y']))"
   ]
  },
  {
   "cell_type": "code",
   "execution_count": 44,
   "metadata": {
    "collapsed": false
   },
   "outputs": [
    {
     "data": {
      "text/html": [
       "<div>\n",
       "<table border=\"1\" class=\"dataframe\">\n",
       "  <thead>\n",
       "    <tr style=\"text-align: right;\">\n",
       "      <th></th>\n",
       "      <th>step</th>\n",
       "      <th>x</th>\n",
       "      <th>f_x</th>\n",
       "      <th>y</th>\n",
       "      <th>f_y</th>\n",
       "      <th>T</th>\n",
       "      <th>swap</th>\n",
       "    </tr>\n",
       "  </thead>\n",
       "  <tbody>\n",
       "    <tr>\n",
       "      <th>0</th>\n",
       "      <td>1</td>\n",
       "      <td>[3, 1, 3, 3, 3, 0, 0, 0]</td>\n",
       "      <td>15.543204</td>\n",
       "      <td>[5, 2, 2, 3, 3, 0, 0, 0]</td>\n",
       "      <td>12.472136</td>\n",
       "      <td>0.500000</td>\n",
       "      <td>True</td>\n",
       "    </tr>\n",
       "    <tr>\n",
       "      <th>1</th>\n",
       "      <td>2</td>\n",
       "      <td>[5, 2, 2, 3, 3, 0, 0, 0]</td>\n",
       "      <td>12.472136</td>\n",
       "      <td>[5, 2, 2, 0, 3, 2, 1, 0]</td>\n",
       "      <td>12.650282</td>\n",
       "      <td>0.200000</td>\n",
       "      <td>False</td>\n",
       "    </tr>\n",
       "    <tr>\n",
       "      <th>2</th>\n",
       "      <td>3</td>\n",
       "      <td>[5, 2, 2, 3, 3, 0, 0, 0]</td>\n",
       "      <td>12.472136</td>\n",
       "      <td>[6, 2, 2, 3, 3, 0, 1, 0]</td>\n",
       "      <td>14.714777</td>\n",
       "      <td>0.100000</td>\n",
       "      <td>True</td>\n",
       "    </tr>\n",
       "    <tr>\n",
       "      <th>3</th>\n",
       "      <td>4</td>\n",
       "      <td>[6, 2, 2, 3, 3, 0, 1, 0]</td>\n",
       "      <td>14.714777</td>\n",
       "      <td>[7, 2, 1, 3, 2, 2, 1, 0]</td>\n",
       "      <td>16.779272</td>\n",
       "      <td>0.058824</td>\n",
       "      <td>False</td>\n",
       "    </tr>\n",
       "    <tr>\n",
       "      <th>4</th>\n",
       "      <td>5</td>\n",
       "      <td>[6, 2, 2, 3, 3, 0, 1, 0]</td>\n",
       "      <td>14.714777</td>\n",
       "      <td>[6, 4, 1, 4, 3, 0, 0, 0]</td>\n",
       "      <td>14.714777</td>\n",
       "      <td>0.038462</td>\n",
       "      <td>False</td>\n",
       "    </tr>\n",
       "    <tr>\n",
       "      <th>5</th>\n",
       "      <td>6</td>\n",
       "      <td>[6, 2, 2, 3, 3, 0, 1, 0]</td>\n",
       "      <td>14.714777</td>\n",
       "      <td>[6, 2, 3, 2, 3, 0, 1, 0]</td>\n",
       "      <td>17.365058</td>\n",
       "      <td>0.027027</td>\n",
       "      <td>False</td>\n",
       "    </tr>\n",
       "    <tr>\n",
       "      <th>6</th>\n",
       "      <td>7</td>\n",
       "      <td>[6, 2, 2, 3, 3, 0, 1, 0]</td>\n",
       "      <td>14.714777</td>\n",
       "      <td>[7, 2, 2, 4, 3, 0, 1, 0]</td>\n",
       "      <td>14.714777</td>\n",
       "      <td>0.020000</td>\n",
       "      <td>True</td>\n",
       "    </tr>\n",
       "    <tr>\n",
       "      <th>7</th>\n",
       "      <td>8</td>\n",
       "      <td>[7, 2, 2, 4, 3, 0, 1, 0]</td>\n",
       "      <td>14.714777</td>\n",
       "      <td>[7, 2, 3, 4, 3, 1, 1, 0]</td>\n",
       "      <td>15.721349</td>\n",
       "      <td>0.015385</td>\n",
       "      <td>False</td>\n",
       "    </tr>\n",
       "    <tr>\n",
       "      <th>8</th>\n",
       "      <td>9</td>\n",
       "      <td>[7, 2, 2, 4, 3, 0, 1, 0]</td>\n",
       "      <td>14.714777</td>\n",
       "      <td>[7, 2, 1, 3, 3, 0, 1, 0]</td>\n",
       "      <td>16.957417</td>\n",
       "      <td>0.012195</td>\n",
       "      <td>False</td>\n",
       "    </tr>\n",
       "    <tr>\n",
       "      <th>9</th>\n",
       "      <td>10</td>\n",
       "      <td>[7, 2, 2, 4, 3, 0, 1, 0]</td>\n",
       "      <td>14.714777</td>\n",
       "      <td>[7, 2, 3, 4, 3, 2, 1, 0]</td>\n",
       "      <td>14.307136</td>\n",
       "      <td>0.009901</td>\n",
       "      <td>True</td>\n",
       "    </tr>\n",
       "    <tr>\n",
       "      <th>10</th>\n",
       "      <td>11</td>\n",
       "      <td>[7, 2, 3, 4, 3, 2, 1, 0]</td>\n",
       "      <td>14.307136</td>\n",
       "      <td>[7, 2, 5, 4, 3, 2, 1, 0]</td>\n",
       "      <td>14.128990</td>\n",
       "      <td>0.008197</td>\n",
       "      <td>True</td>\n",
       "    </tr>\n",
       "    <tr>\n",
       "      <th>11</th>\n",
       "      <td>12</td>\n",
       "      <td>[7, 2, 5, 4, 3, 2, 1, 0]</td>\n",
       "      <td>14.128990</td>\n",
       "      <td>[7, 1, 5, 4, 3, 2, 1, 0]</td>\n",
       "      <td>14.714777</td>\n",
       "      <td>0.006897</td>\n",
       "      <td>False</td>\n",
       "    </tr>\n",
       "    <tr>\n",
       "      <th>12</th>\n",
       "      <td>13</td>\n",
       "      <td>[7, 2, 5, 4, 3, 2, 1, 0]</td>\n",
       "      <td>14.128990</td>\n",
       "      <td>[6, 2, 0, 4, 3, 0, 1, 0]</td>\n",
       "      <td>15.543204</td>\n",
       "      <td>0.005882</td>\n",
       "      <td>False</td>\n",
       "    </tr>\n",
       "    <tr>\n",
       "      <th>13</th>\n",
       "      <td>14</td>\n",
       "      <td>[7, 2, 5, 4, 3, 2, 1, 0]</td>\n",
       "      <td>14.128990</td>\n",
       "      <td>[7, 2, 5, 4, 3, 2, 1, 0]</td>\n",
       "      <td>14.128990</td>\n",
       "      <td>0.005076</td>\n",
       "      <td>False</td>\n",
       "    </tr>\n",
       "    <tr>\n",
       "      <th>14</th>\n",
       "      <td>15</td>\n",
       "      <td>[7, 2, 5, 4, 3, 2, 1, 0]</td>\n",
       "      <td>14.128990</td>\n",
       "      <td>[7, 2, 5, 1, 3, 1, 0, 0]</td>\n",
       "      <td>17.607699</td>\n",
       "      <td>0.004425</td>\n",
       "      <td>False</td>\n",
       "    </tr>\n",
       "  </tbody>\n",
       "</table>\n",
       "</div>"
      ],
      "text/plain": [
       "    step                         x        f_x                         y  \\\n",
       "0      1  [3, 1, 3, 3, 3, 0, 0, 0]  15.543204  [5, 2, 2, 3, 3, 0, 0, 0]   \n",
       "1      2  [5, 2, 2, 3, 3, 0, 0, 0]  12.472136  [5, 2, 2, 0, 3, 2, 1, 0]   \n",
       "2      3  [5, 2, 2, 3, 3, 0, 0, 0]  12.472136  [6, 2, 2, 3, 3, 0, 1, 0]   \n",
       "3      4  [6, 2, 2, 3, 3, 0, 1, 0]  14.714777  [7, 2, 1, 3, 2, 2, 1, 0]   \n",
       "4      5  [6, 2, 2, 3, 3, 0, 1, 0]  14.714777  [6, 4, 1, 4, 3, 0, 0, 0]   \n",
       "5      6  [6, 2, 2, 3, 3, 0, 1, 0]  14.714777  [6, 2, 3, 2, 3, 0, 1, 0]   \n",
       "6      7  [6, 2, 2, 3, 3, 0, 1, 0]  14.714777  [7, 2, 2, 4, 3, 0, 1, 0]   \n",
       "7      8  [7, 2, 2, 4, 3, 0, 1, 0]  14.714777  [7, 2, 3, 4, 3, 1, 1, 0]   \n",
       "8      9  [7, 2, 2, 4, 3, 0, 1, 0]  14.714777  [7, 2, 1, 3, 3, 0, 1, 0]   \n",
       "9     10  [7, 2, 2, 4, 3, 0, 1, 0]  14.714777  [7, 2, 3, 4, 3, 2, 1, 0]   \n",
       "10    11  [7, 2, 3, 4, 3, 2, 1, 0]  14.307136  [7, 2, 5, 4, 3, 2, 1, 0]   \n",
       "11    12  [7, 2, 5, 4, 3, 2, 1, 0]  14.128990  [7, 1, 5, 4, 3, 2, 1, 0]   \n",
       "12    13  [7, 2, 5, 4, 3, 2, 1, 0]  14.128990  [6, 2, 0, 4, 3, 0, 1, 0]   \n",
       "13    14  [7, 2, 5, 4, 3, 2, 1, 0]  14.128990  [7, 2, 5, 4, 3, 2, 1, 0]   \n",
       "14    15  [7, 2, 5, 4, 3, 2, 1, 0]  14.128990  [7, 2, 5, 1, 3, 1, 0, 0]   \n",
       "\n",
       "          f_y         T   swap  \n",
       "0   12.472136  0.500000   True  \n",
       "1   12.650282  0.200000  False  \n",
       "2   14.714777  0.100000   True  \n",
       "3   16.779272  0.058824  False  \n",
       "4   14.714777  0.038462  False  \n",
       "5   17.365058  0.027027  False  \n",
       "6   14.714777  0.020000   True  \n",
       "7   15.721349  0.015385  False  \n",
       "8   16.957417  0.012195  False  \n",
       "9   14.307136  0.009901   True  \n",
       "10  14.128990  0.008197   True  \n",
       "11  14.714777  0.006897  False  \n",
       "12  15.543204  0.005882  False  \n",
       "13  14.128990  0.005076  False  \n",
       "14  17.607699  0.004425  False  "
      ]
     },
     "execution_count": 44,
     "metadata": {},
     "output_type": "execute_result"
    }
   ],
   "source": [
    "log_data = result['log_data'].copy()\n",
    "log_data = log_data[['step', 'x', 'f_x', 'y', 'f_y', 'T', 'swap']]  # column re-ordering, for better readability\n",
    "log_data.head(15)"
   ]
  },
  {
   "cell_type": "code",
   "execution_count": 45,
   "metadata": {
    "collapsed": true
   },
   "outputs": [],
   "source": [
    "def plot_compare(step_data, ax1_col, ax1_label, ax2_col, ax2_label):\n",
    "    fig, ax1 = plt.subplots()\n",
    "\n",
    "    k = step_data.index.values\n",
    "    T = step_data[ax1_col]\n",
    "    ax1.plot(k, T, 'b-')\n",
    "    ax1.set_xlabel('Step')\n",
    "    ax1.set_ylabel(ax1_label, color='b')\n",
    "    for tl in ax1.get_yticklabels():\n",
    "        tl.set_color('b')\n",
    "\n",
    "    ax2 = ax1.twinx()\n",
    "    s2 = step_data[ax2_col]\n",
    "    ax2.plot(k, s2, 'r.')\n",
    "    ax2.set_ylabel(ax2_label, color='r')\n",
    "    for tl in ax2.get_yticklabels():\n",
    "        tl.set_color('r')\n",
    "\n",
    "    plt.show()"
   ]
  },
  {
   "cell_type": "code",
   "execution_count": 46,
   "metadata": {
    "collapsed": false
   },
   "outputs": [
    {
     "data": {
      "image/png": "[encoded data removed]",
      "text/plain": [
       "<matplotlib.figure.Figure at 0x235f0393080>"
      ]
     },
     "metadata": {},
     "output_type": "display_data"
    }
   ],
   "source": [
    "plot_compare(log_data, 'T', 'Temperature', 'f_x', 'f(x)')"
   ]
  },
  {
   "cell_type": "code",
   "execution_count": 47,
   "metadata": {
    "collapsed": false
   },
   "outputs": [
    {
     "data": {
      "image/png": "[encoded data removed]",
      "text/plain": [
       "<matplotlib.figure.Figure at 0x235f04dcb00>"
      ]
     },
     "metadata": {},
     "output_type": "display_data"
    }
   ],
   "source": [
    "plot_compare(log_data, 'T', 'Temperature', 'f_y', 'f(y)')"
   ]
  },
  {
   "cell_type": "markdown",
   "metadata": {},
   "source": [
    "### Slower cooling?\n",
    "\n",
    "Let's double $n_0$:"
   ]
  },
  {
   "cell_type": "code",
   "execution_count": 51,
   "metadata": {
    "collapsed": false
   },
   "outputs": [
    {
     "name": "stdout",
     "output_type": "stream",
     "text": [
      "neval = 150\n",
      "best_x = [0 2 0 1 3 2 1 0]\n",
      "best_y = 9.414213562373096\n"
     ]
    }
   ],
   "source": [
    "heur = FastSimulatedAnnealing(tsp, maxeval=1000, T0=1, n0=2, alpha=2, r=0.5)\n",
    "result = heur.search()\n",
    "print('neval = {}'.format(result['neval']))\n",
    "print('best_x = {}'.format(result['best_x']))\n",
    "print('best_y = {}'.format(result['best_y']))"
   ]
  },
  {
   "cell_type": "code",
   "execution_count": 52,
   "metadata": {
    "collapsed": true
   },
   "outputs": [],
   "source": [
    "log_data = result['log_data'].copy()\n",
    "log_data = log_data[['step', 'x', 'f_x', 'y', 'f_y', 'T', 'swap']]  # column re-ordering, for better readability"
   ]
  },
  {
   "cell_type": "code",
   "execution_count": 53,
   "metadata": {
    "collapsed": false
   },
   "outputs": [
    {
     "data": {
      "image/png": "[encoded data removed]",
      "text/plain": [
       "<matplotlib.figure.Figure at 0x235f04aa8d0>"
      ]
     },
     "metadata": {},
     "output_type": "display_data"
    }
   ],
   "source": [
    "plot_compare(log_data, 'T', 'Temperature', 'f_x', 'f(x)')"
   ]
  },
  {
   "cell_type": "code",
   "execution_count": 54,
   "metadata": {
    "collapsed": false
   },
   "outputs": [
    {
     "data": {
      "image/png": "[encoded data removed]",
      "text/plain": [
       "<matplotlib.figure.Figure at 0x235f0453390>"
      ]
     },
     "metadata": {},
     "output_type": "display_data"
    }
   ],
   "source": [
    "plot_compare(log_data, 'T', 'Temperature', 'f_y', 'f(y)')"
   ]
  },
  {
   "cell_type": "markdown",
   "metadata": {},
   "source": [
    "**Thorough testing**:"
   ]
  },
  {
   "cell_type": "code",
   "execution_count": 59,
   "metadata": {
    "collapsed": false
   },
   "outputs": [
    {
     "name": "stdout",
     "output_type": "stream",
     "text": [
      "\n",
      "\n",
      "\n"
     ]
    }
   ],
   "source": [
    "for n0 in [2, 3, 5, 10]:\n",
    "    res = experiment_fsa(of=tsp, maxeval=maxeval, num_runs=NUM_RUNS, T0=1, n0=n0, alpha=2, r=0.5)\n",
    "    table_fsa = pd.concat([table_fsa, res], axis=0)"
   ]
  },
  {
   "cell_type": "code",
   "execution_count": 60,
   "metadata": {
    "collapsed": false
   },
   "outputs": [
    {
     "data": {
      "text/html": [
       "<div>\n",
       "<table border=\"1\" class=\"dataframe\">\n",
       "  <thead>\n",
       "    <tr style=\"text-align: right;\">\n",
       "      <th></th>\n",
       "      <th>heur</th>\n",
       "      <th>T0</th>\n",
       "      <th>n0</th>\n",
       "      <th>rel</th>\n",
       "      <th>mne</th>\n",
       "      <th>feo</th>\n",
       "    </tr>\n",
       "  </thead>\n",
       "  <tbody>\n",
       "    <tr>\n",
       "      <th>6</th>\n",
       "      <td>FSA_1e-10_1_2_0.5</td>\n",
       "      <td>1.000000e-10</td>\n",
       "      <td>1</td>\n",
       "      <td>0.748</td>\n",
       "      <td>258.493316</td>\n",
       "      <td>345.579299</td>\n",
       "    </tr>\n",
       "    <tr>\n",
       "      <th>0</th>\n",
       "      <td>FSA_0.01_1_2_0.5</td>\n",
       "      <td>1.000000e-02</td>\n",
       "      <td>1</td>\n",
       "      <td>0.732</td>\n",
       "      <td>234.562842</td>\n",
       "      <td>320.441040</td>\n",
       "    </tr>\n",
       "    <tr>\n",
       "      <th>2</th>\n",
       "      <td>FSA_1_1_2_0.5</td>\n",
       "      <td>1.000000e+00</td>\n",
       "      <td>1</td>\n",
       "      <td>0.758</td>\n",
       "      <td>239.361478</td>\n",
       "      <td>315.780313</td>\n",
       "    </tr>\n",
       "    <tr>\n",
       "      <th>3</th>\n",
       "      <td>FSA_1_2_2_0.5</td>\n",
       "      <td>1.000000e+00</td>\n",
       "      <td>2</td>\n",
       "      <td>0.757</td>\n",
       "      <td>238.587847</td>\n",
       "      <td>315.175491</td>\n",
       "    </tr>\n",
       "    <tr>\n",
       "      <th>4</th>\n",
       "      <td>FSA_1_3_2_0.5</td>\n",
       "      <td>1.000000e+00</td>\n",
       "      <td>3</td>\n",
       "      <td>0.737</td>\n",
       "      <td>231.522388</td>\n",
       "      <td>314.141639</td>\n",
       "    </tr>\n",
       "    <tr>\n",
       "      <th>5</th>\n",
       "      <td>FSA_1_5_2_0.5</td>\n",
       "      <td>1.000000e+00</td>\n",
       "      <td>5</td>\n",
       "      <td>0.739</td>\n",
       "      <td>226.411367</td>\n",
       "      <td>306.375327</td>\n",
       "    </tr>\n",
       "    <tr>\n",
       "      <th>1</th>\n",
       "      <td>FSA_1_10_2_0.5</td>\n",
       "      <td>1.000000e+00</td>\n",
       "      <td>10</td>\n",
       "      <td>0.760</td>\n",
       "      <td>240.114474</td>\n",
       "      <td>315.940097</td>\n",
       "    </tr>\n",
       "    <tr>\n",
       "      <th>7</th>\n",
       "      <td>FSA_inf_1_2_0.5</td>\n",
       "      <td>inf</td>\n",
       "      <td>1</td>\n",
       "      <td>0.432</td>\n",
       "      <td>448.983796</td>\n",
       "      <td>1039.314343</td>\n",
       "    </tr>\n",
       "  </tbody>\n",
       "</table>\n",
       "</div>"
      ],
      "text/plain": [
       "                heur            T0  n0    rel         mne          feo\n",
       "6  FSA_1e-10_1_2_0.5  1.000000e-10   1  0.748  258.493316   345.579299\n",
       "0   FSA_0.01_1_2_0.5  1.000000e-02   1  0.732  234.562842   320.441040\n",
       "2      FSA_1_1_2_0.5  1.000000e+00   1  0.758  239.361478   315.780313\n",
       "3      FSA_1_2_2_0.5  1.000000e+00   2  0.757  238.587847   315.175491\n",
       "4      FSA_1_3_2_0.5  1.000000e+00   3  0.737  231.522388   314.141639\n",
       "5      FSA_1_5_2_0.5  1.000000e+00   5  0.739  226.411367   306.375327\n",
       "1     FSA_1_10_2_0.5  1.000000e+00  10  0.760  240.114474   315.940097\n",
       "7    FSA_inf_1_2_0.5           inf   1  0.432  448.983796  1039.314343"
      ]
     },
     "execution_count": 60,
     "metadata": {},
     "output_type": "execute_result"
    }
   ],
   "source": [
    "stats_fsa = table_fsa.pivot_table(\n",
    "    index=['heur', 'T0', 'n0'],\n",
    "    values=['neval'],\n",
    "    aggfunc=(rel, mne, feo)\n",
    ")['neval']\n",
    "stats_fsa = stats_fsa.reset_index()\n",
    "stats_fsa.sort_values(by=['T0', 'n0'])"
   ]
  },
  {
   "cell_type": "markdown",
   "metadata": {},
   "source": [
    "### Is the mutation $r$ adequate?"
   ]
  },
  {
   "cell_type": "code",
   "execution_count": 61,
   "metadata": {
    "collapsed": false
   },
   "outputs": [
    {
     "data": {
      "text/html": [
       "<div>\n",
       "<table border=\"1\" class=\"dataframe\">\n",
       "  <thead>\n",
       "    <tr style=\"text-align: right;\">\n",
       "      <th></th>\n",
       "      <th>step</th>\n",
       "      <th>x</th>\n",
       "      <th>f_x</th>\n",
       "      <th>y</th>\n",
       "      <th>f_y</th>\n",
       "      <th>T</th>\n",
       "      <th>swap</th>\n",
       "      <th>jump_length</th>\n",
       "    </tr>\n",
       "  </thead>\n",
       "  <tbody>\n",
       "    <tr>\n",
       "      <th>0</th>\n",
       "      <td>1</td>\n",
       "      <td>[0, 3, 0, 2, 3, 1, 1, 0]</td>\n",
       "      <td>13.071068</td>\n",
       "      <td>[1, 3, 0, 2, 3, 2, 1, 0]</td>\n",
       "      <td>12.650282</td>\n",
       "      <td>0.800000</td>\n",
       "      <td>False</td>\n",
       "      <td>1.414214</td>\n",
       "    </tr>\n",
       "    <tr>\n",
       "      <th>1</th>\n",
       "      <td>2</td>\n",
       "      <td>[0, 3, 0, 2, 3, 1, 1, 0]</td>\n",
       "      <td>13.071068</td>\n",
       "      <td>[0, 2, 5, 2, 3, 2, 0, 0]</td>\n",
       "      <td>12.892922</td>\n",
       "      <td>0.500000</td>\n",
       "      <td>False</td>\n",
       "      <td>5.291503</td>\n",
       "    </tr>\n",
       "    <tr>\n",
       "      <th>2</th>\n",
       "      <td>3</td>\n",
       "      <td>[0, 3, 0, 2, 3, 1, 1, 0]</td>\n",
       "      <td>13.071068</td>\n",
       "      <td>[0, 3, 0, 2, 3, 1, 1, 0]</td>\n",
       "      <td>13.071068</td>\n",
       "      <td>0.307692</td>\n",
       "      <td>False</td>\n",
       "      <td>0.000000</td>\n",
       "    </tr>\n",
       "    <tr>\n",
       "      <th>3</th>\n",
       "      <td>4</td>\n",
       "      <td>[0, 3, 0, 2, 3, 1, 1, 0]</td>\n",
       "      <td>13.071068</td>\n",
       "      <td>[1, 1, 0, 2, 3, 0, 1, 0]</td>\n",
       "      <td>15.950845</td>\n",
       "      <td>0.200000</td>\n",
       "      <td>False</td>\n",
       "      <td>2.449490</td>\n",
       "    </tr>\n",
       "    <tr>\n",
       "      <th>4</th>\n",
       "      <td>5</td>\n",
       "      <td>[0, 3, 0, 2, 3, 1, 1, 0]</td>\n",
       "      <td>13.071068</td>\n",
       "      <td>[0, 3, 0, 1, 3, 0, 1, 0]</td>\n",
       "      <td>12.892922</td>\n",
       "      <td>0.137931</td>\n",
       "      <td>True</td>\n",
       "      <td>1.414214</td>\n",
       "    </tr>\n",
       "    <tr>\n",
       "      <th>5</th>\n",
       "      <td>6</td>\n",
       "      <td>[0, 3, 0, 1, 3, 0, 1, 0]</td>\n",
       "      <td>12.892922</td>\n",
       "      <td>[0, 3, 0, 0, 3, 1, 0, 0]</td>\n",
       "      <td>14.536631</td>\n",
       "      <td>0.100000</td>\n",
       "      <td>True</td>\n",
       "      <td>1.732051</td>\n",
       "    </tr>\n",
       "    <tr>\n",
       "      <th>6</th>\n",
       "      <td>7</td>\n",
       "      <td>[0, 3, 0, 0, 3, 1, 0, 0]</td>\n",
       "      <td>14.536631</td>\n",
       "      <td>[1, 5, 3, 0, 3, 1, 0, 0]</td>\n",
       "      <td>14.714777</td>\n",
       "      <td>0.075472</td>\n",
       "      <td>False</td>\n",
       "      <td>3.741657</td>\n",
       "    </tr>\n",
       "    <tr>\n",
       "      <th>7</th>\n",
       "      <td>8</td>\n",
       "      <td>[0, 3, 0, 0, 3, 1, 0, 0]</td>\n",
       "      <td>14.536631</td>\n",
       "      <td>[0, 3, 0, 1, 3, 1, 1, 0]</td>\n",
       "      <td>11.656854</td>\n",
       "      <td>0.058824</td>\n",
       "      <td>True</td>\n",
       "      <td>1.414214</td>\n",
       "    </tr>\n",
       "    <tr>\n",
       "      <th>8</th>\n",
       "      <td>9</td>\n",
       "      <td>[0, 3, 0, 1, 3, 1, 1, 0]</td>\n",
       "      <td>11.656854</td>\n",
       "      <td>[0, 3, 1, 2, 3, 1, 1, 0]</td>\n",
       "      <td>14.064495</td>\n",
       "      <td>0.047059</td>\n",
       "      <td>False</td>\n",
       "      <td>1.414214</td>\n",
       "    </tr>\n",
       "    <tr>\n",
       "      <th>9</th>\n",
       "      <td>10</td>\n",
       "      <td>[0, 3, 0, 1, 3, 1, 1, 0]</td>\n",
       "      <td>11.656854</td>\n",
       "      <td>[0, 4, 1, 1, 3, 0, 1, 0]</td>\n",
       "      <td>14.536631</td>\n",
       "      <td>0.038462</td>\n",
       "      <td>False</td>\n",
       "      <td>1.732051</td>\n",
       "    </tr>\n",
       "  </tbody>\n",
       "</table>\n",
       "</div>"
      ],
      "text/plain": [
       "   step                         x        f_x                         y  \\\n",
       "0     1  [0, 3, 0, 2, 3, 1, 1, 0]  13.071068  [1, 3, 0, 2, 3, 2, 1, 0]   \n",
       "1     2  [0, 3, 0, 2, 3, 1, 1, 0]  13.071068  [0, 2, 5, 2, 3, 2, 0, 0]   \n",
       "2     3  [0, 3, 0, 2, 3, 1, 1, 0]  13.071068  [0, 3, 0, 2, 3, 1, 1, 0]   \n",
       "3     4  [0, 3, 0, 2, 3, 1, 1, 0]  13.071068  [1, 1, 0, 2, 3, 0, 1, 0]   \n",
       "4     5  [0, 3, 0, 2, 3, 1, 1, 0]  13.071068  [0, 3, 0, 1, 3, 0, 1, 0]   \n",
       "5     6  [0, 3, 0, 1, 3, 0, 1, 0]  12.892922  [0, 3, 0, 0, 3, 1, 0, 0]   \n",
       "6     7  [0, 3, 0, 0, 3, 1, 0, 0]  14.536631  [1, 5, 3, 0, 3, 1, 0, 0]   \n",
       "7     8  [0, 3, 0, 0, 3, 1, 0, 0]  14.536631  [0, 3, 0, 1, 3, 1, 1, 0]   \n",
       "8     9  [0, 3, 0, 1, 3, 1, 1, 0]  11.656854  [0, 3, 1, 2, 3, 1, 1, 0]   \n",
       "9    10  [0, 3, 0, 1, 3, 1, 1, 0]  11.656854  [0, 4, 1, 1, 3, 0, 1, 0]   \n",
       "\n",
       "         f_y         T   swap  jump_length  \n",
       "0  12.650282  0.800000  False     1.414214  \n",
       "1  12.892922  0.500000  False     5.291503  \n",
       "2  13.071068  0.307692  False     0.000000  \n",
       "3  15.950845  0.200000  False     2.449490  \n",
       "4  12.892922  0.137931   True     1.414214  \n",
       "5  14.536631  0.100000   True     1.732051  \n",
       "6  14.714777  0.075472  False     3.741657  \n",
       "7  11.656854  0.058824   True     1.414214  \n",
       "8  14.064495  0.047059  False     1.414214  \n",
       "9  14.536631  0.038462  False     1.732051  "
      ]
     },
     "execution_count": 61,
     "metadata": {},
     "output_type": "execute_result"
    }
   ],
   "source": [
    "log_data['jump_length'] = log_data.apply(lambda r: np.linalg.norm(r['x'] - r['y']), axis=1)\n",
    "log_data.head(10)"
   ]
  },
  {
   "cell_type": "code",
   "execution_count": 62,
   "metadata": {
    "collapsed": false
   },
   "outputs": [
    {
     "data": {
      "text/plain": [
       "count    148.000000\n",
       "mean       2.334011\n",
       "std        1.540285\n",
       "min        0.000000\n",
       "25%        1.414214\n",
       "50%        1.866025\n",
       "75%        3.162278\n",
       "max        7.141428\n",
       "Name: jump_length, dtype: float64"
      ]
     },
     "execution_count": 62,
     "metadata": {},
     "output_type": "execute_result"
    }
   ],
   "source": [
    "log_data['jump_length'].describe()"
   ]
  },
  {
   "cell_type": "code",
   "execution_count": 63,
   "metadata": {
    "collapsed": false
   },
   "outputs": [
    {
     "name": "stdout",
     "output_type": "stream",
     "text": [
      "\n",
      "\n",
      "\n",
      "\n"
     ]
    }
   ],
   "source": [
    "for r in [.1, .25, .75, 1, 2]:\n",
    "    res = experiment_fsa(of=tsp, maxeval=maxeval, num_runs=NUM_RUNS, T0=1, n0=5, alpha=2, r=r)\n",
    "    table_fsa = pd.concat([table_fsa, res], axis=0)"
   ]
  },
  {
   "cell_type": "code",
   "execution_count": 66,
   "metadata": {
    "collapsed": false
   },
   "outputs": [
    {
     "data": {
      "text/html": [
       "<div>\n",
       "<table border=\"1\" class=\"dataframe\">\n",
       "  <thead>\n",
       "    <tr style=\"text-align: right;\">\n",
       "      <th></th>\n",
       "      <th>heur</th>\n",
       "      <th>T0</th>\n",
       "      <th>n0</th>\n",
       "      <th>r</th>\n",
       "      <th>rel</th>\n",
       "      <th>mne</th>\n",
       "      <th>feo</th>\n",
       "    </tr>\n",
       "  </thead>\n",
       "  <tbody>\n",
       "    <tr>\n",
       "      <th>11</th>\n",
       "      <td>FSA_1e-10_1_2_0.5</td>\n",
       "      <td>1.000000e-10</td>\n",
       "      <td>1</td>\n",
       "      <td>0.50</td>\n",
       "      <td>0.748</td>\n",
       "      <td>258.493316</td>\n",
       "      <td>345.579299</td>\n",
       "    </tr>\n",
       "    <tr>\n",
       "      <th>0</th>\n",
       "      <td>FSA_0.01_1_2_0.5</td>\n",
       "      <td>1.000000e-02</td>\n",
       "      <td>1</td>\n",
       "      <td>0.50</td>\n",
       "      <td>0.732</td>\n",
       "      <td>234.562842</td>\n",
       "      <td>320.441040</td>\n",
       "    </tr>\n",
       "    <tr>\n",
       "      <th>2</th>\n",
       "      <td>FSA_1_1_2_0.5</td>\n",
       "      <td>1.000000e+00</td>\n",
       "      <td>1</td>\n",
       "      <td>0.50</td>\n",
       "      <td>0.758</td>\n",
       "      <td>239.361478</td>\n",
       "      <td>315.780313</td>\n",
       "    </tr>\n",
       "    <tr>\n",
       "      <th>3</th>\n",
       "      <td>FSA_1_2_2_0.5</td>\n",
       "      <td>1.000000e+00</td>\n",
       "      <td>2</td>\n",
       "      <td>0.50</td>\n",
       "      <td>0.757</td>\n",
       "      <td>238.587847</td>\n",
       "      <td>315.175491</td>\n",
       "    </tr>\n",
       "    <tr>\n",
       "      <th>4</th>\n",
       "      <td>FSA_1_3_2_0.5</td>\n",
       "      <td>1.000000e+00</td>\n",
       "      <td>3</td>\n",
       "      <td>0.50</td>\n",
       "      <td>0.737</td>\n",
       "      <td>231.522388</td>\n",
       "      <td>314.141639</td>\n",
       "    </tr>\n",
       "    <tr>\n",
       "      <th>5</th>\n",
       "      <td>FSA_1_5_2_0.1</td>\n",
       "      <td>1.000000e+00</td>\n",
       "      <td>5</td>\n",
       "      <td>0.10</td>\n",
       "      <td>0.746</td>\n",
       "      <td>228.781501</td>\n",
       "      <td>306.677616</td>\n",
       "    </tr>\n",
       "    <tr>\n",
       "      <th>6</th>\n",
       "      <td>FSA_1_5_2_0.25</td>\n",
       "      <td>1.000000e+00</td>\n",
       "      <td>5</td>\n",
       "      <td>0.25</td>\n",
       "      <td>0.742</td>\n",
       "      <td>249.121294</td>\n",
       "      <td>335.742984</td>\n",
       "    </tr>\n",
       "    <tr>\n",
       "      <th>7</th>\n",
       "      <td>FSA_1_5_2_0.5</td>\n",
       "      <td>1.000000e+00</td>\n",
       "      <td>5</td>\n",
       "      <td>0.50</td>\n",
       "      <td>0.739</td>\n",
       "      <td>226.411367</td>\n",
       "      <td>306.375327</td>\n",
       "    </tr>\n",
       "    <tr>\n",
       "      <th>8</th>\n",
       "      <td>FSA_1_5_2_0.75</td>\n",
       "      <td>1.000000e+00</td>\n",
       "      <td>5</td>\n",
       "      <td>0.75</td>\n",
       "      <td>0.750</td>\n",
       "      <td>254.409333</td>\n",
       "      <td>339.212444</td>\n",
       "    </tr>\n",
       "    <tr>\n",
       "      <th>9</th>\n",
       "      <td>FSA_1_5_2_1</td>\n",
       "      <td>1.000000e+00</td>\n",
       "      <td>5</td>\n",
       "      <td>1.00</td>\n",
       "      <td>0.741</td>\n",
       "      <td>219.843455</td>\n",
       "      <td>296.684824</td>\n",
       "    </tr>\n",
       "    <tr>\n",
       "      <th>10</th>\n",
       "      <td>FSA_1_5_2_2</td>\n",
       "      <td>1.000000e+00</td>\n",
       "      <td>5</td>\n",
       "      <td>2.00</td>\n",
       "      <td>0.771</td>\n",
       "      <td>240.426719</td>\n",
       "      <td>311.837508</td>\n",
       "    </tr>\n",
       "    <tr>\n",
       "      <th>1</th>\n",
       "      <td>FSA_1_10_2_0.5</td>\n",
       "      <td>1.000000e+00</td>\n",
       "      <td>10</td>\n",
       "      <td>0.50</td>\n",
       "      <td>0.760</td>\n",
       "      <td>240.114474</td>\n",
       "      <td>315.940097</td>\n",
       "    </tr>\n",
       "    <tr>\n",
       "      <th>12</th>\n",
       "      <td>FSA_inf_1_2_0.5</td>\n",
       "      <td>inf</td>\n",
       "      <td>1</td>\n",
       "      <td>0.50</td>\n",
       "      <td>0.432</td>\n",
       "      <td>448.983796</td>\n",
       "      <td>1039.314343</td>\n",
       "    </tr>\n",
       "  </tbody>\n",
       "</table>\n",
       "</div>"
      ],
      "text/plain": [
       "                 heur            T0  n0     r    rel         mne          feo\n",
       "11  FSA_1e-10_1_2_0.5  1.000000e-10   1  0.50  0.748  258.493316   345.579299\n",
       "0    FSA_0.01_1_2_0.5  1.000000e-02   1  0.50  0.732  234.562842   320.441040\n",
       "2       FSA_1_1_2_0.5  1.000000e+00   1  0.50  0.758  239.361478   315.780313\n",
       "3       FSA_1_2_2_0.5  1.000000e+00   2  0.50  0.757  238.587847   315.175491\n",
       "4       FSA_1_3_2_0.5  1.000000e+00   3  0.50  0.737  231.522388   314.141639\n",
       "5       FSA_1_5_2_0.1  1.000000e+00   5  0.10  0.746  228.781501   306.677616\n",
       "6      FSA_1_5_2_0.25  1.000000e+00   5  0.25  0.742  249.121294   335.742984\n",
       "7       FSA_1_5_2_0.5  1.000000e+00   5  0.50  0.739  226.411367   306.375327\n",
       "8      FSA_1_5_2_0.75  1.000000e+00   5  0.75  0.750  254.409333   339.212444\n",
       "9         FSA_1_5_2_1  1.000000e+00   5  1.00  0.741  219.843455   296.684824\n",
       "10        FSA_1_5_2_2  1.000000e+00   5  2.00  0.771  240.426719   311.837508\n",
       "1      FSA_1_10_2_0.5  1.000000e+00  10  0.50  0.760  240.114474   315.940097\n",
       "12    FSA_inf_1_2_0.5           inf   1  0.50  0.432  448.983796  1039.314343"
      ]
     },
     "execution_count": 66,
     "metadata": {},
     "output_type": "execute_result"
    }
   ],
   "source": [
    "stats_fsa = table_fsa.pivot_table(\n",
    "    index=['heur', 'T0', 'n0', 'r'],\n",
    "    values=['neval'],\n",
    "    aggfunc=(rel, mne, feo)\n",
    ")['neval']\n",
    "stats_fsa = stats_fsa.reset_index()\n",
    "stats_fsa.sort_values(by=['T0', 'n0', 'r'])"
   ]
  },
  {
   "cell_type": "markdown",
   "metadata": {},
   "source": [
    "The best performing instance of FSA, according to $FEO$:"
   ]
  },
  {
   "cell_type": "code",
   "execution_count": 69,
   "metadata": {
    "collapsed": false
   },
   "outputs": [
    {
     "data": {
      "text/html": [
       "<div>\n",
       "<table border=\"1\" class=\"dataframe\">\n",
       "  <thead>\n",
       "    <tr style=\"text-align: right;\">\n",
       "      <th></th>\n",
       "      <th>heur</th>\n",
       "      <th>T0</th>\n",
       "      <th>n0</th>\n",
       "      <th>r</th>\n",
       "      <th>rel</th>\n",
       "      <th>mne</th>\n",
       "      <th>feo</th>\n",
       "    </tr>\n",
       "  </thead>\n",
       "  <tbody>\n",
       "    <tr>\n",
       "      <th>9</th>\n",
       "      <td>FSA_1_5_2_1</td>\n",
       "      <td>1.0</td>\n",
       "      <td>5</td>\n",
       "      <td>1.0</td>\n",
       "      <td>0.741</td>\n",
       "      <td>219.843455</td>\n",
       "      <td>296.684824</td>\n",
       "    </tr>\n",
       "  </tbody>\n",
       "</table>\n",
       "</div>"
      ],
      "text/plain": [
       "          heur   T0  n0    r    rel         mne         feo\n",
       "9  FSA_1_5_2_1  1.0   5  1.0  0.741  219.843455  296.684824"
      ]
     },
     "execution_count": 69,
     "metadata": {},
     "output_type": "execute_result"
    }
   ],
   "source": [
    "stats_fsa.sort_values(by=['feo']).head(1)"
   ]
  },
  {
   "cell_type": "markdown",
   "metadata": {},
   "source": [
    "## Conclusion\n",
    "\n",
    "When assessing heuristic performance, always try to combine _prior_ knowledge with _posterior_ data collected during experimental phase. On the other hand, exhaustive grid parameter space search can be useful as well, but you will learn much more using this iterative approach."
   ]
  },
  {
   "cell_type": "markdown",
   "metadata": {},
   "source": [
    "## Assignment\n",
    "\n",
    "1. Could you further improve performance of FSA on this instance of TSP?\n",
    "2. We have performed analyses of the `log_data` contents on a single run of a heuristic. Try to aggregate and make use o fthese statistics on multiple eperimental runs.\n",
    "3. When FSA search is successful, the last objective function call is missing in the `log_data` output variable. Could you improve this behaviour?"
   ]
  }
 ],
 "metadata": {
  "kernelspec": {
   "display_name": "Python 3",
   "language": "python",
   "name": "python3"
  },
  "language_info": {
   "codemirror_mode": {
    "name": "ipython",
    "version": 3
   },
   "file_extension": ".py",
   "mimetype": "text/x-python",
   "name": "python",
   "nbconvert_exporter": "python",
   "pygments_lexer": "ipython3",
   "version": "3.5.2"
  }
 },
 "nbformat": 4,
 "nbformat_minor": 0
}
