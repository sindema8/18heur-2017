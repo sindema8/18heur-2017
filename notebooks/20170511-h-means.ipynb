{
 "cells": [
  {
   "cell_type": "markdown",
   "metadata": {},
   "source": [
    "# _h_-means\n",
    "\n",
    "Heuristic clustering inspired by [_k_-means](https://en.wikipedia.org/wiki/K-means_clustering). As another demonstration of how continuous heuristics can be used."
   ]
  },
  {
   "cell_type": "markdown",
   "metadata": {},
   "source": [
    "### Set up IPython notebook environment first..."
   ]
  },
  {
   "cell_type": "code",
   "execution_count": 1,
   "metadata": {
    "collapsed": false
   },
   "outputs": [],
   "source": [
    "# Import path to source directory (bit of a hack in Jupyter)\n",
    "import sys\n",
    "import os\n",
    "pwd = %pwd\n",
    "sys.path.append(os.path.join(pwd, '../src'))\n",
    "\n",
    "# Ensure modules are reloaded on any change (very useful when developing code on the fly)\n",
    "get_ipython().magic('load_ext autoreload')\n",
    "get_ipython().magic('autoreload 2')"
   ]
  },
  {
   "cell_type": "code",
   "execution_count": 2,
   "metadata": {
    "collapsed": false
   },
   "outputs": [],
   "source": [
    "# Import external libraries\n",
    "import numpy as np\n",
    "\n",
    "import matplotlib\n",
    "%matplotlib inline\n",
    "import matplotlib.pyplot as plt\n",
    "import seaborn as sns\n",
    "sns.set()"
   ]
  },
  {
   "cell_type": "markdown",
   "metadata": {},
   "source": [
    "# Objective function demonstration"
   ]
  },
  {
   "cell_type": "code",
   "execution_count": 3,
   "metadata": {
    "collapsed": true
   },
   "outputs": [],
   "source": [
    "from objfun import HMeans"
   ]
  },
  {
   "cell_type": "code",
   "execution_count": 4,
   "metadata": {
    "collapsed": false
   },
   "outputs": [],
   "source": [
    "of = HMeans()  "
   ]
  },
  {
   "cell_type": "code",
   "execution_count": 5,
   "metadata": {
    "collapsed": false
   },
   "outputs": [
    {
     "name": "stdout",
     "output_type": "stream",
     "text": [
      "f* = 0.3084489218103048\n"
     ]
    }
   ],
   "source": [
    "print('f* = {}'.format(of.fstar))"
   ]
  },
  {
   "cell_type": "code",
   "execution_count": 6,
   "metadata": {
    "collapsed": false
   },
   "outputs": [
    {
     "data": {
      "image/png": "[encoded data removed]",
      "text/plain": [
       "<matplotlib.figure.Figure at 0x22162efd160>"
      ]
     },
     "metadata": {},
     "output_type": "display_data"
    }
   ],
   "source": [
    "# plot the data proints\n",
    "X = of.X\n",
    "ax = plt.scatter(x=X[:, 0], y=X[:, 1])"
   ]
  },
  {
   "cell_type": "code",
   "execution_count": 7,
   "metadata": {
    "collapsed": false
   },
   "outputs": [
    {
     "name": "stdout",
     "output_type": "stream",
     "text": [
      "a = [ 0.40569774 -0.06641667  0.40569774 -0.06641667  0.40569774 -0.06641667]\n",
      "b = [ 0.84554749  0.79467683  0.84554749  0.79467683  0.84554749  0.79467683]\n"
     ]
    }
   ],
   "source": [
    "print('a = {}'.format(of.a))\n",
    "print('b = {}'.format(of.b))"
   ]
  },
  {
   "cell_type": "markdown",
   "metadata": {},
   "source": [
    "**Bounds are repeated for each centroid, that will be tuned by the heuristic.**"
   ]
  },
  {
   "cell_type": "code",
   "execution_count": 10,
   "metadata": {
    "collapsed": false
   },
   "outputs": [
    {
     "name": "stdout",
     "output_type": "stream",
     "text": [
      "f([ 0.80989167  0.40346984  0.02443264  0.85683104  0.27429482  0.70910596]) = 6.050519176452423\n",
      "f([ 0.35577234  0.79430906  0.84461886  0.53814752  0.55908652  0.12250998]) = 2.183432476474104\n",
      "f([ 0.37764192  0.42874733  0.51120865  0.89176257  0.30021061  0.39644188]) = 6.334147396410055\n",
      "f([ 0.79327323  0.41227608  0.18486755  0.84024732  0.5692714   0.06005021]) = 3.2263269161819847\n",
      "f([ 0.98891697  0.22878233  0.61470171  0.36802668  0.80277594  0.62756185]) = 2.547698253957982\n",
      "f([ 0.82121648  0.28825314  0.27479513  0.60105189  0.9385142   0.70729631]) = 4.047180069133727\n",
      "f([ 0.26340316  0.12233592  0.45872423  0.9748125   0.68057437  0.19325373]) = 2.4767818015959024\n",
      "f([ 0.04673923  0.95264394  0.85864902  0.82790318  0.96390052  0.59893645]) = 11.670283639075931\n",
      "f([ 0.93091584  0.14676881  0.11396031  0.3720289   0.76656013  0.32114203]) = 4.846663622110576\n",
      "f([ 0.63803508  0.0092211   0.54346504  0.33775465  0.89802431  0.94070704]) = 2.1539711522850644\n"
     ]
    }
   ],
   "source": [
    "# some random evaluations\n",
    "for i in range(10):\n",
    "    x = of.generate_point()\n",
    "    print('f({}) = {}'.format(x, of.evaluate(x)))"
   ]
  },
  {
   "cell_type": "code",
   "execution_count": 11,
   "metadata": {
    "collapsed": false
   },
   "outputs": [
    {
     "name": "stdout",
     "output_type": "stream",
     "text": [
      "[0 0 0 0 0 0 0 0 0 0 0 0 0 0 0 2 2 2 2 2 2 2 2 2 2 2 2 2 2 2 1 0 1 1 1 1 1\n",
      " 1 1 1 0 1 0 1 1]\n"
     ]
    }
   ],
   "source": [
    "# we can get cluster labels (for a random solution)\n",
    "labels = of.get_cluster_labels(x)\n",
    "print(labels)"
   ]
  },
  {
   "cell_type": "code",
   "execution_count": 12,
   "metadata": {
    "collapsed": true
   },
   "outputs": [],
   "source": [
    "# auxiliary routine\n",
    "def visualize_solution(x, of):\n",
    "    labels = of.get_cluster_labels(x)\n",
    "    X = of.X\n",
    "    ax = plt.scatter(x=X[:, 0], y=X[:, 1], c=labels)"
   ]
  },
  {
   "cell_type": "code",
   "execution_count": 13,
   "metadata": {
    "collapsed": false
   },
   "outputs": [
    {
     "data": {
      "image/png": "[encoded data removed]",
      "text/plain": [
       "<matplotlib.figure.Figure at 0x221638df668>"
      ]
     },
     "metadata": {},
     "output_type": "display_data"
    }
   ],
   "source": [
    "# visualization of a random solution\n",
    "visualize_solution(x, of)"
   ]
  },
  {
   "cell_type": "markdown",
   "metadata": {},
   "source": [
    "# Optimization demonstration"
   ]
  },
  {
   "cell_type": "code",
   "execution_count": 14,
   "metadata": {
    "collapsed": true
   },
   "outputs": [],
   "source": [
    "from heur_mutations import MirrorCorrection, CauchyMutation\n",
    "from heur import FastSimulatedAnnealing"
   ]
  },
  {
   "cell_type": "code",
   "execution_count": 15,
   "metadata": {
    "collapsed": false
   },
   "outputs": [
    {
     "name": "stdout",
     "output_type": "stream",
     "text": [
      "x_best = [ 0.60231572  0.75542795  0.78138002  0.03303465  0.5140592   0.26748931]\n",
      "y_best = 0.2764327489899351\n",
      "neval = 357\n"
     ]
    }
   ],
   "source": [
    "heur = FastSimulatedAnnealing(of, maxeval=10000, T0=10, n0=10, alpha=2, \n",
    "                              mutation=CauchyMutation(r=0.1, correction=MirrorCorrection(of)))\n",
    "res = heur.search()\n",
    "print('x_best = {}'.format(res['best_x']))\n",
    "print('y_best = {}'.format(res['best_y']))\n",
    "print('neval = {}'.format(res['neval']))"
   ]
  },
  {
   "cell_type": "code",
   "execution_count": 16,
   "metadata": {
    "collapsed": false
   },
   "outputs": [
    {
     "data": {
      "image/png": "[encoded data removed]",
      "text/plain": [
       "<matplotlib.figure.Figure at 0x22163900da0>"
      ]
     },
     "metadata": {},
     "output_type": "display_data"
    }
   ],
   "source": [
    "visualize_solution(res['best_x'], of)"
   ]
  },
  {
   "cell_type": "markdown",
   "metadata": {},
   "source": [
    "## Excercises\n",
    "* Tune heuristics for this objective function\n",
    "* Tune this objective function, e.g. by penalization for smaller number of clusters than $h$ (and make sure you understand why this is possible)\n",
    "* Compare heuristic approach to the original _k_-means"
   ]
  }
 ],
 "metadata": {
  "kernelspec": {
   "display_name": "Python 3",
   "language": "python",
   "name": "python3"
  },
  "language_info": {
   "codemirror_mode": {
    "name": "ipython",
    "version": 3
   },
   "file_extension": ".py",
   "mimetype": "text/x-python",
   "name": "python",
   "nbconvert_exporter": "python",
   "pygments_lexer": "ipython3",
   "version": "3.5.2"
  }
 },
 "nbformat": 4,
 "nbformat_minor": 0
}
