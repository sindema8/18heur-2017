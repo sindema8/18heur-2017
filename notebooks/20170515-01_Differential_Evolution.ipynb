{
 "cells": [
  {
   "cell_type": "markdown",
   "metadata": {},
   "source": [
    "# Differential Evolution\n",
    "\n",
    "For detailed description refer to [Wikipedia article](https://en.wikipedia.org/wiki/Differential_evolution)."
   ]
  },
  {
   "cell_type": "markdown",
   "metadata": {},
   "source": [
    "#### Set up IPython notebook environment first..."
   ]
  },
  {
   "cell_type": "code",
   "execution_count": 1,
   "metadata": {
    "collapsed": false
   },
   "outputs": [],
   "source": [
    "# Import path to source directory (bit of a hack in Jupyter)\n",
    "import sys, os\n",
    "pwd = %pwd\n",
    "sys.path.append(os.path.join(pwd, '../src'))\n",
    "\n",
    "# Ensure modules are reloaded on any change (very useful when developing code on the fly)\n",
    "get_ipython().magic('load_ext autoreload')\n",
    "get_ipython().magic('autoreload 2')"
   ]
  },
  {
   "cell_type": "markdown",
   "metadata": {},
   "source": [
    "# Demo"
   ]
  },
  {
   "cell_type": "code",
   "execution_count": 2,
   "metadata": {
    "collapsed": true
   },
   "outputs": [],
   "source": [
    "from objfun import DeJong1\n",
    "from heur import DifferentialEvolution"
   ]
  },
  {
   "cell_type": "code",
   "execution_count": 3,
   "metadata": {
    "collapsed": true
   },
   "outputs": [],
   "source": [
    "dj = DeJong1(n=3, eps=0.01)"
   ]
  },
  {
   "cell_type": "code",
   "execution_count": 4,
   "metadata": {
    "collapsed": false
   },
   "outputs": [
    {
     "name": "stdout",
     "output_type": "stream",
     "text": [
      "x_best = [0.0046753246291881823, 0.049500322146023734, -0.075020187845331598]\n",
      "y_best = 0.00810016913729726\n",
      "neval = 411\n"
     ]
    }
   ],
   "source": [
    "de = DifferentialEvolution(of=dj, maxeval=1000, N=10, CR=0.5, F=1)\n",
    "res = de.search()\n",
    "print('x_best = {}'.format(res['best_x']))\n",
    "print('y_best = {}'.format(res['best_y']))\n",
    "print('neval = {}'.format(res['neval']))"
   ]
  },
  {
   "cell_type": "markdown",
   "metadata": {},
   "source": [
    "# Excercises\n",
    "\n",
    "* Study the new algorithm performance\n",
    "* Experiment with alternative approaches to mutation (`DE/best/x` etc, see e.g. [this SO question](http://stackoverflow.com/questions/20393102/all-versions-of-differential-evolution-algorithm) for reference)"
   ]
  }
 ],
 "metadata": {
  "kernelspec": {
   "display_name": "Python 3",
   "language": "python",
   "name": "python3"
  },
  "language_info": {
   "codemirror_mode": {
    "name": "ipython",
    "version": 3
   },
   "file_extension": ".py",
   "mimetype": "text/x-python",
   "name": "python",
   "nbconvert_exporter": "python",
   "pygments_lexer": "ipython3",
   "version": "3.5.2"
  }
 },
 "nbformat": 4,
 "nbformat_minor": 0
}
