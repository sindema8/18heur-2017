{
 "cells": [
  {
   "cell_type": "markdown",
   "metadata": {},
   "source": [
    "# Organizational notes\n",
    "\n",
    "**IMPORTANT**: Please refer to `notebooks/20170220_Introduction.ipynb` for the most important information on _zápočet_."
   ]
  },
  {
   "cell_type": "markdown",
   "metadata": {},
   "source": [
    "## Recommended topics for your own work\n",
    "\n",
    "### 1. Tuning of implemented heuristics on implemented objective functions\n",
    "\n",
    "It is absolutely OK to re-use any materials from the classes, including source codes. But beware: simple re-running of existing heuristics and obj. functions, even on larger parameter space, is **not enough**.  Large scale experiments should be accompanied by reasonable analysis of the results and thoughtful conclusions!\n",
    "\n",
    "### 2. Implementation and tuning of new heuristics and/or new objective functions\n",
    "\n",
    "Reasonable study of heuristic/obj. function parameters, including comparison with selected referential methods, will be required as output.\n",
    "\n",
    "### 3. Improvement of existing code base\n",
    "\n",
    "By implementing unit tests, better handling of edge cases, improving documentation, packaging etc. Any work in this regard should be discussed in advance."
   ]
  },
  {
   "cell_type": "markdown",
   "metadata": {},
   "source": [
    "## How to submit your work\n",
    "\n",
    "As a Jupyter notebook (including .IPYNB, .HTML and .PY version), ideally. Regular PDF is OK as well. Just name the files reasonably (`HEURISTIKY.pdf` is a bad name) and any form readable on a mobile device will be appreciated.\n",
    "\n",
    "Furthermore, consider the following technical ways of submission:\n",
    "\n",
    "1. [Pull request](https://help.github.com/articles/about-pull-requests/) is definitely the favored alternative\n",
    "2. Via e-mail\n",
    "\n",
    "Last, but not least, English language is preferred."
   ]
  },
  {
   "cell_type": "markdown",
   "metadata": {},
   "source": [
    "## Schedule for the rest of semester\n",
    "\n",
    "TBD."
   ]
  }
 ],
 "metadata": {
  "kernelspec": {
   "display_name": "Python 3",
   "language": "python",
   "name": "python3"
  },
  "language_info": {
   "codemirror_mode": {
    "name": "ipython",
    "version": 3
   },
   "file_extension": ".py",
   "mimetype": "text/x-python",
   "name": "python",
   "nbconvert_exporter": "python",
   "pygments_lexer": "ipython3",
   "version": "3.5.2"
  }
 },
 "nbformat": 4,
 "nbformat_minor": 0
}
