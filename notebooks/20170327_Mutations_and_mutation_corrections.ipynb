{
 "cells": [
  {
   "cell_type": "markdown",
   "metadata": {},
   "source": [
    "# Mutation and mutation correction strategies"
   ]
  },
  {
   "cell_type": "code",
   "execution_count": 1,
   "metadata": {
    "collapsed": false
   },
   "outputs": [],
   "source": [
    "# Import path to source directory (bit of a hack in Jupyter)\n",
    "import sys\n",
    "import os\n",
    "pwd = %pwd\n",
    "sys.path.append(os.path.join(pwd, '../src'))\n",
    "\n",
    "# Ensure modules are reloaded on any change (very useful when developing code on the fly)\n",
    "get_ipython().magic('load_ext autoreload')\n",
    "get_ipython().magic('autoreload 2')"
   ]
  },
  {
   "cell_type": "code",
   "execution_count": 2,
   "metadata": {
    "collapsed": false
   },
   "outputs": [],
   "source": [
    "# Import extrenal librarires\n",
    "import numpy as np\n",
    "import pandas as pd\n",
    "from tqdm import tqdm_notebook\n",
    "\n",
    "# Import our code\n",
    "from heur import FastSimulatedAnnealing\n",
    "from heur_mutations import Correction, MirrorCorrection, ExtensionCorrection, CauchyMutation, GaussMutation\n",
    "from objfun import TSPGrid"
   ]
  },
  {
   "cell_type": "markdown",
   "metadata": {},
   "source": [
    "#### ``TSPGrid(3, 3)`` as referential objection function"
   ]
  },
  {
   "cell_type": "code",
   "execution_count": 3,
   "metadata": {
    "collapsed": true
   },
   "outputs": [],
   "source": [
    "tsp = TSPGrid(3, 3)"
   ]
  },
  {
   "cell_type": "markdown",
   "metadata": {},
   "source": [
    "## Mutation correction strategies\n",
    "\n",
    "They exists, since we need to \"return\" any mutated solution back to the domain.\n",
    "\n",
    "In this case the domain boundaries are:"
   ]
  },
  {
   "cell_type": "code",
   "execution_count": 4,
   "metadata": {
    "collapsed": false
   },
   "outputs": [
    {
     "name": "stdout",
     "output_type": "stream",
     "text": [
      "a = [0 0 0 0 0 0 0 0]\n",
      "b = [7 6 5 4 3 2 1 0]\n"
     ]
    }
   ],
   "source": [
    "print('a = {}'.format(tsp.a))\n",
    "print('b = {}'.format(tsp.b))"
   ]
  },
  {
   "cell_type": "markdown",
   "metadata": {},
   "source": [
    "Let's assume mutated solution `x`:"
   ]
  },
  {
   "cell_type": "code",
   "execution_count": 5,
   "metadata": {
    "collapsed": false
   },
   "outputs": [],
   "source": [
    "x = np.array([9, 2, 0, 1, 3, 2, 1, 0])"
   ]
  },
  {
   "cell_type": "markdown",
   "metadata": {},
   "source": [
    "### 1. Correction by sticking to domain boundaries\n",
    "\n",
    "Implemented by the `Correction` class (in `src/heur_mutations.py`)."
   ]
  },
  {
   "cell_type": "code",
   "execution_count": 6,
   "metadata": {
    "collapsed": false
   },
   "outputs": [
    {
     "data": {
      "text/plain": [
       "array([7, 2, 0, 1, 3, 2, 1, 0])"
      ]
     },
     "execution_count": 6,
     "metadata": {},
     "output_type": "execute_result"
    }
   ],
   "source": [
    "sticky = Correction(tsp)\n",
    "sticky.correct(x)"
   ]
  },
  {
   "cell_type": "markdown",
   "metadata": {},
   "source": [
    "### 2. Correction by periodic domain extension\n",
    "\n",
    "Implemented by the `ExtensionCorrection` class (in `src/heur_mutations.py`)."
   ]
  },
  {
   "cell_type": "code",
   "execution_count": 7,
   "metadata": {
    "collapsed": false
   },
   "outputs": [
    {
     "data": {
      "text/plain": [
       "array([1, 2, 0, 1, 3, 2, 1, 0])"
      ]
     },
     "execution_count": 7,
     "metadata": {},
     "output_type": "execute_result"
    }
   ],
   "source": [
    "extend = ExtensionCorrection(tsp)\n",
    "extend.correct(x)"
   ]
  },
  {
   "cell_type": "markdown",
   "metadata": {},
   "source": [
    "### 3. Correction by mirroing\n",
    "\n",
    "Implemented by the `MirroringCorrection` class (in `src/heur_mutations.py`)."
   ]
  },
  {
   "cell_type": "code",
   "execution_count": 8,
   "metadata": {
    "collapsed": false
   },
   "outputs": [
    {
     "data": {
      "text/plain": [
       "array([5, 2, 0, 1, 3, 2, 1, 0])"
      ]
     },
     "execution_count": 8,
     "metadata": {},
     "output_type": "execute_result"
    }
   ],
   "source": [
    "mirror = MirrorCorrection(tsp)\n",
    "mirror.correct(x)"
   ]
  },
  {
   "cell_type": "markdown",
   "metadata": {},
   "source": [
    "## Mutation strategies\n",
    "\n",
    "Previously, we have used Fast Simulated Annealing directly with the Cauchy mutation, but it should be possible to swap it with any other mutation. And this is true also for other heuristics."
   ]
  },
  {
   "cell_type": "markdown",
   "metadata": {},
   "source": [
    "### 1. Discrete Cauchy mutation\n",
    "\n",
    "Implemented by the `CauchyMutation` class (in `src/heur_mutations.py`)."
   ]
  },
  {
   "cell_type": "code",
   "execution_count": 9,
   "metadata": {
    "collapsed": false
   },
   "outputs": [
    {
     "name": "stdout",
     "output_type": "stream",
     "text": [
      "[0 1 1 0 3 2 0 0]\n",
      "[5 0 0 1 2 2 0 0]\n",
      "[0 0 1 1 3 2 1 0]\n",
      "[0 1 3 2 3 1 1 0]\n",
      "[6 2 0 1 3 2 1 0]\n",
      "[3 2 0 1 3 2 1 0]\n",
      "[0 1 0 2 3 2 1 0]\n",
      "[0 2 0 1 3 1 0 0]\n",
      "[0 1 2 1 2 1 0 0]\n",
      "[0 2 0 3 2 2 1 0]\n"
     ]
    }
   ],
   "source": [
    "cauchy = CauchyMutation(r=0.5, correction=mirror)  # sample initialization\n",
    "for i in range(10):\n",
    "    print(cauchy.mutate([0, 2, 0, 1, 3, 2, 1, 0]))"
   ]
  },
  {
   "cell_type": "markdown",
   "metadata": {},
   "source": [
    "### 2. Discrete Gaussian mutation\n",
    "\n",
    "Implemented by the `GaussMutation` class (in `src/heur_mutations.py`)."
   ]
  },
  {
   "cell_type": "code",
   "execution_count": 10,
   "metadata": {
    "collapsed": false
   },
   "outputs": [
    {
     "name": "stdout",
     "output_type": "stream",
     "text": [
      "[1 2 1 1 2 2 0 0]\n",
      "[1 2 1 0 3 2 1 0]\n",
      "[0 2 1 1 3 2 1 0]\n",
      "[0 2 1 1 3 2 1 0]\n",
      "[1 3 0 2 3 1 1 0]\n",
      "[0 2 0 1 3 2 1 0]\n",
      "[0 1 0 1 2 1 1 0]\n",
      "[0 2 1 2 3 2 0 0]\n",
      "[0 1 1 0 3 1 1 0]\n",
      "[1 2 0 1 3 1 1 0]\n"
     ]
    }
   ],
   "source": [
    "gauss = GaussMutation(sigma=0.5, correction=mirror)  # sample initialization\n",
    "for i in range(10):\n",
    "    print(gauss.mutate([0, 2, 0, 1, 3, 2, 1, 0]))"
   ]
  },
  {
   "cell_type": "markdown",
   "metadata": {},
   "source": [
    "# Assignment\n",
    "\n",
    "* Evaluate performance of different mutations and mutation corrections using FSA on TSP (see previous lecture notebook for referential data)."
   ]
  }
 ],
 "metadata": {
  "kernelspec": {
   "display_name": "Python 3",
   "language": "python",
   "name": "python3"
  },
  "language_info": {
   "codemirror_mode": {
    "name": "ipython",
    "version": 3
   },
   "file_extension": ".py",
   "mimetype": "text/x-python",
   "name": "python",
   "nbconvert_exporter": "python",
   "pygments_lexer": "ipython3",
   "version": "3.5.2"
  }
 },
 "nbformat": 4,
 "nbformat_minor": 0
}
