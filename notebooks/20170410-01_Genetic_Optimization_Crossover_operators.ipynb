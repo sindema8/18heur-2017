{
 "cells": [
  {
   "cell_type": "markdown",
   "metadata": {},
   "source": [
    "# Genetic Optimization - Crossover Operator Generaliztion"
   ]
  },
  {
   "cell_type": "code",
   "execution_count": 1,
   "metadata": {
    "collapsed": false
   },
   "outputs": [],
   "source": [
    "# Import path to source directory (bit of a hack in Jupyter)\n",
    "import sys\n",
    "import os\n",
    "pwd = %pwd\n",
    "sys.path.append(os.path.join(pwd, '../src'))\n",
    "\n",
    "# Ensure modules are reloaded on any change (very useful when developing code on the fly)\n",
    "get_ipython().magic('load_ext autoreload')\n",
    "get_ipython().magic('autoreload 2')"
   ]
  },
  {
   "cell_type": "code",
   "execution_count": 2,
   "metadata": {
    "collapsed": false
   },
   "outputs": [],
   "source": [
    "# Import external libraries\n",
    "import numpy as np\n",
    "import pandas as pd\n",
    "from tqdm import tqdm_notebook\n",
    "\n",
    "# Import our code\n",
    "from heur import GeneticOptimization\n",
    "from heur_mutations import Correction, CauchyMutation\n",
    "from heur_crossovers import Crossover, UniformMultipoint, RandomCombination  # <- new classes!\n",
    "from objfun import TSPGrid"
   ]
  },
  {
   "cell_type": "markdown",
   "metadata": {},
   "source": [
    "**Let's use the well-known ``TSPGrid(3, 3)`` for demonstration purposes**"
   ]
  },
  {
   "cell_type": "code",
   "execution_count": 3,
   "metadata": {
    "collapsed": true
   },
   "outputs": [],
   "source": [
    "tsp = TSPGrid(3, 3)"
   ]
  },
  {
   "cell_type": "markdown",
   "metadata": {},
   "source": [
    "# Three different operators:"
   ]
  },
  {
   "cell_type": "markdown",
   "metadata": {},
   "source": [
    "**First, let's assume these are our parents:**"
   ]
  },
  {
   "cell_type": "code",
   "execution_count": 4,
   "metadata": {
    "collapsed": false
   },
   "outputs": [
    {
     "data": {
      "text/plain": [
       "array([0, 0, 0, 0, 0, 0, 0, 0, 0, 0])"
      ]
     },
     "execution_count": 4,
     "metadata": {},
     "output_type": "execute_result"
    }
   ],
   "source": [
    "x = np.zeros(10, dtype=int)\n",
    "x"
   ]
  },
  {
   "cell_type": "code",
   "execution_count": 5,
   "metadata": {
    "collapsed": false
   },
   "outputs": [
    {
     "data": {
      "text/plain": [
       "array([9, 9, 9, 9, 9, 9, 9, 9, 9, 9])"
      ]
     },
     "execution_count": 5,
     "metadata": {},
     "output_type": "execute_result"
    }
   ],
   "source": [
    "y = 9*np.ones(10, dtype=int)\n",
    "y"
   ]
  },
  {
   "cell_type": "markdown",
   "metadata": {},
   "source": [
    "## 1. Random mix (baseline class)"
   ]
  },
  {
   "cell_type": "code",
   "execution_count": 6,
   "metadata": {
    "collapsed": true
   },
   "outputs": [],
   "source": [
    "co_rnd = Crossover()"
   ]
  },
  {
   "cell_type": "code",
   "execution_count": 7,
   "metadata": {
    "collapsed": false
   },
   "outputs": [
    {
     "data": {
      "text/plain": [
       "array([0, 0, 9, 9, 9, 9, 9, 9, 0, 0])"
      ]
     },
     "execution_count": 7,
     "metadata": {},
     "output_type": "execute_result"
    }
   ],
   "source": [
    "co_rnd.crossover(x, y)"
   ]
  },
  {
   "cell_type": "code",
   "execution_count": 8,
   "metadata": {
    "collapsed": false
   },
   "outputs": [
    {
     "data": {
      "text/plain": [
       "array([0, 9, 9, 0, 9, 0, 9, 9, 9, 9])"
      ]
     },
     "execution_count": 8,
     "metadata": {},
     "output_type": "execute_result"
    }
   ],
   "source": [
    "co_rnd.crossover(x, y)"
   ]
  },
  {
   "cell_type": "code",
   "execution_count": 9,
   "metadata": {
    "collapsed": false
   },
   "outputs": [
    {
     "data": {
      "text/plain": [
       "array([0, 9, 0, 9, 0, 0, 0, 9, 0, 9])"
      ]
     },
     "execution_count": 9,
     "metadata": {},
     "output_type": "execute_result"
    }
   ],
   "source": [
    "co_rnd.crossover(x, y)"
   ]
  },
  {
   "cell_type": "markdown",
   "metadata": {},
   "source": [
    "## 2. Uniform n-point crossover"
   ]
  },
  {
   "cell_type": "code",
   "execution_count": 10,
   "metadata": {
    "collapsed": true
   },
   "outputs": [],
   "source": [
    "co_uni = UniformMultipoint(1)"
   ]
  },
  {
   "cell_type": "code",
   "execution_count": 11,
   "metadata": {
    "collapsed": false
   },
   "outputs": [
    {
     "data": {
      "text/plain": [
       "array([0, 0, 0, 0, 0, 9, 9, 9, 9, 9])"
      ]
     },
     "execution_count": 11,
     "metadata": {},
     "output_type": "execute_result"
    }
   ],
   "source": [
    "co_uni.crossover(x, y)"
   ]
  },
  {
   "cell_type": "markdown",
   "metadata": {},
   "source": [
    "## 3. Random combination"
   ]
  },
  {
   "cell_type": "code",
   "execution_count": 12,
   "metadata": {
    "collapsed": true
   },
   "outputs": [],
   "source": [
    "co_comb = RandomCombination()"
   ]
  },
  {
   "cell_type": "code",
   "execution_count": 13,
   "metadata": {
    "collapsed": false
   },
   "outputs": [
    {
     "data": {
      "text/plain": [
       "array([3, 9, 4, 0, 2, 1, 3, 2, 3, 6])"
      ]
     },
     "execution_count": 13,
     "metadata": {},
     "output_type": "execute_result"
    }
   ],
   "source": [
    "co_comb.crossover(x, y)"
   ]
  },
  {
   "cell_type": "code",
   "execution_count": 14,
   "metadata": {
    "collapsed": false
   },
   "outputs": [
    {
     "data": {
      "text/plain": [
       "array([0, 3, 6, 5, 5, 4, 4, 8, 0, 4])"
      ]
     },
     "execution_count": 14,
     "metadata": {},
     "output_type": "execute_result"
    }
   ],
   "source": [
    "co_comb.crossover(x, y)"
   ]
  },
  {
   "cell_type": "code",
   "execution_count": 15,
   "metadata": {
    "collapsed": false
   },
   "outputs": [
    {
     "data": {
      "text/plain": [
       "array([2, 8, 3, 4, 6, 6, 5, 1, 1, 4])"
      ]
     },
     "execution_count": 15,
     "metadata": {},
     "output_type": "execute_result"
    }
   ],
   "source": [
    "co_comb.crossover(x, y)"
   ]
  },
  {
   "cell_type": "markdown",
   "metadata": {},
   "source": [
    "# Demonstration"
   ]
  },
  {
   "cell_type": "code",
   "execution_count": 16,
   "metadata": {
    "collapsed": true
   },
   "outputs": [],
   "source": [
    "NUM_RUNS = 1000\n",
    "maxeval = 1000"
   ]
  },
  {
   "cell_type": "code",
   "execution_count": 17,
   "metadata": {
    "collapsed": true
   },
   "outputs": [],
   "source": [
    "# prepare battery of crossovers to be tested (with some metadata)\n",
    "crossovers = [\n",
    "    {'crossover': Crossover(), 'name': 'mix'},\n",
    "    {'crossover': UniformMultipoint(1), 'name': 'uni'},  #  test for other n as well!\n",
    "    {'crossover': RandomCombination(), 'name': 'rnd'},\n",
    "]"
   ]
  },
  {
   "cell_type": "code",
   "execution_count": 18,
   "metadata": {
    "collapsed": false
   },
   "outputs": [],
   "source": [
    "# traditional testing procedure setup\n",
    "def experiment_go(of, maxeval, num_runs, N, M, Tsel1, Tsel2, mutation, crossover):\n",
    "    results = []\n",
    "    heur_name = 'GO_{}'.format(crossover['name'])\n",
    "    for i in tqdm_notebook(range(num_runs), 'Testing {}'.format(heur_name)):\n",
    "        result = GeneticOptimization(of, maxeval, N=N, M=M, Tsel1=Tsel1, Tsel2=Tsel2, mutation=mutation, \n",
    "                                     crossover=crossover['crossover']).search()\n",
    "        result['run'] = i\n",
    "        result['heur'] = heur_name\n",
    "        result['crossover'] = crossover['name']\n",
    "        results.append(result)\n",
    "    return pd.DataFrame(results, columns=['heur', 'run', 'crossover', 'best_x', 'best_y', 'neval'])"
   ]
  },
  {
   "cell_type": "code",
   "execution_count": 19,
   "metadata": {
    "collapsed": false
   },
   "outputs": [
    {
     "name": "stdout",
     "output_type": "stream",
     "text": [
      "\n",
      "\n",
      "\n"
     ]
    }
   ],
   "source": [
    "results = pd.DataFrame()\n",
    "for crossover in crossovers:\n",
    "    res = experiment_go(of=tsp, maxeval=maxeval, num_runs=NUM_RUNS, N=5, M=15, Tsel1=1.0, Tsel2=0.2, \n",
    "                        mutation=CauchyMutation(r=1.0, correction=Correction(tsp)), crossover=crossover)\n",
    "    results = pd.concat([results, res], axis=0)"
   ]
  },
  {
   "cell_type": "code",
   "execution_count": 20,
   "metadata": {
    "collapsed": true
   },
   "outputs": [],
   "source": [
    "# from: 20170306_Steepest_descent_vs_Random_descent.ipynb#Overall-statistics\n",
    "def rel(x):\n",
    "    return len([n for n in x if n < np.inf])/len(x)\n",
    "def mne(x):\n",
    "    return np.mean([n for n in x if n < np.inf])\n",
    "def feo(x):\n",
    "    return mne(x)/rel(x)"
   ]
  },
  {
   "cell_type": "code",
   "execution_count": 21,
   "metadata": {
    "collapsed": false
   },
   "outputs": [
    {
     "data": {
      "text/html": [
       "<div>\n",
       "<table border=\"1\" class=\"dataframe\">\n",
       "  <thead>\n",
       "    <tr style=\"text-align: right;\">\n",
       "      <th></th>\n",
       "      <th>heur</th>\n",
       "      <th>crossover</th>\n",
       "      <th>rel</th>\n",
       "      <th>mne</th>\n",
       "      <th>feo</th>\n",
       "    </tr>\n",
       "  </thead>\n",
       "  <tbody>\n",
       "    <tr>\n",
       "      <th>0</th>\n",
       "      <td>GO_mix</td>\n",
       "      <td>mix</td>\n",
       "      <td>0.980</td>\n",
       "      <td>289.781633</td>\n",
       "      <td>295.695544</td>\n",
       "    </tr>\n",
       "    <tr>\n",
       "      <th>1</th>\n",
       "      <td>GO_rnd</td>\n",
       "      <td>rnd</td>\n",
       "      <td>0.965</td>\n",
       "      <td>297.521244</td>\n",
       "      <td>308.312169</td>\n",
       "    </tr>\n",
       "    <tr>\n",
       "      <th>2</th>\n",
       "      <td>GO_uni</td>\n",
       "      <td>uni</td>\n",
       "      <td>0.966</td>\n",
       "      <td>285.171843</td>\n",
       "      <td>295.208947</td>\n",
       "    </tr>\n",
       "  </tbody>\n",
       "</table>\n",
       "</div>"
      ],
      "text/plain": [
       "     heur crossover    rel         mne         feo\n",
       "0  GO_mix       mix  0.980  289.781633  295.695544\n",
       "1  GO_rnd       rnd  0.965  297.521244  308.312169\n",
       "2  GO_uni       uni  0.966  285.171843  295.208947"
      ]
     },
     "execution_count": 21,
     "metadata": {},
     "output_type": "execute_result"
    }
   ],
   "source": [
    "results_pivot = results.pivot_table(\n",
    "    index=['heur', 'crossover'],\n",
    "    values=['neval'],\n",
    "    aggfunc=(rel, mne, feo)\n",
    ")['neval']\n",
    "results_pivot = results_pivot.reset_index()\n",
    "results_pivot.sort_values(by='crossover')"
   ]
  },
  {
   "cell_type": "markdown",
   "metadata": {},
   "source": [
    "## Assignment\n",
    "\n",
    "* Thoroughly test different kinds of GO setup\n",
    "* Could you of any other crossover operator? See e.g. https://en.wikipedia.org/wiki/Crossover_(genetic_algorithm) for inspiration"
   ]
  }
 ],
 "metadata": {
  "kernelspec": {
   "display_name": "Python 3",
   "language": "python",
   "name": "python3"
  },
  "language_info": {
   "codemirror_mode": {
    "name": "ipython",
    "version": 3
   },
   "file_extension": ".py",
   "mimetype": "text/x-python",
   "name": "python",
   "nbconvert_exporter": "python",
   "pygments_lexer": "ipython3",
   "version": "3.5.2"
  }
 },
 "nbformat": 4,
 "nbformat_minor": 0
}
